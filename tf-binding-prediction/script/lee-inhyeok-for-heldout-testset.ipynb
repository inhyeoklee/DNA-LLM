{
 "cells": [
  {
   "cell_type": "markdown",
   "metadata": {},
   "source": [
    "# Test Set Run\n",
    "\n",
    "This notebook loads the pre-trained TF binding prediction model, runs inference on the held-out test sequence dataset (such as `chr22_sequences.txt.gz`), loads the corresponding ground truth scores (such as `chr22_scores.txt.gz`), and calculates the Pearson's R correlation between predictions and ground truth."
   ]
  },
  {
   "cell_type": "markdown",
   "metadata": {},
   "source": [
    "## 1. Library Set-Up"
   ]
  },
  {
   "cell_type": "code",
   "execution_count": null,
   "metadata": {},
   "outputs": [],
   "source": [
    "import torch\n",
    "import torch.nn as nn\n",
    "import pandas as pd\n",
    "import os\n",
    "import numpy as np\n",
    "from scipy.stats import pearsonr"
   ]
  },
  {
   "cell_type": "markdown",
   "metadata": {},
   "source": [
    "## 2. Configuration: Update the directory and file names for held-out test dataset"
   ]
  },
  {
   "cell_type": "code",
   "execution_count": null,
   "metadata": {},
   "outputs": [],
   "source": [
    "DATA_DIR = '../data'\n",
    "SEQ_FILE = os.path.join(DATA_DIR, 'chr22_sequences.txt.gz')\n",
    "SCORE_FILE = os.path.join(DATA_DIR, 'chr22_scores.txt.gz')\n",
    "MODEL_WEIGHTS_FILE = 'lee-inhyeok-model.pth'"
   ]
  },
  {
   "cell_type": "markdown",
   "metadata": {},
   "source": [
    "## 3. Helper Functions"
   ]
  },
  {
   "cell_type": "code",
   "execution_count": null,
   "metadata": {},
   "outputs": [],
   "source": [
    "def one_hot_encode(sequence):\n",
    "    mapping = {'A': 0, 'C': 1, 'G': 2, 'T': 3}\n",
    "    seq_len = len(sequence)\n",
    "    encoded = torch.zeros((4, seq_len), dtype=torch.float32)\n",
    "    for i, base in enumerate(sequence.upper()):\n",
    "        idx = mapping.get(base, -1)\n",
    "        if idx != -1:\n",
    "            encoded[idx, i] = 1.0\n",
    "    return encoded\n",
    "\n",
    "def calculate_pearsonr(preds, targets):\n",
    "    if isinstance(preds, torch.Tensor):\n",
    "        preds = preds.detach().cpu().numpy()\n",
    "    if isinstance(targets, torch.Tensor):\n",
    "        targets = targets.detach().cpu().numpy()\n",
    "        \n",
    "    preds_flat = preds.flatten()\n",
    "    targets_flat = targets.flatten()\n",
    "\n",
    "    valid_indices = np.isfinite(preds_flat) & np.isfinite(targets_flat)\n",
    "    preds_flat = preds_flat[valid_indices]\n",
    "    targets_flat = targets_flat[valid_indices]\n",
    "\n",
    "    if len(preds_flat) < 2:\n",
    "        print(\"Warning: Not enough valid data points to calculate Pearson R.\")\n",
    "        return 0.0\n",
    "\n",
    "    try:\n",
    "        r, p_value = pearsonr(preds_flat, targets_flat)\n",
    "        print(f\"Pearson R p-value: {p_value}\")\n",
    "        return r if np.isfinite(r) else 0.0\n",
    "    except ValueError as e:\n",
    "        print(f\"Error calculating Pearson R: {e}\")\n",
    "        return 0.0"
   ]
  },
  {
   "cell_type": "markdown",
   "metadata": {},
   "source": [
    "## 4. Load Model and Weights"
   ]
  },
  {
   "cell_type": "code",
   "execution_count": null,
   "metadata": {},
   "outputs": [],
   "source": [
    "print(\"Loading TorchScript model...\")\n",
    "model = None\n",
    "model_loaded_successfully = False\n",
    "if torch.backends.mps.is_available():\n",
    "    device = torch.device(\"mps\")\n",
    "    print(\"Using MPS device (Apple Silicon GPU).\")\n",
    "elif torch.cuda.is_available():\n",
    "    device = torch.device(\"cuda\")\n",
    "    print(\"Using CUDA device.\")\n",
    "else:\n",
    "    device = torch.device(\"cpu\")\n",
    "    print(\"Using CPU device.\")\n",
    "\n",
    "try:\n",
    "    model = torch.jit.load(MODEL_WEIGHTS_FILE, map_location=device)\n",
    "    model.to(device)\n",
    "    model.eval()\n",
    "    print(f\"Successfully loaded TorchScript model from {MODEL_WEIGHTS_FILE}\")\n",
    "    model_loaded_successfully = True\n",
    "except FileNotFoundError:\n",
    "    print(f\"Error: Model file not found at {MODEL_WEIGHTS_FILE}. Cannot proceed.\")\n",
    "except Exception as e:\n",
    "    print(f\"Error loading TorchScript model: {e}\")\n",
    "\n",
    "if not model_loaded_successfully:\n",
    "     print(\"Model loading failed. Cannot proceed.\")"
   ]
  },
  {
   "cell_type": "markdown",
   "metadata": {},
   "source": [
    "## 5. Load Sequence and Score Data"
   ]
  },
  {
   "cell_type": "code",
   "execution_count": null,
   "metadata": {},
   "outputs": [],
   "source": [
    "print(\"Loading sequence and score data...\")\n",
    "sequences_df = None\n",
    "scores_df = None\n",
    "data_loaded_successfully = False\n",
    "if model_loaded_successfully:\n",
    "    try:\n",
    "        sequences_df = pd.read_csv(SEQ_FILE, sep=\"\\t\", compression='gzip')\n",
    "        scores_df = pd.read_csv(SCORE_FILE, sep=\"\\t\", compression='gzip')\n",
    "        print(f\"Loaded {len(sequences_df)} sequences and {len(scores_df.columns)} score vectors.\")\n",
    "        \n",
    "        if len(sequences_df) != len(scores_df.columns):\n",
    "            print(f\"Warning: Number of sequences ({len(sequences_df)}) does not match number of score columns ({len(scores_df.columns)}). Ensure they correspond correctly.\")\n",
    "            min_len = min(len(sequences_df), len(scores_df.columns))\n",
    "            sequences_df = sequences_df.iloc[:min_len]\n",
    "            scores_df = scores_df.iloc[:, :min_len]\n",
    "            print(f\"Proceeding with {min_len} sequence/score pairs.\")\n",
    "        elif 'sequence' not in sequences_df.columns:\n",
    "             print(\"Warning: 'sequence' column not found in sequences file.\")\n",
    "             raise ValueError(\"'sequence' column missing from sequence file.\")\n",
    "        else:\n",
    "             data_loaded_successfully = True\n",
    "            \n",
    "    except FileNotFoundError as e:\n",
    "        print(f\"Error: Data file not found. Ensure '{e.filename}' exists in '{DATA_DIR}'.\")\n",
    "    except Exception as e:\n",
    "        print(f\"Error loading or processing data: {e}\")\n",
    "\n",
    "if data_loaded_successfully:\n",
    "    print(\"Data loaded successfully.\")\n",
    "else:\n",
    "    print(\"Data loading failed or was skipped. Cannot proceed with analysis.\")"
   ]
  },
  {
   "cell_type": "markdown",
   "metadata": {},
   "source": [
    "## 6. Prepare Input and Ground Truth Data"
   ]
  },
  {
   "cell_type": "code",
   "execution_count": null,
   "metadata": {},
   "outputs": [],
   "source": [
    "print(\"Preparing input and ground truth data...\")\n",
    "inputs_tensor = None\n",
    "ground_truth_tensor = None\n",
    "\n",
    "if data_loaded_successfully:\n",
    "    try:\n",
    "        all_sequences = sequences_df['sequence'].tolist()\n",
    "        all_inputs_list = [one_hot_encode(seq) for seq in all_sequences]\n",
    "\n",
    "        all_score_tensors = [torch.tensor(scores_df[col].values, dtype=torch.float32) for col in scores_df.columns]\n",
    "\n",
    "        inputs_tensor = torch.stack(all_inputs_list).to(device)\n",
    "        ground_truth_tensor = torch.stack(all_score_tensors).to(device)\n",
    "\n",
    "        print(f\"Prepared {len(all_inputs_list)} inputs and corresponding ground truth scores.\")\n",
    "        print(f\"Input tensor shape: {inputs_tensor.shape}\")\n",
    "        print(f\"Ground truth tensor shape: {ground_truth_tensor.shape}\")\n",
    "        \n",
    "    except Exception as e:\n",
    "        print(f\"Error during data preparation: {e}\")\n",
    "        inputs_tensor = None\n",
    "        ground_truth_tensor = None\n",
    "        data_loaded_successfully = False\n",
    "\n",
    "else:\n",
    "    print(\"Skipping data preparation due to previous loading errors.\")"
   ]
  },
  {
   "cell_type": "markdown",
   "metadata": {},
   "source": [
    "## 7. Predict on the Test Dataset"
   ]
  },
  {
   "cell_type": "code",
   "execution_count": null,
   "metadata": {},
   "outputs": [],
   "source": [
    "print(\"Performing inference on the test dataset...\")\n",
    "predictions = None\n",
    "if model_loaded_successfully and data_loaded_successfully and inputs_tensor is not None:\n",
    "    try:\n",
    "        with torch.no_grad():\n",
    "            predictions = model(inputs_tensor)\n",
    "        print(f\"Inference complete. Prediction tensor shape: {predictions.shape}\")\n",
    "    except Exception as e:\n",
    "        print(f\"Error during inference: {e}\")\n",
    "        predictions = None\n",
    "else:\n",
    "    print(\"Skipping inference due to missing model, data, or prepared input tensor.\")"
   ]
  },
  {
   "cell_type": "markdown",
   "metadata": {},
   "source": [
    "## 8. Calculate Pearson's R Correlation"
   ]
  },
  {
   "cell_type": "code",
   "execution_count": null,
   "metadata": {},
   "outputs": [],
   "source": [
    "print(\"Calculating Pearson's R correlation...\")\n",
    "if predictions is not None and ground_truth_tensor is not None:\n",
    "    if predictions.shape == ground_truth_tensor.shape:\n",
    "        try:\n",
    "            overall_pearson_r = calculate_pearsonr(predictions, ground_truth_tensor)\n",
    "            print(f\"\\nOverall Pearson's R score: {overall_pearson_r:.4f}\")\n",
    "        except Exception as e:\n",
    "            print(f\"Error calculating final Pearson R: {e}\")\n",
    "    else:\n",
    "        print(f\"Error: Shape mismatch between predictions ({predictions.shape}) and ground truth ({ground_truth_tensor.shape}). Cannot calculate correlation.\")\n",
    "        print(\"Please check data loading and preparation steps.\")\n",
    "else:\n",
    "    print(\"Skipping correlation calculation due to missing predictions or ground truth data, or errors during inference.\")"
   ]
  }
 ],
 "metadata": {
  "kernelspec": {
   "display_name": "Python 3",
   "language": "python",
   "name": "python3"
  },
  "language_info": {
   "codemirror_mode": {
    "name": "ipython",
    "version": 3
   },
   "file_extension": ".py",
   "mimetype": "text/x-python",
   "name": "python",
   "nbconvert_exporter": "python",
   "pygments_lexer": "ipython3",
   "version": "3.10.14"
  }
 },
 "nbformat": 4,
 "nbformat_minor": 4
}
