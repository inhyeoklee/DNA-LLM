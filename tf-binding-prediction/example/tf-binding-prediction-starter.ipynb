{
 "cells": [
  {
   "cell_type": "markdown",
   "metadata": {},
   "source": [
    "---\n",
    "title: TF Binding prediction project\n",
    "date: 2025-04-03\n",
    "author: Sofia Salazar\n",
    "categories:\n",
    "    - gene46100\n",
    "    - project\n",
    "    - notebook\n",
    "---"
   ]
  },
  {
   "cell_type": "markdown",
   "metadata": {},
   "source": [
    "# TF binding prediction model\n",
    "\n",
    "The goal of this project is to create a neural network model that predicts TF binding strength in a DNA sequence.\n",
    "\n",
    "To do this, we have extracted 300 base pair-long DNA sequences that have a predicted binding site(s) from a TF, from a couple of chromosomes.\n",
    "\n",
    "The training data is the following:\n",
    "\n",
    "- The sequences files: `chr#_sequences.txt.gz` store the 300 bp-long DNA sequences. A \"window_name\" in the format `chr#_start_end` has been assigned to each one.\n",
    "\n",
    "- The scores files: `chr#_scores.txt.gz` store a 300 bases long vector for each DNA sequence. Each position in these vectors correspond to a the sequence position. The values for each position represent the \"binding score\" that was predicted to that site by [Homer](http://homer.ucsd.edu/homer/motif/index.html), which is a widely used tool to discover motif binding sites for a given TF across the genome.\n",
    "\n",
    "\n",
    "### 1. Read-in the data\n",
    "\n",
    "The data files for a couple of chromosomes are stored in the following [link](https://uchicago.box.com/s/eajhnujlaxnd5441sv3dt73pfoxvgh). Download them to your local folder.\n",
    "\n",
    "Let's explore how the sequence and score data look like:"
   ]
  },
  {
   "cell_type": "code",
   "execution_count": 9,
   "metadata": {},
   "outputs": [],
   "source": [
    "import pandas as pd\n",
    "import matplotlib.pyplot as plt\n",
    "import os\n",
    "import numpy as np"
   ]
  },
  {
   "cell_type": "markdown",
   "metadata": {},
   "source": [
    "Define data paths, this should be changed to your personal paths:"
   ]
  },
  {
   "cell_type": "code",
   "execution_count": null,
   "metadata": {},
   "outputs": [],
   "source": [
    "PROJECT = '/Users/sofiasalazar/Library/CloudStorage/Box-Box/imlab-data/Courses/AI-in-Genomics-2025/'\n",
    "DATA = os.path.join(PROJECT, 'data')"
   ]
  },
  {
   "cell_type": "markdown",
   "metadata": {},
   "source": [
    "**Sequence data for chromosome 22**"
   ]
  },
  {
   "cell_type": "code",
   "execution_count": 4,
   "metadata": {},
   "outputs": [],
   "source": [
    "sequences = pd.read_csv(os.path.join(DATA, 'chr22_sequences.txt.gz'), sep=\"\\t\", compression='gzip')"
   ]
  },
  {
   "cell_type": "code",
   "execution_count": 5,
   "metadata": {},
   "outputs": [
    {
     "data": {
      "text/html": [
       "<div>\n",
       "<style scoped>\n",
       "    .dataframe tbody tr th:only-of-type {\n",
       "        vertical-align: middle;\n",
       "    }\n",
       "\n",
       "    .dataframe tbody tr th {\n",
       "        vertical-align: top;\n",
       "    }\n",
       "\n",
       "    .dataframe thead th {\n",
       "        text-align: right;\n",
       "    }\n",
       "</style>\n",
       "<table border=\"1\" class=\"dataframe\">\n",
       "  <thead>\n",
       "    <tr style=\"text-align: right;\">\n",
       "      <th></th>\n",
       "      <th>sequence</th>\n",
       "      <th>window_name</th>\n",
       "    </tr>\n",
       "  </thead>\n",
       "  <tbody>\n",
       "    <tr>\n",
       "      <th>0</th>\n",
       "      <td>GCAAGACTCAGTCTCAAGGAAAAAAAAAAGCTCGAAAAATGTTTGC...</td>\n",
       "      <td>chr22_10510500_10510799</td>\n",
       "    </tr>\n",
       "    <tr>\n",
       "      <th>1</th>\n",
       "      <td>AATCAAAAAGAATATTAGAAAACAAGCTGACAAAAAAATAAAAAAA...</td>\n",
       "      <td>chr22_10512900_10513199</td>\n",
       "    </tr>\n",
       "    <tr>\n",
       "      <th>2</th>\n",
       "      <td>AGAAAAAGATATAAAGGCATCCAAATTGGAAAGGAAGAAGTAAGTA...</td>\n",
       "      <td>chr22_10514100_10514399</td>\n",
       "    </tr>\n",
       "    <tr>\n",
       "      <th>3</th>\n",
       "      <td>CAAATGGATTGAAGACTTAAATGTAAGAACTAAAGCTGTAAAACTA...</td>\n",
       "      <td>chr22_10515300_10515599</td>\n",
       "    </tr>\n",
       "    <tr>\n",
       "      <th>4</th>\n",
       "      <td>AAAATAGACCTACCATATGATGCAGCAATCCCACTTGTGGGCATTT...</td>\n",
       "      <td>chr22_10515900_10516199</td>\n",
       "    </tr>\n",
       "  </tbody>\n",
       "</table>\n",
       "</div>"
      ],
      "text/plain": [
       "                                            sequence              window_name\n",
       "0  GCAAGACTCAGTCTCAAGGAAAAAAAAAAGCTCGAAAAATGTTTGC...  chr22_10510500_10510799\n",
       "1  AATCAAAAAGAATATTAGAAAACAAGCTGACAAAAAAATAAAAAAA...  chr22_10512900_10513199\n",
       "2  AGAAAAAGATATAAAGGCATCCAAATTGGAAAGGAAGAAGTAAGTA...  chr22_10514100_10514399\n",
       "3  CAAATGGATTGAAGACTTAAATGTAAGAACTAAAGCTGTAAAACTA...  chr22_10515300_10515599\n",
       "4  AAAATAGACCTACCATATGATGCAGCAATCCCACTTGTGGGCATTT...  chr22_10515900_10516199"
      ]
     },
     "execution_count": 5,
     "metadata": {},
     "output_type": "execute_result"
    }
   ],
   "source": [
    "sequences.head()"
   ]
  },
  {
   "cell_type": "code",
   "execution_count": 6,
   "metadata": {},
   "outputs": [
    {
     "data": {
      "text/plain": [
       "(23139, 2)"
      ]
     },
     "execution_count": 6,
     "metadata": {},
     "output_type": "execute_result"
    }
   ],
   "source": [
    "sequences.shape"
   ]
  },
  {
   "cell_type": "markdown",
   "metadata": {},
   "source": [
    "**TF binding scores for chromosome 22**\n",
    "\n",
    "Here, each column has 300 values for each sequence, each value is the TF binding score for each position of the sequence. Most positions have '0' as no motif is predicted to bind at those positions. One motif is a couple of bp-long and all of those bp will have the same score since they belong to the same motif."
   ]
  },
  {
   "cell_type": "code",
   "execution_count": 7,
   "metadata": {},
   "outputs": [],
   "source": [
    "scores = pd.read_csv(os.path.join(DATA, 'chr22_scores.txt.gz'), sep=\"\\t\", compression='gzip')"
   ]
  },
  {
   "cell_type": "code",
   "execution_count": 19,
   "metadata": {},
   "outputs": [
    {
     "data": {
      "text/plain": [
       "array([0.      , 0.      , 0.      , 0.      , 0.      , 0.      ,\n",
       "       0.      , 0.      , 0.      , 0.      , 0.      , 0.      ,\n",
       "       0.      , 0.      , 0.      , 0.      , 0.      , 0.      ,\n",
       "       0.      , 0.      , 0.      , 0.      , 0.      , 0.      ,\n",
       "       0.      , 0.      , 0.      , 0.      , 0.      , 0.      ,\n",
       "       0.      , 0.      , 0.      , 0.      , 0.      , 0.      ,\n",
       "       0.      , 0.      , 0.      , 9.708916, 9.708916, 9.708916,\n",
       "       9.708916, 9.708916, 9.708916, 9.708916, 9.708916, 9.708916,\n",
       "       9.708916, 0.      , 0.      , 0.      , 0.      , 0.      ,\n",
       "       0.      , 0.      , 0.      , 0.      , 0.      , 0.      ,\n",
       "       0.      , 0.      , 0.      , 0.      , 0.      , 0.      ,\n",
       "       0.      , 0.      , 0.      , 0.      , 0.      , 0.      ,\n",
       "       0.      , 0.      , 0.      , 0.      , 0.      , 0.      ,\n",
       "       0.      , 0.      , 0.      , 0.      , 0.      , 0.      ,\n",
       "       0.      , 0.      , 0.      , 0.      , 0.      , 0.      ,\n",
       "       0.      , 0.      , 0.      , 0.      , 0.      , 0.      ,\n",
       "       0.      , 0.      , 0.      , 0.      , 0.      , 0.      ,\n",
       "       0.      , 0.      , 0.      , 0.      , 0.      , 0.      ,\n",
       "       0.      , 0.      , 0.      , 0.      , 0.      , 0.      ,\n",
       "       0.      , 0.      , 0.      , 0.      , 0.      , 0.      ,\n",
       "       0.      , 0.      , 0.      , 0.      , 0.      , 0.      ,\n",
       "       0.      , 0.      , 0.      , 0.      , 0.      , 0.      ,\n",
       "       0.      , 0.      , 0.      , 0.      , 0.      , 0.      ,\n",
       "       0.      , 0.      , 0.      , 0.      , 0.      , 0.      ,\n",
       "       0.      , 0.      , 0.      , 0.      , 0.      , 0.      ,\n",
       "       0.      , 0.      , 0.      , 0.      , 0.      , 0.      ,\n",
       "       0.      , 0.      , 0.      , 0.      , 0.      , 0.      ,\n",
       "       7.859208, 7.859208, 7.859208, 7.859208, 7.859208, 7.859208,\n",
       "       7.859208, 7.859208, 7.859208, 7.859208, 0.      , 0.      ,\n",
       "       0.      , 0.      , 0.      , 0.      , 0.      , 0.      ,\n",
       "       0.      , 0.      , 0.      , 0.      , 0.      , 0.      ,\n",
       "       0.      , 0.      , 0.      , 0.      , 0.      , 0.      ,\n",
       "       0.      , 0.      , 0.      , 0.      , 0.      , 0.      ,\n",
       "       0.      , 0.      , 0.      , 0.      , 0.      , 0.      ,\n",
       "       7.693852, 7.693852, 7.693852, 7.693852, 7.693852, 7.693852,\n",
       "       7.693852, 7.693852, 7.693852, 7.693852, 0.      , 0.      ,\n",
       "       0.      , 0.      , 0.      , 0.      , 0.      , 0.      ,\n",
       "       0.      , 0.      , 0.      , 0.      , 0.      , 0.      ,\n",
       "       0.      , 0.      , 0.      , 0.      , 0.      , 0.      ,\n",
       "       0.      , 0.      , 0.      , 0.      , 0.      , 0.      ,\n",
       "       0.      , 0.      , 0.      , 0.      , 0.      , 0.      ,\n",
       "       0.      , 0.      , 0.      , 0.      , 0.      , 0.      ,\n",
       "       0.      , 0.      , 0.      , 0.      , 0.      , 0.      ,\n",
       "       0.      , 0.      , 0.      , 0.      , 0.      , 0.      ,\n",
       "       0.      , 0.      , 0.      , 0.      , 0.      , 0.      ,\n",
       "       0.      , 0.      , 0.      , 0.      , 0.      , 0.      ,\n",
       "       0.      , 0.      , 0.      , 0.      , 0.      , 0.      ,\n",
       "       0.      , 0.      , 0.      , 0.      , 0.      , 0.      ,\n",
       "       0.      , 0.      , 0.      , 0.      , 0.      , 0.      ,\n",
       "       0.      , 0.      , 0.      , 0.      , 0.      , 0.      ])"
      ]
     },
     "execution_count": 19,
     "metadata": {},
     "output_type": "execute_result"
    }
   ],
   "source": [
    "np.array(scores.iloc[:, 0])"
   ]
  },
  {
   "cell_type": "markdown",
   "metadata": {},
   "source": [
    "Take a look at how these score vectors look like, the blue sections represent the predicted binding sites for this TF:"
   ]
  },
  {
   "cell_type": "code",
   "execution_count": 20,
   "metadata": {},
   "outputs": [
    {
     "data": {
      "image/png": "[encoded data removed]",
      "text/plain": [
       "<Figure size 1200x500 with 1 Axes>"
      ]
     },
     "metadata": {},
     "output_type": "display_data"
    }
   ],
   "source": [
    "x = np.arange(300)\n",
    "bar_width = 0.4\n",
    "plt.figure(figsize=(12, 5))\n",
    "plt.bar(x - bar_width, scores.iloc[:, 0], width=bar_width, label=\"Predicted\", alpha=0.7, color='b')\n",
    "plt.xlabel(\"Position in sequence window\")\n",
    "plt.ylabel(\"Homer score\")\n",
    "plt.grid(axis='y', linestyle='--', alpha=0.6)\n",
    "plt.show()"
   ]
  },
  {
   "cell_type": "markdown",
   "metadata": {},
   "source": [
    "### 2. Model training\n",
    "\n",
    "Now, the goal is to use these sequences to train a neural network model that predicts the scores vectors. Overall, the structure of the code should more or less follow these steps:\n",
    "\n",
    "1. One-hot-encode the DNA sequences\n",
    "\n",
    "2. Split sequences and their corresponding scores into training, test and validation sets\n",
    "\n",
    "3. Build dataloaders for the training and test sets using sequences as predictor features and the scores as targets\n",
    "\n",
    "4. Define a NN model architecture\n",
    "\n",
    "5. Train the model\n",
    "\n",
    "6. Test the model on the test sequences\n",
    "\n",
    "This process will be iterative as you find an optimal set of hyperparameters. Please share your best-performing model and we will test it on a set of held-out-data.\n",
    "\n",
    "**Additional notes**\n",
    "\n",
    "- Note how the scores are values greater than 1, you can try binarizing these values so they are between 0 and 1 and compare between models\n",
    "\n",
    "- To assess performance, you can use the following code to compute correlations between predicted scores and the ground truth\n"
   ]
  },
  {
   "cell_type": "code",
   "execution_count": null,
   "metadata": {},
   "outputs": [],
   "source": [
    "from scipy.stats import pearsonr\n",
    "def plot_comparison(pred, obs):\n",
    "  r_value = pearsonr(pred, obs)\n",
    "  x = np.arange(len(pred))\n",
    "  bar_width = 0.4\n",
    "  plt.figure(figsize=(12, 5))\n",
    "  plt.bar(x - bar_width, pred, width=bar_width, label=\"Predicted\", alpha=0.7, color='b')\n",
    "  plt.bar(x + bar_width, obs, width=bar_width, label=\"Observed\", alpha=0.7, color='r')\n",
    "  plt.xlabel(\"Position sequence window\")\n",
    "  plt.ylabel(\"Value\")\n",
    "  plt.title(\"Comparison of sequence scores\")\n",
    "  plt.legend(title=f\"Pearson R: {r_value:.2f}\")\n",
    "  plt.grid(axis='y', linestyle='--', alpha=0.6)\n",
    "  plt.show()"
   ]
  }
 ],
 "metadata": {
  "kernelspec": {
   "display_name": "torchtools",
   "language": "python",
   "name": "python3"
  },
  "language_info": {
   "codemirror_mode": {
    "name": "ipython",
    "version": 3
   },
   "file_extension": ".py",
   "mimetype": "text/x-python",
   "name": "python",
   "nbconvert_exporter": "python",
   "pygments_lexer": "ipython3",
   "version": "3.12.8"
  }
 },
 "nbformat": 4,
 "nbformat_minor": 2
}
