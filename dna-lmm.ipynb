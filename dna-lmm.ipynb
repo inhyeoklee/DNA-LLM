{
  "cells": [
    {
      "cell_type": "markdown",
      "metadata": {
        "id": "view-in-github",
        "colab_type": "text"
      },
      "source": [
        "<a href=\"https://colab.research.google.com/github/inhyeoklee/DNA-LLM/blob/main/dna-lmm.ipynb\" target=\"_parent\"><img src=\"https://colab.research.google.com/assets/colab-badge.svg\" alt=\"Open In Colab\"/></a>"
      ]
    },
    {
      "cell_type": "markdown",
      "source": [
        "## DEEP LEARNING IN GENOMICS SPRING 2025\n",
        "\n",
        "### gLM TRAINING NOTEBOOK\n",
        "\n",
        "**Authors**: Henry Raeder\n",
        "\n",
        "**Acknowledgement**:\n",
        "\n",
        "\n",
        "\n",
        "*   Andrej Karpathy (nanoGPT model framework)\n",
        "*   Dalla-torre et. al. (Nucleotide Transformer workbook)\n",
        "\n",
        "\n",
        "\n",
        "**Date**: 4/22/2025"
      ],
      "metadata": {
        "id": "Ph02yfsGo2sw"
      }
    },
    {
      "cell_type": "markdown",
      "source": [
        "## Introduction\n",
        "\n",
        "In this notebook, we explore how one can pretrain and fine-tune a basic genomic language model (gLM). As the basis of our model, we use Andrej Karpathy's publicly-available [nanoGPT framework](https://github.com/karpathy/nanoGPT) (with some slight edits). This is a flexible implementation of a basic GPT model (based on GPT-2) that can take generic text as input. Here, we showcase how relatively sophisticated models can be trained efficiently, and how these can be fine-tuned to specific prediction tasks using datasets pulled from the [Nucleotide Transformer training notebook](https://github.com/huggingface/notebooks/blob/main/examples/nucleotide_transformer_dna_sequence_modelling.ipynb) (direct sources will be cited when datasets are introduced). Generally, the goal of this notebook is to provide hands-on experience in working with language models, and give insight into the fundamentals of attention-based deep learning."
      ],
      "metadata": {
        "id": "HLJ2q55Ppc4o"
      }
    },
    {
      "cell_type": "markdown",
      "source": [
        "## Steps\n",
        "\n",
        "This notebook demonstrates how to:\n",
        "\n",
        "\n",
        "*   Tokenize genomic data to be read by a language model\n",
        "*   Train and sample from a generative language model\n",
        "*   Fine-tune a model with additional training to perform specific tasks\n",
        "\n"
      ],
      "metadata": {
        "id": "jDH9sj80sEUc"
      }
    },
    {
      "cell_type": "markdown",
      "source": [
        "## Setup\n",
        "\n",
        "First, it is necessary to connect to the GPU. If you are working in Colab, this can be done in the upper right corner by selecting \"T4 GPU\" as your runtime option.\n",
        "\n",
        "Next, we need to install a few things that help us build and run the model efficiently.\n",
        "\n"
      ],
      "metadata": {
        "id": "eMu472nktUGa"
      }
    },
    {
      "cell_type": "code",
      "execution_count": null,
      "metadata": {
        "id": "ELE7Jqh1vOGN"
      },
      "outputs": [],
      "source": [
        "%%capture\n",
        "!pip install torch numpy transformers datasets tiktoken wandb tqdm biopython huggingface_hub accelerate\n",
        "import os\n",
        "import pickle\n",
        "import requests\n",
        "import numpy as np\n",
        "import math\n",
        "import inspect\n",
        "from dataclasses import dataclass\n",
        "import torch\n",
        "import torch.nn as nn\n",
        "from torch.nn import functional as F\n",
        "import gc\n",
        "import time\n",
        "from contextlib import nullcontext\n",
        "from torch.nn.parallel import DistributedDataParallel as DDP\n",
        "from torch.distributed import init_process_group, destroy_process_group\n",
        "from datasets import load_dataset, Dataset\n",
        "from torch.utils.data import DataLoader, TensorDataset\n",
        "#from transformers import AutoTokenizer, TrainingArguments, Trainer, AutoModelForSequenceClassification\n",
        "from sklearn.metrics import matthews_corrcoef, f1_score\n",
        "from sklearn.model_selection import train_test_split\n",
        "import matplotlib.pyplot as plt"
      ]
    },
    {
      "cell_type": "markdown",
      "metadata": {
        "id": "zcnRMc3RzRX2"
      },
      "source": [
        "## Download and Read the Reference Genome\n",
        "\n",
        "For our training, we will be using the GRCh38 human reference genome (credit to the Genome Reference Consortium: https://www.ncbi.nlm.nih.gov/grc). In the next block, we simply create a place to store our genome in the Colab filesystem and download the genome file remotely."
      ]
    },
    {
      "cell_type": "code",
      "execution_count": null,
      "metadata": {
        "colab": {
          "base_uri": "https://localhost:8080/"
        },
        "id": "aJ4vbp-dwNuJ",
        "outputId": "7994779d-59af-4ad0-aa05-7825bc429212"
      },
      "outputs": [
        {
          "output_type": "stream",
          "name": "stdout",
          "text": [
            "--2025-04-01 18:57:23--  https://hgdownload.soe.ucsc.edu/goldenPath/hg38/bigZips/hg38.fa.gz\n",
            "Resolving hgdownload.soe.ucsc.edu (hgdownload.soe.ucsc.edu)... 128.114.119.163\n",
            "Connecting to hgdownload.soe.ucsc.edu (hgdownload.soe.ucsc.edu)|128.114.119.163|:443... connected.\n",
            "HTTP request sent, awaiting response... 200 OK\n",
            "Length: 983659424 (938M) [application/x-gzip]\n",
            "Saving to: ‘STDOUT’\n",
            "\n",
            "-                   100%[===================>] 938.09M  31.8MB/s    in 46s     \n",
            "\n",
            "2025-04-01 18:58:10 (20.2 MB/s) - written to stdout [983659424/983659424]\n",
            "\n"
          ]
        }
      ],
      "source": [
        "!mkdir /root/data\n",
        "fasta_file = '/root/data/genome.fa'\n",
        "!wget -O - https://hgdownload.soe.ucsc.edu/goldenPath/hg38/bigZips/hg38.fa.gz | gunzip -c > {fasta_file}\n",
        "\n",
        "\"\"\"\n",
        "Prepare the hg38 genomic dataset for character-level language modeling.\n",
        "So instead of encoding with BPE tokens, we just map characters to ints.\n",
        "Will save train.bin, val.bin containing the ids, and meta.pkl containing the\n",
        "encoder and decoder and some other related info.\n",
        "\"\"\"\n",
        "\n",
        "# access the genome dataset\n",
        "input_file_path = os.path.join('/root/data', 'genome.fa')\n"
      ]
    },
    {
      "cell_type": "markdown",
      "metadata": {
        "id": "Pma87lvxzma9"
      },
      "source": [
        "Now that we have the genome file saved locally, we have to read it into our environment in order to make it usable. To do this, we just read in the entire file as one long string, which we can then subset and investigate as we wish. For example, we may want to know the total length of our dataset, and all of the unique characters we have:"
      ]
    },
    {
      "cell_type": "code",
      "execution_count": null,
      "metadata": {
        "colab": {
          "base_uri": "https://localhost:8080/"
        },
        "id": "LD-0C3xYzp4i",
        "outputId": "030a047b-9526-4e98-acc2-e3ac5c85d673"
      },
      "outputs": [
        {
          "output_type": "stream",
          "name": "stdout",
          "text": [
            "length of dataset in characters: 3,273,481,150\n",
            "all the unique characters: \n",
            "0123456789>ABCGHIJKLMNTUXY_acdghlmnortv\n",
            "vocab size: 40\n"
          ]
        }
      ],
      "source": [
        "with open(input_file_path, 'r') as f:\n",
        "    data = f.read()\n",
        "print(f\"length of dataset in characters: {len(data):,}\")\n",
        "\n",
        "# get all the unique characters that occur in this text\n",
        "chars = sorted(list(set(data)))\n",
        "vocab_size = len(chars)\n",
        "print(\"all the unique characters:\", ''.join(chars))\n",
        "print(f\"vocab size: {vocab_size:,}\")"
      ]
    },
    {
      "cell_type": "markdown",
      "source": [
        "Great! The number of characters we have is approximately the same as the number of nucleotides in the human genome (about 3.2 billion), so it looks like our data imported correctly. However, you may notice that we have more characters than just \"A\", \"T\", \"C\", \"G\", and \"N\" as you may expect from genomic data. This is because our text file includes headers for each part of the genome assembly (i.e. chromosomes and fragments).\n",
        "\n",
        "One nice thing about working with a language model is that we don't need to worry about this. Even if the input data is a bit messy, the model is essentially designed to predict the most likely characters based on a general input. Since the headers make up a tiny fraction of the total number of characters, our model will assign a very very low probability to each of the non-ATCGN characters, and they will not influence our outputs."
      ],
      "metadata": {
        "id": "j3nbPvg9yhVu"
      }
    },
    {
      "cell_type": "markdown",
      "metadata": {
        "id": "3yd4mUv7z09R"
      },
      "source": [
        "## Mapping Characters to Integers (i.e. Tokenization)\n",
        "\n",
        "Now that we have our text, we need to put it into a format that is more easily readable for our model. Generally, this process is called Tokenization. There are many different methods for this, and each will impact the performance of the model differently (for example byte pair encoding or non-overlapping kmer tokenization used by other gLMs), but for the purpose of this notebook we will use a simple character-level tokenization. This means that we will simply assign a different integer to each unique character, and then transform our input into a long list of integers to be read by our model:"
      ]
    },
    {
      "cell_type": "code",
      "execution_count": null,
      "metadata": {
        "id": "m27thFjzz72A"
      },
      "outputs": [],
      "source": [
        "# create a mapping from characters to integers\n",
        "stoi = { ch:i for i,ch in enumerate(chars) }\n",
        "itos = { i:ch for i,ch in enumerate(chars) }"
      ]
    },
    {
      "cell_type": "code",
      "execution_count": null,
      "metadata": {
        "id": "E9-U2ndwSfbg"
      },
      "outputs": [],
      "source": [
        "def encode(s):\n",
        "    return [stoi[c] for c in s] # encoder: take a string, output a list of integers\n",
        "def decode(l):\n",
        "    return ''.join([itos[i] for i in l]) # decoder: take a list of integers, output a string"
      ]
    },
    {
      "cell_type": "markdown",
      "metadata": {
        "id": "rFVC3jfZ0Bsi"
      },
      "source": [
        "Now that we have our functions defined, it is time to actually do the tokenization. This will take a few minutes, so go ahead and run the block, and see the description of what it is doing below:"
      ]
    },
    {
      "cell_type": "code",
      "execution_count": null,
      "metadata": {
        "colab": {
          "base_uri": "https://localhost:8080/"
        },
        "id": "7ZeoG40W0Do1",
        "outputId": "a5c68712-1603-492d-ad30-b85caac8d97b"
      },
      "outputs": [
        {
          "output_type": "stream",
          "name": "stdout",
          "text": [
            "Tokenizing: 0% complete\n",
            "Tokenizing: 5% complete\n",
            "Tokenizing: 10% complete\n",
            "Tokenizing: 15% complete\n",
            "Tokenizing: 20% complete\n",
            "Tokenizing: 25% complete\n",
            "Tokenizing: 30% complete\n",
            "Tokenizing: 35% complete\n",
            "Tokenizing: 40% complete\n",
            "Tokenizing: 45% complete\n",
            "Tokenizing: 50% complete\n",
            "Tokenizing: 55% complete\n",
            "Tokenizing: 60% complete\n",
            "Tokenizing: 65% complete\n",
            "Tokenizing: 70% complete\n",
            "Tokenizing: 75% complete\n",
            "Tokenizing: 80% complete\n",
            "Tokenizing: 85% complete\n",
            "Tokenizing: 90% complete\n",
            "Tokenizing: 95% complete\n",
            "train has 2,946,133,035 tokens\n",
            "val has 327,348,115 tokens\n"
          ]
        }
      ],
      "source": [
        "# create the train and test splits\n",
        "n = len(data)\n",
        "train_data = data[:int(n*0.9)]\n",
        "val_data = data[int(n*0.9):]\n",
        "\n",
        "#save memory\n",
        "del data\n",
        "\n",
        "#helper function to store/append data to binary files and save RAM\n",
        "def append_to_binary_file(filename, obj):\n",
        "    with open(filename, 'ab') as file:  # Open in append-binary mode\n",
        "        obj.tofile(file)\n",
        "\n",
        "# encode both to integers\n",
        "ntrain=len(train_data)\n",
        "nval = len(val_data)\n",
        "for i in np.arange(0,1,0.05):\n",
        "  print(f\"Tokenizing: {int(i*100):,}% complete\")\n",
        "  train_ids = encode(train_data[int(ntrain*i):int(ntrain*(i+0.05))])\n",
        "  val_ids = encode(val_data[int(nval*i):int(nval*(i+0.05))])\n",
        "  train_ids = np.array(train_ids, dtype=np.uint16)\n",
        "  val_ids = np.array(val_ids, dtype=np.uint16)\n",
        "  append_to_binary_file(os.path.join('/root/data', 'train.bin'), train_ids)\n",
        "  append_to_binary_file(os.path.join('/root/data', 'val.bin'), val_ids)\n",
        "print(f\"train has {ntrain:,} tokens\")\n",
        "print(f\"val has {nval:,} tokens\")"
      ]
    },
    {
      "cell_type": "markdown",
      "source": [
        "\n",
        "\n",
        "1.   First, we are dividing the genome into a training and testing dataset using a simple 90/10 split.\n",
        "2.   Next, we create a helper function that will help us save the integer lists locally. These end up taking up a lot of space in our Python environment, so it is better to save them to the disk and only access them when needed rather than having them sit and take up RAM.\n",
        "3.   Finally, we actually go through and encode/tokenize our data. Since the dataset is so large, we don't have enough memory to do this all at once in Colab, so we encode our data in batches and then push each new batch to our locally-saved files.\n",
        "\n"
      ],
      "metadata": {
        "id": "JQa7zsjG2W6V"
      }
    },
    {
      "cell_type": "markdown",
      "metadata": {
        "id": "wLoRYqR80R9q"
      },
      "source": [
        "We also want to save some of our metadata (i.e. vocabulary size, and our mappings from characters to integers and back) to pull back in later."
      ]
    },
    {
      "cell_type": "code",
      "execution_count": null,
      "metadata": {
        "id": "DsBvXgTc0Xsw"
      },
      "outputs": [],
      "source": [
        "# save the meta information as well, to help us encode/decode later\n",
        "meta = {\n",
        "    'vocab_size': vocab_size,\n",
        "    'itos': itos,\n",
        "    'stoi': stoi,\n",
        "}\n",
        "with open(os.path.join('/root/data', 'meta.pkl'), 'wb') as f:\n",
        "    pickle.dump(meta, f)"
      ]
    },
    {
      "cell_type": "code",
      "execution_count": null,
      "metadata": {
        "id": "NnSDB2_u_oHS"
      },
      "outputs": [],
      "source": [
        "os.kill(os.getpid(), 9) #If running in a low-memory environment, this will clear our RAM. After this, go run the very first block again!"
      ]
    },
    {
      "cell_type": "markdown",
      "source": [
        "#### Questions:\n",
        "\n",
        "\n",
        "1.   What does each \"token\" in our model represent? I.e. a single base, a stretch of a few bases, some functional region, etc.?\n",
        "2.   What is the purpose of tokenization? Why is it necessary to train our model?\n",
        "\n"
      ],
      "metadata": {
        "id": "ForQvLTm4n4f"
      }
    },
    {
      "cell_type": "markdown",
      "metadata": {
        "id": "OPB9rfrJTg1U"
      },
      "source": [
        "## Creating the Model\n",
        "\n",
        "Now that we have our training data ready to go, it's time to actually create the gLM. First, we define the function we are going to use to do the heavy lifting in the attention layers. We will go into more detail on what we mean by attention during training, but if you are interested in what the implementation looks like, see the block below (and be sure to run it either way!)"
      ]
    },
    {
      "cell_type": "code",
      "source": [
        "#Defining attention function (copied from Pytorch documentation, just need to save weights correctly)\n",
        "def scaled_dot_product_attention(query, key, value, attn_mask=None, dropout_p=0.0, is_causal=False, scale=None):\n",
        "    L, S = query.size(-2), key.size(-2)\n",
        "    scale_factor = 1 / math.sqrt(query.size(-1)) if scale is None else scale\n",
        "    attn_bias = torch.zeros(L, S, dtype=query.dtype, device=query.device)\n",
        "    if is_causal:\n",
        "        assert attn_mask is None\n",
        "        temp_mask = torch.ones(L, S, dtype=torch.bool, device=query.device).tril(diagonal=0)\n",
        "        attn_bias.masked_fill_(temp_mask.logical_not(), float(\"-inf\"))\n",
        "        attn_bias.to(query.dtype)\n",
        "\n",
        "    if attn_mask is not None:\n",
        "        if attn_mask.dtype == torch.bool:\n",
        "            attn_bias.masked_fill_(attn_mask.logical_not(), float(\"-inf\"))\n",
        "        else:\n",
        "            attn_bias += attn_mask\n",
        "    attn_weight = query @ key.transpose(-2, -1) * scale_factor\n",
        "    attn_weight += attn_bias\n",
        "    attn_weight = torch.softmax(attn_weight, dim=-1)\n",
        "    attn_weight = torch.dropout(attn_weight, dropout_p, train=True)\n",
        "    return attn_weight, attn_weight @ value"
      ],
      "metadata": {
        "id": "r84WPswvE8kS"
      },
      "execution_count": null,
      "outputs": []
    },
    {
      "cell_type": "markdown",
      "source": [
        "Now that we have our attention function, it's time to define what our model will look like. This is a lot of code, so we will provide a short summary of what each layer is doing and the order in which they occur. If you are interested in the specifics, feel free to read through the code in detail.\n",
        "\n",
        "The main model is created as a class simply called **GPT**. Within this model, we have a few different types of layers/elements:\n",
        "\n",
        "\n",
        "*   **Embedding**: In our model, we project our relatively simple vocabulary (40 characters) into a higher-dimensional space in order to increase the model's capacity to understand more complex relationships between tokens. This is a bit difficult to visualize, but in essence Embedding layers just perform this projection and return the resulting dictionary to use later in our model. For language models, we usually embed both the tokens and the positions of the tokens, for reasons we will discuss later.\n",
        "*   **LayerNorm**: As the name suggests, this layer simply applies normalization across the input features. This stabilizes the training, as it ensures each feature has a similar scale.\n",
        "*   **Dropout**: Dropout layers randomly zero-out some of the elements in the input tensor. This serves as a form of regularization, and helps avoid overfitting our training data.\n",
        "*   **Causal Self-Attention**: The mechanism of this layer will be described in further detail below, but this is the layer where our model learns the relationship between each of the tokens in the input, which is what gives it predictive power to generate what token will come next.\n",
        "*   **MLP**: One can think of the MLP class as a mini neural network within our model. It is made up of a linear layer, a GELU activation layer, another linear layer, and finally a dropout layer. In short, the MLP element introduces non-linearity into our model, and helps us transform the output of our attention layer back into something we can pass through attention again, and decode into DNA sequence.\n",
        "*   **Block**: This is not really a layer, it is more a sequence of layers. Specifically, we define a block as LayerNorm → Causal Self-Attention → LayerNorm → MLP\n",
        "\n",
        "Now that we have these modules defined, the general outline of our GPT model is as below (assume the outputs of each step are passed to the next):\n",
        "\n",
        "\n",
        "1.   Token and Position Embedding Layers\n",
        "2.   Dropout layer\n",
        "3.   Blocks (repeated $n$ times, i.e. if we want 6 attention layers we will have 6 Blocks)\n",
        "4.   LayerNorm\n",
        "5.   Linear layer to transform embedded outputs back into our vocab size\n",
        "6.   Loss calculation (if training)\n",
        "\n"
      ],
      "metadata": {
        "id": "jGwl1lk6K4JI"
      }
    },
    {
      "cell_type": "code",
      "execution_count": null,
      "metadata": {
        "id": "fn4zjAZcTmLD"
      },
      "outputs": [],
      "source": [
        "\"\"\"\n",
        "Full definition of a GPT Language Model, all of it in this single file.\n",
        "References:\n",
        "1) the official GPT-2 TensorFlow implementation released by OpenAI:\n",
        "https://github.com/openai/gpt-2/blob/master/src/model.py\n",
        "2) huggingface/transformers PyTorch implementation:\n",
        "https://github.com/huggingface/transformers/blob/main/src/transformers/models/gpt2/modeling_gpt2.py\n",
        "\"\"\"\n",
        "gc.collect()\n",
        "\n",
        "class LayerNorm(nn.Module):\n",
        "    \"\"\" LayerNorm but with an optional bias. PyTorch doesn't support simply bias=False \"\"\"\n",
        "\n",
        "    def __init__(self, ndim, bias):\n",
        "        super().__init__()\n",
        "        self.weight = nn.Parameter(torch.ones(ndim))\n",
        "        self.bias = nn.Parameter(torch.zeros(ndim)) if bias else None\n",
        "\n",
        "    def forward(self, input):\n",
        "        return F.layer_norm(input, self.weight.shape, self.weight, self.bias, 1e-5)\n",
        "\n",
        "class CausalSelfAttention(nn.Module):\n",
        "\n",
        "    def __init__(self, config):\n",
        "        super().__init__()\n",
        "        assert config.n_embd % config.n_head == 0\n",
        "        # key, query, value projections for all heads, but in a batch\n",
        "        self.c_attn = nn.Linear(config.n_embd, 3 * config.n_embd, bias=config.bias)\n",
        "        # output projection\n",
        "        self.c_proj = nn.Linear(config.n_embd, config.n_embd, bias=config.bias)\n",
        "        # regularization\n",
        "        self.attn_dropout = nn.Dropout(config.dropout)\n",
        "        self.resid_dropout = nn.Dropout(config.dropout)\n",
        "        self.n_head = config.n_head\n",
        "        self.n_embd = config.n_embd\n",
        "        self.dropout = config.dropout\n",
        "        # flash attention make GPU go brrrrr but support is only in PyTorch >= 2.0\n",
        "        self.flash = hasattr(torch.nn.functional, 'scaled_dot_product_attention')\n",
        "\n",
        "    def forward(self, x):\n",
        "        B, T, C = x.size() # batch size, sequence length, embedding dimensionality (n_embd)\n",
        "\n",
        "        # calculate query, key, values for all heads in batch and move head forward to be the batch dim\n",
        "        q, k, v  = self.c_attn(x).split(self.n_embd, dim=2)\n",
        "        k = k.view(B, T, self.n_head, C // self.n_head).transpose(1, 2) # (B, nh, T, hs)\n",
        "        q = q.view(B, T, self.n_head, C // self.n_head).transpose(1, 2) # (B, nh, T, hs)\n",
        "        v = v.view(B, T, self.n_head, C // self.n_head).transpose(1, 2) # (B, nh, T, hs)\n",
        "\n",
        "        # causal self-attention; Self-attend: (B, nh, T, hs) x (B, nh, hs, T) -> (B, nh, T, T)\n",
        "        if self.flash:\n",
        "            # efficient attention using Flash Attention CUDA kernels\n",
        "            attn_weight, y = scaled_dot_product_attention(q, k, v, attn_mask=None, dropout_p=self.dropout if self.training else 0, is_causal=True)\n",
        "        y = y.transpose(1, 2).contiguous().view(B, T, C) # re-assemble all head outputs side by side\n",
        "\n",
        "        # output projection\n",
        "        y = self.resid_dropout(self.c_proj(y))\n",
        "        return y, torch.mean(attn_weight, dim=0)\n",
        "\n",
        "class MLP(nn.Module):\n",
        "\n",
        "    def __init__(self, config):\n",
        "        super().__init__()\n",
        "        self.c_fc    = nn.Linear(config.n_embd, 4 * config.n_embd, bias=config.bias)\n",
        "        self.gelu    = nn.GELU()\n",
        "        self.c_proj  = nn.Linear(4 * config.n_embd, config.n_embd, bias=config.bias)\n",
        "        self.dropout = nn.Dropout(config.dropout)\n",
        "\n",
        "    def forward(self, x):\n",
        "        x = self.c_fc(x)\n",
        "        x = self.gelu(x)\n",
        "        x = self.c_proj(x)\n",
        "        x = self.dropout(x)\n",
        "        return x\n",
        "\n",
        "class Block(nn.Module):\n",
        "\n",
        "    def __init__(self, config):\n",
        "        super().__init__()\n",
        "        self.ln_1 = LayerNorm(config.n_embd, bias=config.bias)\n",
        "        self.attn = CausalSelfAttention(config)\n",
        "        self.ln_2 = LayerNorm(config.n_embd, bias=config.bias)\n",
        "        self.mlp = MLP(config)\n",
        "\n",
        "    def forward(self, x):\n",
        "        val, attn_weight = self.attn(self.ln_1(x))\n",
        "        x = x + val\n",
        "        x = x + self.mlp(self.ln_2(x))\n",
        "        return x, attn_weight\n",
        "\n",
        "@dataclass\n",
        "class GPTConfig: #Default values for configuration, originally designed to match GPT-2, will override for training\n",
        "    block_size: int = 1024\n",
        "    vocab_size: int = 50304 # GPT-2 vocab_size of 50257, padded up to nearest multiple of 64 for efficiency\n",
        "    n_layer: int = 12\n",
        "    n_head: int = 12\n",
        "    n_embd: int = 768\n",
        "    dropout: float = 0.0\n",
        "    bias: bool = True # True: bias in Linears and LayerNorms, like GPT-2. False: a bit better and faster\n",
        "\n",
        "class GPT(nn.Module):\n",
        "\n",
        "    def __init__(self, config):\n",
        "        super().__init__()\n",
        "        assert config.vocab_size is not None\n",
        "        assert config.block_size is not None\n",
        "        self.config = config\n",
        "\n",
        "        self.transformer = nn.ModuleDict(dict(\n",
        "            wte = nn.Embedding(config.vocab_size, config.n_embd),\n",
        "            wpe = nn.Embedding(config.block_size, config.n_embd),\n",
        "            drop = nn.Dropout(config.dropout),\n",
        "            h = nn.ModuleList([Block(config) for _ in range(config.n_layer)]),\n",
        "            ln_f = LayerNorm(config.n_embd, bias=config.bias),\n",
        "        ))\n",
        "        self.lm_head = nn.Linear(config.n_embd, config.vocab_size, bias=False)\n",
        "        self.transformer.wte.weight = self.lm_head.weight # https://paperswithcode.com/method/weight-tying\n",
        "\n",
        "        # init all weights\n",
        "        self.apply(self._init_weights)\n",
        "        # apply special scaled init to the residual projections, per GPT-2 paper\n",
        "        for pn, p in self.named_parameters():\n",
        "            if pn.endswith('c_proj.weight'):\n",
        "                torch.nn.init.normal_(p, mean=0.0, std=0.02/math.sqrt(2 * config.n_layer))\n",
        "\n",
        "        # report number of parameters\n",
        "        print(\"number of parameters: %.2fM\" % (self.get_num_params()/1e6,))\n",
        "\n",
        "    def get_num_params(self, non_embedding=True):\n",
        "        \"\"\"\n",
        "        Return the number of parameters in the model.\n",
        "        For non-embedding count (default), the position embeddings get subtracted.\n",
        "        The token embeddings would too, except due to the parameter sharing these\n",
        "        params are actually used as weights in the final layer, so we include them.\n",
        "        \"\"\"\n",
        "        n_params = sum(p.numel() for p in self.parameters())\n",
        "        if non_embedding:\n",
        "            n_params -= self.transformer.wpe.weight.numel()\n",
        "        return n_params\n",
        "\n",
        "    def _init_weights(self, module):\n",
        "        if isinstance(module, nn.Linear):\n",
        "            torch.nn.init.normal_(module.weight, mean=0.0, std=0.02)\n",
        "            if module.bias is not None:\n",
        "                torch.nn.init.zeros_(module.bias)\n",
        "        elif isinstance(module, nn.Embedding):\n",
        "            torch.nn.init.normal_(module.weight, mean=0.0, std=0.02)\n",
        "\n",
        "    def forward(self, idx, targets=None):\n",
        "        #device = idx.device\n",
        "        b, t = idx.size()\n",
        "        weight_lst = []\n",
        "        assert t <= self.config.block_size, f\"Cannot forward sequence of length {t}, block size is only {self.config.block_size}\"\n",
        "        pos = torch.arange(0, t, dtype=torch.long, device=device) # shape (t)\n",
        "\n",
        "        # forward the GPT model itself\n",
        "        tok_emb = self.transformer.wte(idx) # token embeddings of shape (b, t, n_embd)\n",
        "        pos_emb = self.transformer.wpe(pos) # position embeddings of shape (t, n_embd)\n",
        "        x = self.transformer.drop(tok_emb + pos_emb)\n",
        "        for block in self.transformer.h:\n",
        "            x, attn_weight = block(x)\n",
        "            weight_lst.append(attn_weight)\n",
        "        x = self.transformer.ln_f(x)\n",
        "\n",
        "        if targets is not None:\n",
        "            # if we are given some desired targets also calculate the loss\n",
        "            logits = self.lm_head(x)\n",
        "            loss = F.cross_entropy(logits.view(-1, logits.size(-1)), targets.view(-1), ignore_index=-1)\n",
        "        else:\n",
        "            # inference-time mini-optimization: only forward the lm_head on the very last position\n",
        "            logits = self.lm_head(x[:, [-1], :]) # note: using list [-1] to preserve the time dim\n",
        "            loss = None\n",
        "\n",
        "        return logits, loss, weight_lst\n",
        "\n",
        "    def crop_block_size(self, block_size):\n",
        "        # model surgery to decrease the block size if necessary\n",
        "        # e.g. we may load the GPT2 pretrained model checkpoint (block size 1024)\n",
        "        # but want to use a smaller block size for some smaller, simpler model\n",
        "        assert block_size <= self.config.block_size\n",
        "        self.config.block_size = block_size\n",
        "        self.transformer.wpe.weight = nn.Parameter(self.transformer.wpe.weight[:block_size])\n",
        "        for block in self.transformer.h:\n",
        "            if hasattr(block.attn, 'bias'):\n",
        "                block.attn.bias = block.attn.bias[:,:,:block_size,:block_size]\n",
        "\n",
        "    def configure_optimizers(self, weight_decay, learning_rate, betas, device_type):\n",
        "        # start with all of the candidate parameters\n",
        "        param_dict = {pn: p for pn, p in self.named_parameters()}\n",
        "        # filter out those that do not require grad\n",
        "        param_dict = {pn: p for pn, p in param_dict.items() if p.requires_grad}\n",
        "        # create optim groups. Any parameters that is 2D will be weight decayed, otherwise no.\n",
        "        # i.e. all weight tensors in matmuls + embeddings decay, all biases and layernorms don't.\n",
        "        decay_params = [p for n, p in param_dict.items() if p.dim() >= 2]\n",
        "        nodecay_params = [p for n, p in param_dict.items() if p.dim() < 2]\n",
        "        optim_groups = [\n",
        "            {'params': decay_params, 'weight_decay': weight_decay},\n",
        "            {'params': nodecay_params, 'weight_decay': 0.0}\n",
        "        ]\n",
        "        num_decay_params = sum(p.numel() for p in decay_params)\n",
        "        num_nodecay_params = sum(p.numel() for p in nodecay_params)\n",
        "        print(f\"num decayed parameter tensors: {len(decay_params)}, with {num_decay_params:,} parameters\")\n",
        "        print(f\"num non-decayed parameter tensors: {len(nodecay_params)}, with {num_nodecay_params:,} parameters\")\n",
        "        # Create AdamW optimizer and use the fused version if it is available\n",
        "        fused_available = 'fused' in inspect.signature(torch.optim.AdamW).parameters\n",
        "        use_fused = fused_available and device_type == 'cuda'\n",
        "        extra_args = dict(fused=True) if use_fused else dict()\n",
        "        optimizer = torch.optim.AdamW(optim_groups, lr=learning_rate, betas=betas, **extra_args)\n",
        "        print(f\"using fused AdamW: {use_fused}\")\n",
        "\n",
        "        return optimizer\n",
        "\n",
        "    def estimate_mfu(self, fwdbwd_per_iter, dt):\n",
        "        \"\"\" estimate model flops utilization (MFU) in units of A100 bfloat16 peak FLOPS \"\"\"\n",
        "        # first estimate the number of flops we do per iteration.\n",
        "        # see PaLM paper Appendix B as ref: https://arxiv.org/abs/2204.02311\n",
        "        N = self.get_num_params()\n",
        "        cfg = self.config\n",
        "        L, H, Q, T = cfg.n_layer, cfg.n_head, cfg.n_embd//cfg.n_head, cfg.block_size\n",
        "        flops_per_token = 6*N + 12*L*H*Q*T\n",
        "        flops_per_fwdbwd = flops_per_token * T\n",
        "        flops_per_iter = flops_per_fwdbwd * fwdbwd_per_iter\n",
        "        # express our flops throughput as ratio of A100 bfloat16 peak flops\n",
        "        flops_achieved = flops_per_iter * (1.0/dt) # per second\n",
        "        flops_promised = 312e12 # A100 GPU bfloat16 peak flops is 312 TFLOPS\n",
        "        mfu = flops_achieved / flops_promised\n",
        "        return mfu\n",
        "\n",
        "    @torch.no_grad()\n",
        "    def generate(self, idx, max_new_tokens, temperature=1.0, top_k=None):\n",
        "        \"\"\"\n",
        "        Take a conditioning sequence of indices idx (LongTensor of shape (b,t)) and complete\n",
        "        the sequence max_new_tokens times, feeding the predictions back into the model each time.\n",
        "        Most likely you'll want to make sure to be in model.eval() mode of operation for this.\n",
        "        \"\"\"\n",
        "        for _ in range(max_new_tokens):\n",
        "            # if the sequence context is growing too long we must crop it at block_size\n",
        "            idx_cond = idx if idx.size(1) <= self.config.block_size else idx[:, -self.config.block_size:]\n",
        "            # forward the model to get the logits for the index in the sequence\n",
        "            logits, _ = self(idx_cond)[:2]\n",
        "            # pluck the logits at the final step and scale by desired temperature\n",
        "            logits = logits[:, -1, :] / temperature\n",
        "            # optionally crop the logits to only the top k options\n",
        "            if top_k is not None:\n",
        "                v, _ = torch.topk(logits, min(top_k, logits.size(-1)))\n",
        "                logits[logits < v[:, [-1]]] = -float('Inf')\n",
        "            # apply softmax to convert logits to (normalized) probabilities\n",
        "            probs = F.softmax(logits, dim=-1)\n",
        "            # sample from the distribution\n",
        "            idx_next = torch.multinomial(probs, num_samples=1)\n",
        "            # append sampled index to the running sequence and continue\n",
        "            idx = torch.cat((idx, idx_next), dim=1)\n",
        "\n",
        "        return idx"
      ]
    },
    {
      "cell_type": "markdown",
      "metadata": {
        "id": "8MYyTsWhUegV"
      },
      "source": [
        "## Training\n",
        "\n",
        "Now that our model constructors are ready, it's time to start training! First, see below for the configuration settings we are using for the model. Most of these are not important for the purposes of this notebook, but just note that we are creating a model with 4 attention layers with 4 heads each (more on that below), our embedding size is 384 (so our vocabulary gets projected into 384-dimensional space), and our block size/context size is 300, so our model will look at 300 bp of sequence as each input. Training will take a while (about 5-10 minutes), so run the code block below and go to the end for a description of the Attention mechanism and a rundown of what our training loop does."
      ]
    },
    {
      "cell_type": "code",
      "execution_count": null,
      "metadata": {
        "id": "utdsu2AaUnkh",
        "colab": {
          "base_uri": "https://localhost:8080/"
        },
        "outputId": "c7a9cda8-2b58-4700-bfe5-9ca2797b9905"
      },
      "outputs": [
        {
          "output_type": "stream",
          "name": "stdout",
          "text": [
            "cuda\n",
            "tokens per iteration will be: 19,200\n",
            "found vocab_size = 40 (inside /root/data/meta.pkl)\n",
            "Initializing a new model from scratch\n",
            "number of parameters: 7.10M\n",
            "num decayed parameter tensors: 18, with 7,208,448 parameters\n",
            "num non-decayed parameter tensors: 9, with 3,456 parameters\n",
            "using fused AdamW: True\n",
            "compiling the model... (takes a ~minute)\n"
          ]
        },
        {
          "output_type": "stream",
          "name": "stderr",
          "text": [
            "<ipython-input-31-03a1a1042406>:125: FutureWarning: `torch.cuda.amp.GradScaler(args...)` is deprecated. Please use `torch.amp.GradScaler('cuda', args...)` instead.\n",
            "  scaler = torch.cuda.amp.GradScaler(enabled=(dtype == 'float16'))\n"
          ]
        },
        {
          "output_type": "stream",
          "name": "stdout",
          "text": [
            "step 0: train loss 3.5630, val loss 3.6028\n",
            "iter 0: loss 3.5876, time 19931.60ms, mfu -100.00%\n",
            "iter 100: loss 1.4037, time 85.69ms, mfu 3.46%\n",
            "iter 200: loss 1.3751, time 99.46ms, mfu 3.41%\n",
            "iter 300: loss 1.3111, time 92.69ms, mfu 3.39%\n",
            "iter 400: loss 1.3133, time 92.03ms, mfu 3.37%\n",
            "iter 500: loss 1.1890, time 91.24ms, mfu 3.36%\n",
            "iter 600: loss 1.2906, time 90.32ms, mfu 3.35%\n",
            "iter 700: loss 1.2479, time 89.76ms, mfu 3.34%\n",
            "iter 800: loss 1.2905, time 90.72ms, mfu 3.34%\n",
            "iter 900: loss 1.2095, time 88.86ms, mfu 3.34%\n",
            "step 1000: train loss 1.2508, val loss 1.1614\n",
            "saving checkpoint to /root/data/out\n",
            "iter 1000: loss 1.2353, time 11279.57ms, mfu 3.00%\n",
            "iter 1100: loss 1.2422, time 88.94ms, mfu 3.04%\n",
            "iter 1200: loss 1.3067, time 91.19ms, mfu 3.06%\n",
            "iter 1300: loss 1.2559, time 92.67ms, mfu 3.07%\n",
            "iter 1400: loss 1.2399, time 90.56ms, mfu 3.09%\n",
            "iter 1500: loss 1.2584, time 90.36ms, mfu 3.11%\n",
            "iter 1600: loss 1.2565, time 90.68ms, mfu 3.13%\n",
            "iter 1700: loss 1.1971, time 89.16ms, mfu 3.14%\n",
            "iter 1800: loss 1.3247, time 91.71ms, mfu 3.15%\n",
            "iter 1900: loss 1.2139, time 89.69ms, mfu 3.17%\n",
            "step 2000: train loss 1.2456, val loss 1.1577\n",
            "saving checkpoint to /root/data/out\n",
            "iter 2000: loss 1.2304, time 12409.21ms, mfu 2.85%\n",
            "iter 2100: loss 1.2305, time 89.56ms, mfu 2.90%\n",
            "iter 2200: loss 1.2011, time 90.76ms, mfu 2.94%\n",
            "iter 2300: loss 1.2465, time 92.00ms, mfu 2.96%\n",
            "iter 2400: loss 1.2904, time 89.87ms, mfu 3.00%\n",
            "iter 2500: loss 1.2453, time 90.12ms, mfu 3.03%\n",
            "iter 2600: loss 1.2385, time 89.10ms, mfu 3.06%\n",
            "iter 2700: loss 1.2236, time 90.87ms, mfu 3.08%\n",
            "iter 2800: loss 1.2914, time 90.63ms, mfu 3.09%\n",
            "iter 2900: loss 1.2816, time 90.23ms, mfu 3.11%\n",
            "step 3000: train loss 1.2273, val loss 1.1346\n",
            "saving checkpoint to /root/data/out\n",
            "iter 3000: loss 1.1750, time 10563.13ms, mfu 2.80%\n",
            "iter 3100: loss 1.2021, time 89.63ms, mfu 2.85%\n",
            "iter 3200: loss 1.2034, time 90.00ms, mfu 2.90%\n",
            "iter 3300: loss 1.2418, time 91.90ms, mfu 2.93%\n",
            "iter 3400: loss 1.2559, time 90.25ms, mfu 2.97%\n",
            "iter 3500: loss 1.2490, time 90.91ms, mfu 2.99%\n",
            "iter 3600: loss 1.2147, time 89.30ms, mfu 3.03%\n",
            "iter 3700: loss 1.2474, time 90.30ms, mfu 3.05%\n",
            "iter 3800: loss 1.2178, time 90.64ms, mfu 3.07%\n",
            "iter 3900: loss 1.2265, time 89.62ms, mfu 3.10%\n",
            "step 4000: train loss 1.2239, val loss 1.1264\n",
            "saving checkpoint to /root/data/out\n",
            "iter 4000: loss 1.2725, time 10871.85ms, mfu 2.79%\n"
          ]
        }
      ],
      "source": [
        "#@title Training Time!\n",
        "\n",
        "gc.collect()\n",
        "# -----------------------------------------------------------------------------\n",
        "# default config values designed to train a gpt on hg38 reference genome\n",
        "# I/O\n",
        "out_dir = '/root/data/out'\n",
        "eval_interval = 1000\n",
        "log_interval = 100\n",
        "eval_iters = 100\n",
        "eval_only = False # if True, script exits right after the first eval\n",
        "always_save_checkpoint = False # if True, always save a checkpoint after each eval\n",
        "init_from = 'scratch' # 'scratch' or 'resume' or 'gpt2*'\n",
        "# wandb logging\n",
        "wandb_log = False # disabled by default\n",
        "wandb_project = 'genome_char'\n",
        "wandb_run_name = 'mini-gpt' # 'run' + str(time.time())\n",
        "# data\n",
        "dataset = 'genome_char'\n",
        "gradient_accumulation_steps = 1 # used to simulate larger batch sizes\n",
        "batch_size = 64 # if gradient_accumulation_steps > 1, this is the micro-batch size\n",
        "block_size = 300\n",
        "# model\n",
        "n_layer = 4\n",
        "n_head = 4\n",
        "n_embd = 384\n",
        "dropout = 0.2 # for pretraining 0 is good, for finetuning try 0.1+\n",
        "bias = False # do we use bias inside LayerNorm and Linear layers?\n",
        "# adamw optimizer\n",
        "learning_rate = 1e-3 # max learning rate\n",
        "max_iters = 4000 # total number of training iterations\n",
        "weight_decay = 1e-1\n",
        "beta1 = 0.9\n",
        "beta2 = 0.99\n",
        "grad_clip = 1.0 # clip gradients at this value, or disable if == 0.0\n",
        "# learning rate decay settings\n",
        "decay_lr = True # whether to decay the learning rate\n",
        "warmup_iters = 100 # how many steps to warm up for\n",
        "lr_decay_iters = 4000 # should be ~= max_iters per Chinchilla\n",
        "min_lr = 1e-4 # minimum learning rate, should be ~= learning_rate/10 per Chinchilla\n",
        "# DDP settings\n",
        "#backend = 'nccl' # 'nccl', 'gloo', etc.\n",
        "# system\n",
        "device = 'cuda' # examples: 'cpu', 'cuda', 'cuda:0', 'cuda:1' etc., or try 'mps' on macbooks\n",
        "dtype = 'float16' if torch.cuda.is_available() and torch.cuda.is_bf16_supported() else 'float16' # 'float32', 'bfloat16', or 'float16', the latter will auto implement a GradScaler\n",
        "if torch.cuda.is_available() and device == 'cuda':\n",
        "    print('cuda')\n",
        "else:\n",
        "    print('CPU')\n",
        "compile = True # use PyTorch 2.0 to compile the model to be faster\n",
        "# -----------------------------------------------------------------------------\n",
        "config_keys = [k for k,v in globals().items() if not k.startswith('_') and isinstance(v, (int, float, bool, str))]\n",
        "#exec(open('configurator.py').read()) # overrides from command line or config file\n",
        "config = {k: globals()[k] for k in config_keys} # will be useful for logging\n",
        "# -----------------------------------------------------------------------------\n",
        "\n",
        "# various inits, derived attributes, I/O setup\n",
        "master_process = True\n",
        "seed_offset = 0\n",
        "ddp_world_size = 1\n",
        "tokens_per_iter = gradient_accumulation_steps * ddp_world_size * batch_size * block_size\n",
        "print(f\"tokens per iteration will be: {tokens_per_iter:,}\")\n",
        "\n",
        "if master_process:\n",
        "    os.makedirs(out_dir, exist_ok=True)\n",
        "torch.manual_seed(1337 + seed_offset)\n",
        "torch.backends.cuda.matmul.allow_tf32 = True # allow tf32 on matmul\n",
        "torch.backends.cudnn.allow_tf32 = True # allow tf32 on cudnn\n",
        "device_type = 'cuda' if 'cuda' in device else 'cpu' # for later use in torch.autocast\n",
        "# note: float16 data type will automatically use a GradScaler\n",
        "ptdtype = {'float32': torch.float32, 'bfloat16': torch.bfloat16, 'float16': torch.float16}[dtype]\n",
        "ctx = nullcontext() if device_type == 'cpu' else torch.amp.autocast(device_type=device_type, dtype=ptdtype)\n",
        "\n",
        "# poor man's data loader\n",
        "data_dir = '/root/data'\n",
        "def get_batch(split):\n",
        "    # We recreate np.memmap every batch to avoid a memory leak, as per\n",
        "    # https://stackoverflow.com/questions/45132940/numpy-memmap-memory-usage-want-to-iterate-once/61472122#61472122\n",
        "    if split == 'train':\n",
        "        data = np.memmap(os.path.join(data_dir, 'train.bin'), dtype=np.uint16, mode='r')\n",
        "    else:\n",
        "        data = np.memmap(os.path.join(data_dir, 'val.bin'), dtype=np.uint16, mode='r')\n",
        "    ix = torch.randint(len(data) - block_size, (batch_size,))\n",
        "    x = torch.stack([torch.from_numpy((data[i:i+block_size]).astype(np.int64)) for i in ix])\n",
        "    y = torch.stack([torch.from_numpy((data[i+1:i+1+block_size]).astype(np.int64)) for i in ix])\n",
        "    if device_type == 'cuda':\n",
        "        # pin arrays x,y, which allows us to move them to GPU asynchronously (non_blocking=True)\n",
        "        x, y = x.pin_memory().to(device, non_blocking=True), y.pin_memory().to(device, non_blocking=True)\n",
        "    else:\n",
        "        x, y = x.to(device), y.to(device)\n",
        "    return x, y\n",
        "\n",
        "# init these up here, can override if init_from='resume' (i.e. from a checkpoint)\n",
        "iter_num = 0\n",
        "best_val_loss = 1e9\n",
        "\n",
        "# attempt to derive vocab_size from the dataset\n",
        "meta_path = os.path.join(data_dir, 'meta.pkl')\n",
        "meta_vocab_size = None\n",
        "if os.path.exists(meta_path):\n",
        "    with open(meta_path, 'rb') as f:\n",
        "        meta = pickle.load(f)\n",
        "    meta_vocab_size = meta['vocab_size']\n",
        "    print(f\"found vocab_size = {meta_vocab_size} (inside {meta_path})\")\n",
        "\n",
        "# model init\n",
        "model_args = dict(n_layer=n_layer, n_head=n_head, n_embd=n_embd, block_size=block_size,\n",
        "                  bias=bias, vocab_size=None, dropout=dropout) # start with model_args from command line\n",
        "if init_from == 'scratch':\n",
        "    # init a new model from scratch\n",
        "    print(\"Initializing a new model from scratch\")\n",
        "    # determine the vocab size we'll use for from-scratch training\n",
        "    if meta_vocab_size is None:\n",
        "        print(\"defaulting to vocab_size of GPT-2 to 50304 (50257 rounded up for efficiency)\")\n",
        "    model_args['vocab_size'] = meta_vocab_size if meta_vocab_size is not None else 50304\n",
        "    gptconf = GPTConfig(**model_args)\n",
        "    model = GPT(gptconf)\n",
        "# crop down the model block size if desired, using model surgery\n",
        "if block_size < model.config.block_size:\n",
        "    model.crop_block_size(block_size)\n",
        "    model_args['block_size'] = block_size # so that the checkpoint will have the right value\n",
        "model.to(device)\n",
        "\n",
        "# initialize a GradScaler. If enabled=False scaler is a no-op\n",
        "scaler = torch.cuda.amp.GradScaler(enabled=(dtype == 'float16'))\n",
        "\n",
        "# optimizer\n",
        "optimizer = model.configure_optimizers(weight_decay, learning_rate, (beta1, beta2), device_type)\n",
        "#if init_from == 'resume':\n",
        "#    optimizer.load_state_dict(checkpoint['optimizer'])\n",
        "checkpoint = None # free up memory\n",
        "\n",
        "# compile the model\n",
        "if compile:\n",
        "    print(\"compiling the model... (takes a ~minute)\")\n",
        "    unoptimized_model = model\n",
        "    model = torch.compile(model) # requires PyTorch 2.0\n",
        "\n",
        "# helps estimate an arbitrarily accurate loss over either split using many batches\n",
        "@torch.no_grad()\n",
        "def estimate_loss():\n",
        "    out = {}\n",
        "    model.eval()\n",
        "    for split in ['train', 'val']:\n",
        "        losses = torch.zeros(eval_iters)\n",
        "        for k in range(eval_iters):\n",
        "            X, Y = get_batch(split)\n",
        "            with ctx:\n",
        "                logits, loss = model(X, Y)[:2]\n",
        "            losses[k] = loss.item()\n",
        "        out[split] = losses.mean()\n",
        "    model.train()\n",
        "    return out\n",
        "\n",
        "# learning rate decay scheduler (cosine with warmup)\n",
        "def get_lr(it):\n",
        "    # 1) linear warmup for warmup_iters steps\n",
        "    if it < warmup_iters:\n",
        "        return learning_rate * it / warmup_iters\n",
        "    # 2) if it > lr_decay_iters, return min learning rate\n",
        "    if it > lr_decay_iters:\n",
        "        return min_lr\n",
        "    # 3) in between, use cosine decay down to min learning rate\n",
        "    decay_ratio = (it - warmup_iters) / (lr_decay_iters - warmup_iters)\n",
        "    assert 0 <= decay_ratio <= 1\n",
        "    coeff = 0.5 * (1.0 + math.cos(math.pi * decay_ratio)) # coeff ranges 0..1\n",
        "    return min_lr + coeff * (learning_rate - min_lr)\n",
        "\n",
        "# logging\n",
        "if wandb_log and master_process:\n",
        "    import wandb\n",
        "    wandb.init(project=wandb_project, name=wandb_run_name, config=config)\n",
        "\n",
        "# training loop\n",
        "X, Y = get_batch('train') # fetch the very first batch\n",
        "t0 = time.time()\n",
        "local_iter_num = 0 # number of iterations in the lifetime of this process\n",
        "raw_model = model\n",
        "running_mfu = -1.0\n",
        "while True:\n",
        "\n",
        "    # determine and set the learning rate for this iteration\n",
        "    lr = get_lr(iter_num) if decay_lr else learning_rate\n",
        "    for param_group in optimizer.param_groups:\n",
        "        param_group['lr'] = lr\n",
        "\n",
        "    # evaluate the loss on train/val sets and write checkpoints\n",
        "    if iter_num % eval_interval == 0 and master_process:\n",
        "        losses = estimate_loss()\n",
        "        print(f\"step {iter_num}: train loss {losses['train']:.4f}, val loss {losses['val']:.4f}\")\n",
        "        if wandb_log:\n",
        "            wandb.log({\n",
        "                \"iter\": iter_num,\n",
        "                \"train/loss\": losses['train'],\n",
        "                \"val/loss\": losses['val'],\n",
        "                \"lr\": lr,\n",
        "                \"mfu\": running_mfu*100, # convert to percentage\n",
        "            })\n",
        "        if losses['val'] < best_val_loss or always_save_checkpoint:\n",
        "            best_val_loss = losses['val']\n",
        "            if iter_num > 0:\n",
        "                checkpoint = {\n",
        "                    'model': raw_model.state_dict(),\n",
        "                    'optimizer': optimizer.state_dict(),\n",
        "                    'model_args': model_args,\n",
        "                    'iter_num': iter_num,\n",
        "                    'best_val_loss': best_val_loss,\n",
        "                    'config': config,\n",
        "                }\n",
        "                print(f\"saving checkpoint to {out_dir}\")\n",
        "                torch.save(checkpoint, os.path.join(out_dir, 'ckpt.pt'))\n",
        "    if iter_num == 0 and eval_only:\n",
        "        break\n",
        "\n",
        "    # forward backward update, with optional gradient accumulation to simulate larger batch size\n",
        "    # and using the GradScaler if data type is float16\n",
        "    for micro_step in range(gradient_accumulation_steps):\n",
        "        with ctx:\n",
        "            logits, loss = model(X, Y)[:2]\n",
        "            loss = loss / gradient_accumulation_steps # scale the loss to account for gradient accumulation\n",
        "        # immediately async prefetch next batch while model is doing the forward pass on the GPU\n",
        "        X, Y = get_batch('train')\n",
        "        # backward pass, with gradient scaling if training in fp16\n",
        "        scaler.scale(loss).backward()\n",
        "    # clip the gradient\n",
        "    if grad_clip != 0.0:\n",
        "        scaler.unscale_(optimizer)\n",
        "        torch.nn.utils.clip_grad_norm_(model.parameters(), grad_clip)\n",
        "    # step the optimizer and scaler if training in fp16\n",
        "    scaler.step(optimizer)\n",
        "    scaler.update()\n",
        "    # flush the gradients as soon as we can, no need for this memory anymore\n",
        "    optimizer.zero_grad(set_to_none=True)\n",
        "\n",
        "    # timing and logging\n",
        "    t1 = time.time()\n",
        "    dt = t1 - t0\n",
        "    t0 = t1\n",
        "    if iter_num % log_interval == 0 and master_process:\n",
        "        # get loss as float. note: this is a CPU-GPU sync point\n",
        "        # scale up to undo the division above, approximating the true total loss (exact would have been a sum)\n",
        "        lossf = loss.item() * gradient_accumulation_steps\n",
        "        if local_iter_num >= 5: # let the training loop settle a bit\n",
        "            mfu = raw_model.estimate_mfu(batch_size * gradient_accumulation_steps, dt)\n",
        "            running_mfu = mfu if running_mfu == -1.0 else 0.9*running_mfu + 0.1*mfu\n",
        "        print(f\"iter {iter_num}: loss {lossf:.4f}, time {dt*1000:.2f}ms, mfu {running_mfu*100:.2f}%\")\n",
        "    iter_num += 1\n",
        "    local_iter_num += 1\n",
        "\n",
        "    # termination conditions\n",
        "    if iter_num > max_iters:\n",
        "        break"
      ]
    },
    {
      "cell_type": "markdown",
      "source": [
        "Now that we've started training, let's talk about Attention. The first paper which outlines the Transformer neural network architecture (which relies heavily on the Attention mechanism and is the basis for most large language models today) is [Attention is All you Need](https://proceedings.neurips.cc/paper_files/paper/2017/file/3f5ee243547dee91fbd053c1c4a845aa-Paper.pdf). This paper describes the application of Attention in a machine translation model, but the underlying ideas can be applied across any model that processes sequences of text.\n",
        "\n",
        "At its core, the Attention mechanism allows us to analyze the pairwise relationship between every token in a given sequence. So, in a very simple example, if you're looking at the sentence \"The cow jumped over the moon\", and you are tokenizing by word, you may expect there to be a strong relationship between \"jumped\" and \"over\" (as one tends to jump over things), but not between the two iterations of \"the\". Below, I describe the actual mechanism behind this in plain language. It will be an oversimplification, but hopefully it can provide some context into what our model is doing.\n",
        "\n",
        "The way we model this using Attention is via Query (Q), Key (K), and Value (V) matrices. In short, the input into the Attention layer goes through three separate matrix multiplication processes with different weights to create Q, K, and V. The idea behind these matrices is that Q represents each position/token in the sequence, and what information each of those positions is \"looking for\". K represents the information that each position contains, and therefore the actual Attention Score is obtained by doing matrix multiplication on Q and K. If two positions are a good match, they will have a higher attention score. The authors of the [Enformer](https://www.nature.com/articles/s41592-021-01252-x) paper provide a good, simplified visualization of this, where darker colors represent a stronger relationship in the Key vector to the given Q position:"
      ],
      "metadata": {
        "id": "sEQih2XlgDEJ"
      }
    },
    {
      "cell_type": "markdown",
      "source": [
        "![Attention_Enformer.JPG, scale=2.0](data:image/jpeg;base64,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)"
      ],
      "metadata": {
        "id": "dxYN-LxQmjwi"
      }
    },
    {
      "cell_type": "markdown",
      "source": [
        "Once we have our Attention score matrix, we then multiply this by the V matrix, which represents the actual information of each token. This puts the Attention scores back into the context of the original token embeddings, which can then be passed to future layers.\n",
        "\n",
        "One thing to note is that this calculation is often done in parallel, across multiple \"heads\" within a single layer. The idea behind this is that each head can learn different weights, and therefore multiple types of relationships between tokens can be represented within the same model. The [Attention is All you Need](https://proceedings.neurips.cc/paper_files/paper/2017/file/3f5ee243547dee91fbd053c1c4a845aa-Paper.pdf) paper provides a good diagram of the Attention process, and what multi-head attention looks like (note that Scaled Dot-Produce Attention is essentially the process we just described):"
      ],
      "metadata": {
        "id": "PBu-5t1AnWX1"
      }
    },
    {
      "cell_type": "markdown",
      "source": [
        "![Attention_Diagram.JPG](data:image/jpeg;base64,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)"
      ],
      "metadata": {
        "id": "bDxFicqqo0gR"
      }
    },
    {
      "cell_type": "markdown",
      "source": [
        "Now that we've defined the Attention mechanism, our training loop is actually pretty straightforward. See below for the steps:\n",
        "\n",
        "\n",
        "1.   Generate a batch from our training data: This consists of sampling a 300 bp sequence out of the genome as our \"data\", then the same 300 bp but shifted over by 1 as our \"labels\". Our batch size is 64, so a single batch will be 64 of these pairs of sequences\n",
        "2.   Plug the batch into our model to calculate loss. Our model is \"causal\", so it tries to predict the next token based on all previous tokens (i.e. data[0] is used to predict label[0], data[0:1] is used to predict label[1], data[0:2] is used to predict label[2], etc.)\n",
        "3.   Once we have calculated the loss (using Cross Entropy Loss), we begin the backward pass and take a step based on the gradients of all of our parameters.\n",
        "4.   Grab another batch and repeat\n",
        "5.   Once we hit the evaluation interval (1000 batches), we pause our model training, and evaluate the average loss over 100 additional batches of the training and validation sets, to get a checkpoint of our model performance\n",
        "6.   If the performance on the validation data is the best we've seen yet, we save this version of the model as a checkpoint to use later.\n",
        "\n",
        "Obviously there is quite a bit more code than just these steps above, but this summary covers all of the functionally important parts. Much of the extra code above is related to making the model run efficiently, keeping track of how long it has been running, ensuring we are allocating GPU/CPU memory correctly, etc.\n",
        "\n",
        "\n",
        "\n"
      ],
      "metadata": {
        "id": "1DAwRG78soO8"
      }
    },
    {
      "cell_type": "markdown",
      "source": [
        "## Sampling from the model\n",
        "\n",
        "Great! Now that we have a trained model, let's see what it can generate it. The code block below simply pulls out the highest-performing version of the model we just trained, and feeds it a newline character to see what it will generate:"
      ],
      "metadata": {
        "id": "0NDvekXYv4-O"
      }
    },
    {
      "cell_type": "markdown",
      "metadata": {
        "id": "l57o1jUVmJuC"
      },
      "source": [
        "Sampling from the model"
      ]
    },
    {
      "cell_type": "code",
      "execution_count": null,
      "metadata": {
        "id": "6f6n74lWmMkO",
        "colab": {
          "base_uri": "https://localhost:8080/"
        },
        "outputId": "4d4193f0-db88-401d-a362-7104e0715aca"
      },
      "outputs": [
        {
          "output_type": "stream",
          "name": "stdout",
          "text": [
            "number of parameters: 7.10M\n",
            "Loading meta from /root/data/meta.pkl...\n",
            "\n",
            "ATGGACCCTGATCCCATTTCTCCTTTGGCTTTTTCAGCTCTGCAGCCTCT\n",
            "CAGGAACAATCAGGAGAAAAGGTCAAAATCCATGTGAAGGGAAACAGACA\n",
            "AGAATGTAACTGAAAAAATGTAATTCAGGCTCTGGGAAACCAGCAGAAGT\n",
            "CTTCTTTTAGTTCTAACCTGTTTTCTCTGAAGATTTTTTTCATATATCCA\n",
            "ATGCAAGCCAGGCTTAAAGTATAGAAACGCTCTGTTTCAGCTTCTT\n",
            "---------------\n",
            "\n",
            "ttctctttttctccaggttccagtttaggccttaaagtatatgaatcggg\n",
            "tatttgctccattatagttacttgttacttttccaagtgacaggtatttg\n",
            "tttagcactccctattacttgtggaaatcatccatttttccttgtttcta\n",
            "tttttttttagacaaaagatgagttaagtctgtcaggctcaggctctgtt\n",
            "gcactctgcactggcaactctcactgcacaagtgctctccctccag\n",
            "---------------\n",
            "\n",
            "AATTTTTACATATTCTTTGCTTTTTTTATCATTTCCTCCTTTTTCCAATT\n",
            "TTTTTCTTTCACATTTAGCAATTTTCACCTAACATTATTTTTTAACTCTA\n",
            "TTTAGGCAATTTAGGCAGAATTGTGAATTAATATGGTTCTTGCTGAAATC\n",
            "ACTTAAAGTAATGAAGAATGGAGAATACAGAATGTAGAAAATATTCTTTT\n",
            "ATTTTTATAGTTATTAGGTTTAATTGACTATTTTCAATATTCCTTA\n",
            "---------------\n",
            "\n",
            "cttctgattgtatctttaaattctttcaatgaaaattccaaaagtgctcc\n",
            "cagtcctttgtgactagcccttctaaagcagtagctagattcaccatcct\n",
            "gtggcacctctcactccctcttgcttccatccctctcctctctcctctct\n",
            "tctctcctctctctctcctcccttctcctcctctctccctccttctccct\n",
            "ccccctttcctcctcttctctcctccccttcctctctttctctttc\n",
            "---------------\n",
            "\n",
            "AGGACAGCAGTATACATTCACTCTTTTCCCTTTTTGGTTTCTACTTCCAT\n",
            "TCAAATTTACACTGTGAGTTACCACAAAAAAGAAATAGTAAAGTTCCATT\n",
            "CCTGTCAAAACTGCATGCAATTTGAAACTCTACTTTTGGATACAAATAGC\n",
            "ACTCCTCCAATTTCATGAAAAGGCTAGGATTTATTTAAACTTTCACATTC\n",
            "TGAGTTTTTTTCTTTCTGGTTCAAAGAAACATCCAAGTCACGCATT\n",
            "---------------\n"
          ]
        }
      ],
      "source": [
        "\"\"\"\n",
        "Sample from a trained model\n",
        "\"\"\"\n",
        "\n",
        "# -----------------------------------------------------------------------------\n",
        "init_from = 'resume' # either 'resume' (from an out_dir) or a gpt2 variant (e.g. 'gpt2-xl')\n",
        "out_dir = '/root/data/out' # ignored if init_from is not 'resume'\n",
        "start = \"\\n\" # or \"<|endoftext|>\" or etc. Can also specify a file, use as: \"FILE:prompt.txt\"\n",
        "num_samples = 5 # number of samples to draw\n",
        "max_new_tokens = 250 # number of tokens generated in each sample\n",
        "temperature = 0.8 # 1.0 = no change, < 1.0 = less random, > 1.0 = more random, in predictions\n",
        "top_k = 200 # retain only the top_k most likely tokens, clamp others to have 0 probability\n",
        "seed = 1337\n",
        "device = 'cuda' # examples: 'cpu', 'cuda', 'cuda:0', 'cuda:1', etc.\n",
        "dtype = 'bfloat16' if torch.cuda.is_available() and torch.cuda.is_bf16_supported() else 'float16' # 'float32' or 'bfloat16' or 'float16'\n",
        "compile = True # use PyTorch 2.0 to compile the model to be faster\n",
        "# -----------------------------------------------------------------------------\n",
        "\n",
        "torch.cuda.init()\n",
        "torch.manual_seed(seed)\n",
        "torch.cuda.manual_seed(seed)\n",
        "torch.backends.cuda.matmul.allow_tf32 = True # allow tf32 on matmul\n",
        "torch.backends.cudnn.allow_tf32 = True # allow tf32 on cudnn\n",
        "device_type = 'cuda' if 'cuda' in device else 'cpu' # for later use in torch.autocast\n",
        "ptdtype = {'float32': torch.float32, 'bfloat16': torch.bfloat16, 'float16': torch.float16}['float16']\n",
        "ctx = nullcontext() if device_type == 'cpu' else torch.amp.autocast(device_type=device_type, dtype=ptdtype)\n",
        "\n",
        "# model\n",
        "if init_from == 'resume':\n",
        "    # init from a model saved in a specific directory\n",
        "    ckpt_path = os.path.join(out_dir, 'ckpt.pt')\n",
        "    checkpoint = torch.load(ckpt_path, map_location=device)\n",
        "    gptconf = GPTConfig(**checkpoint['model_args'])\n",
        "    model = GPT(gptconf)\n",
        "    state_dict = checkpoint['model']\n",
        "    unwanted_prefix = '_orig_mod.'\n",
        "    for k,v in list(state_dict.items()):\n",
        "        if k.startswith(unwanted_prefix):\n",
        "            state_dict[k[len(unwanted_prefix):]] = state_dict.pop(k)\n",
        "    model.load_state_dict(state_dict)\n",
        "\n",
        "model.eval()\n",
        "model.to(device)\n",
        "if compile:\n",
        "    model = torch.compile(model) # requires PyTorch 2.0 (optional)\n",
        "\n",
        "# look for the meta pickle in case it is available in the dataset folder\n",
        "load_meta = False\n",
        "if init_from == 'resume' and 'config' in checkpoint and 'dataset' in checkpoint['config']: # older checkpoints might not have these...\n",
        "    meta_path = os.path.join('/root/data', 'meta.pkl')\n",
        "    load_meta = os.path.exists(meta_path)\n",
        "if load_meta:\n",
        "    print(f\"Loading meta from {meta_path}...\")\n",
        "    with open(meta_path, 'rb') as f:\n",
        "        meta = pickle.load(f)\n",
        "    # TODO want to make this more general to arbitrary encoder/decoder schemes\n",
        "    stoi, itos = meta['stoi'], meta['itos']\n",
        "    encode = lambda s: [stoi[c] for c in s]\n",
        "    decode = lambda l: ''.join([itos[i] for i in l])\n",
        "\n",
        "# encode the beginning of the prompt\n",
        "if start.startswith('FILE:'):\n",
        "    with open(start[5:], 'r', encoding='utf-8') as f:\n",
        "        start = f.read()\n",
        "start_ids = encode(start)\n",
        "x = (torch.tensor(start_ids, dtype=torch.long, device=device)[None, ...])\n",
        "\n",
        "# run generation\n",
        "with torch.no_grad():\n",
        "    with ctx:\n",
        "        for k in range(num_samples):\n",
        "            y = model.generate(x, max_new_tokens, temperature=temperature, top_k=top_k)\n",
        "            print(decode(y[0].tolist()))\n",
        "            print('---------------')"
      ]
    },
    {
      "cell_type": "markdown",
      "source": [
        "And voila, it looks like our model is generating DNA sequence! But, that begs the question, how do we evaluate whether our model is actually performing well? With natural language, it's pretty easy to tell whether an output makes sense or not, but it is not so simple with DNA. Therefore, let's talk about the process of fine-tuning our model for more specific tasks.\n",
        "\n",
        "**Note for those interested**: You may also notice some uppercase and lowercase sequences. This is expected, as in our original file any soft-masked bases (i.e. lower-confidence segments) are lowercase rather than uppercase. The fact that our model is not mixing lower and uppercase bases is a good sign, as these should not be mixed based on sequencing assembly techniques."
      ],
      "metadata": {
        "id": "mNZaeHfewM_6"
      }
    },
    {
      "cell_type": "markdown",
      "source": [
        "#### Questions\n",
        "\n",
        "\n",
        "1.   As mentioned above, our model is using \"causal\" self-attention, meaning that it is only paying attention to the ~300 tokens/base pairs that come before the current one. Does this align with how DNA interacts in a biological sense? Why or why not?\n",
        "2.   What effect do you think adding more attention layers/heads to our model would have? What about training for more epochs? Are there any downsides to expanding our model in this way?\n",
        "3.   What is the difference between the Query, Key, and Value matrices?\n",
        "\n"
      ],
      "metadata": {
        "id": "Q2Iepyzq6MMa"
      }
    },
    {
      "cell_type": "markdown",
      "metadata": {
        "id": "BrhcX1ef-sud"
      },
      "source": [
        "## Fine-Tuning (Promoter Classification)\n",
        "\n",
        "Now that we have our gLM up and running, let's try applying it to two different problems. First, let's look at a promoter classification problem pulled from the [Nucleotide Transformer training notebook](https://github.com/huggingface/notebooks/blob/main/examples/nucleotide_transformer_dna_sequence_modelling.ipynb). In short, this dataset is made up of 300 bp sequences, each labelled as 1 for promoter or 0 for non-promoter. Let's try to train our language model to separate these classes!\n",
        "\n",
        "Note: This data was pulled from the [DeePromoter](https://www.frontiersin.org/journals/genetics/articles/10.3389/fgene.2019.00286/full) paper, as cited below:\n",
        "\n",
        "Oubounyt, M., Louadi, Z., Tayara, H., & Chong, K. T. (2019). DeePromoter: Robust Promoter Predictor Using Deep Learning. Frontiers in Genetics, 10. https://doi.org/10.3389/fgene.2019.00286"
      ]
    },
    {
      "cell_type": "markdown",
      "metadata": {
        "id": "wO4OYDNr_qXv"
      },
      "source": [
        "First, let's actually load in the data:"
      ]
    },
    {
      "cell_type": "code",
      "execution_count": null,
      "metadata": {
        "id": "4DV7pw1j-upF"
      },
      "outputs": [],
      "source": [
        "# Load the promoter dataset from the InstaDeep Hugging Face resources\n",
        "dataset_name = \"promoter_all\"\n",
        "train_dataset_promoter = load_dataset(\n",
        "        \"InstaDeepAI/nucleotide_transformer_downstream_tasks\",\n",
        "        dataset_name,\n",
        "        split=\"train\",\n",
        "        streaming= False,\n",
        "        trust_remote_code=True\n",
        "    )\n",
        "test_dataset_promoter = load_dataset(\n",
        "        \"InstaDeepAI/nucleotide_transformer_downstream_tasks\",\n",
        "        dataset_name,\n",
        "        split=\"test\",\n",
        "        streaming= False,\n",
        "        trust_remote_code=True\n",
        "    )\n",
        "\n",
        "num_labels_promoter = 2"
      ]
    },
    {
      "cell_type": "markdown",
      "source": [
        "Next, let's separate out the labels from the actual DNA sequences, and separate 5% of our training data to use as a validation set (the test set is already separated)."
      ],
      "metadata": {
        "id": "Vl3bDlY10wdY"
      }
    },
    {
      "cell_type": "code",
      "execution_count": null,
      "metadata": {
        "id": "uU8Beo94BHLt"
      },
      "outputs": [],
      "source": [
        "# Get training data\n",
        "train_sequences_promoter = train_dataset_promoter['sequence']\n",
        "train_labels_promoter = train_dataset_promoter['label']\n",
        "\n",
        "# Split the dataset into a training and a validation dataset\n",
        "train_sequences_promoter, validation_sequences_promoter, train_labels_promoter, validation_labels_promoter = train_test_split(train_sequences_promoter,\n",
        "                                                                              train_labels_promoter, test_size=0.05, random_state=42)\n",
        "\n",
        "# Get test data\n",
        "test_sequences_promoter = test_dataset_promoter['sequence']\n",
        "test_labels_promoter = test_dataset_promoter['label']"
      ]
    },
    {
      "cell_type": "markdown",
      "source": [
        "Now, let's take a quick look at what one of these examples looks like:"
      ],
      "metadata": {
        "id": "RDdIekpo1EKc"
      }
    },
    {
      "cell_type": "code",
      "execution_count": null,
      "metadata": {
        "colab": {
          "base_uri": "https://localhost:8080/"
        },
        "id": "LShVOBK0BbiC",
        "outputId": "162832d6-7439-4501-95ff-2bef76d1abbb"
      },
      "outputs": [
        {
          "output_type": "stream",
          "name": "stdout",
          "text": [
            "The DNA sequence is CACACCAGACAAAATTTGGTTAATTTGCGCCCAATATTCATTACTTTGACCTAACCTTTGTTCTGAAGGCCGTGTACAAGGACAAGGCCCTGAGATTATTGCAACAGTAACTTGAAAAACTTTCAGAAGTCTATTCTGTAGGATTAAAGGAATGCTGAGACTATTCAAGTTTGAAGTCCTGGGGGTGGGGAAAAATAAAAAACCTGTGCTAGAAAGCTTAGTATAGCATGTAACTTTAGAGTCCTGTGGAGTCCTGAGTCTCCCACAGACCAGAACAGTCATTTAAAAGTTTTCAGGAAA.\n",
            "Its associated label is label 1.\n",
            "This promoter is a TATA promoter, as the TATA motif is present at the 221st nucleotide.\n"
          ]
        }
      ],
      "source": [
        "idx_sequence = -1\n",
        "sequence, label = train_sequences_promoter[idx_sequence], train_labels_promoter[idx_sequence]\n",
        "print(f\"The DNA sequence is {sequence}.\")\n",
        "print(f\"Its associated label is label {label}.\")\n",
        "\n",
        "idx_TATA = sequence.find(\"TATA\")\n",
        "\n",
        "print(f\"This promoter is a TATA promoter, as the TATA motif is present at the {idx_TATA}st nucleotide.\")"
      ]
    },
    {
      "cell_type": "markdown",
      "metadata": {
        "id": "R4Nyv5xjBken"
      },
      "source": [
        "Now that we have all of our datasets, it is time to tokenize them using the same mapping that we created for our language model. first, we load them into a Dataset object so we can work with them more easily:"
      ]
    },
    {
      "cell_type": "code",
      "execution_count": null,
      "metadata": {
        "id": "-k7EkYwZBmDW"
      },
      "outputs": [],
      "source": [
        "# Promoter dataset\n",
        "ds_train_promoter = Dataset.from_dict({\"data\": train_sequences_promoter,'labels':train_labels_promoter})\n",
        "ds_validation_promoter = Dataset.from_dict({\"data\": validation_sequences_promoter,'labels':validation_labels_promoter})\n",
        "ds_test_promoter = Dataset.from_dict({\"data\": test_sequences_promoter,'labels':test_labels_promoter})"
      ]
    },
    {
      "cell_type": "markdown",
      "source": [
        "Next, we do the actual tokenization. However, remember that our previous encoding function could only handle a single example at a time (since our initial data file was one long string). We define a new tokenizing function below to use the same process, but apply it to multiple separate sequences:"
      ],
      "metadata": {
        "id": "jFRATFaH1eCz"
      }
    },
    {
      "cell_type": "code",
      "execution_count": null,
      "metadata": {
        "colab": {
          "base_uri": "https://localhost:8080/",
          "height": 113,
          "referenced_widgets": [
            "2a9b870265654322be2a63d4ff812dfe",
            "5e9c130c410646e4813b40a6fb3597b1",
            "5f3b654fc40f4b0b8d83568dea1239cd",
            "4bbba4b5bd8b48e891c7bdae396e7488",
            "5a8f1f3fa60142db9fb87f978df994b7",
            "32d80445eaeb4156a24e26ba193fb2f1",
            "373ac7e2f3ca40279710de1eb5020a48",
            "e1fe97f77a924e9dbd5f4224cbe18684",
            "77d274c224a94518b26812ce062effe9",
            "69dc1b78f0c94df98d9fbd35c8bc948a",
            "0000abf1fcc24784856b4540222bff6d",
            "3225536be36741de948c748768aae884",
            "eb29624d75844a9780c3012ca7ba2dc9",
            "613931c3d625432da145ce3cde5a7a58",
            "c62c16210fc743ae8842c1cf9118f0ad",
            "755a2822c8e740538001ae12f516a41d",
            "81f5d6970fa44ff8a2cf8f2a98bd47be",
            "926fd6673e154dc2b3ff34f09bd1a81a",
            "a64a0f215cf54446a64c38add5358ae9",
            "d0d29ef4832f4c51b63490dcd0b7321a",
            "dc37b9e04c8c480a96cdb01f3f543a37",
            "951732f504604f8baf480d7f1760fbd1",
            "8827a52655f34c20b1ad6793dfcfd7dc",
            "e023f192b56545d9b41fdf65337ea505",
            "5d6f089e0b8849dd95af0bcf458919cf",
            "54789985ef0a45629aacd7a334abb4dd",
            "fb43d8ccf9514db58062d592cba297c6",
            "63c6af1ca8104840b0691acd20cdf04c",
            "a085653b4546498cbf8df67855e8a318",
            "3632c4a3e47a421d994625d8a169fd7c",
            "6ab83fc6c9604a849673eec027066ccd",
            "ba58db5153cf4045a855f795d08f7e74",
            "3e778489ec2e4fca8c7322b636c72d45"
          ]
        },
        "id": "QezdA3WIBsCI",
        "outputId": "3c81db75-a653-419a-afbe-967531f4c16c"
      },
      "outputs": [
        {
          "output_type": "display_data",
          "data": {
            "text/plain": [
              "Map:   0%|          | 0/50612 [00:00<?, ? examples/s]"
            ],
            "application/vnd.jupyter.widget-view+json": {
              "version_major": 2,
              "version_minor": 0,
              "model_id": "2a9b870265654322be2a63d4ff812dfe"
            }
          },
          "metadata": {}
        },
        {
          "output_type": "display_data",
          "data": {
            "text/plain": [
              "Map:   0%|          | 0/2664 [00:00<?, ? examples/s]"
            ],
            "application/vnd.jupyter.widget-view+json": {
              "version_major": 2,
              "version_minor": 0,
              "model_id": "3225536be36741de948c748768aae884"
            }
          },
          "metadata": {}
        },
        {
          "output_type": "display_data",
          "data": {
            "text/plain": [
              "Map:   0%|          | 0/5920 [00:00<?, ? examples/s]"
            ],
            "application/vnd.jupyter.widget-view+json": {
              "version_major": 2,
              "version_minor": 0,
              "model_id": "8827a52655f34c20b1ad6793dfcfd7dc"
            }
          },
          "metadata": {}
        }
      ],
      "source": [
        "def tokenize_function(examples):\n",
        "  outputs = np.empty((0, 300), dtype='int16')\n",
        "  for example in examples[\"data\"]:\n",
        "    outputs = np.vstack([outputs, encode(example)])\n",
        "  return {\n",
        "      'input_ids': outputs,\n",
        "      'attention_mask': [1] * len(outputs),\n",
        "  }\n",
        "\n",
        "tokenized_datasets_train_promoter = ds_train_promoter.map(\n",
        "    tokenize_function,\n",
        "    batched=True,\n",
        "    remove_columns=['data'],\n",
        ")\n",
        "tokenized_datasets_validation_promoter = ds_validation_promoter.map(\n",
        "    tokenize_function,\n",
        "    batched=True,\n",
        "    remove_columns=['data'],\n",
        ")\n",
        "tokenized_datasets_test_promoter = ds_test_promoter.map(\n",
        "    tokenize_function,\n",
        "    batched=True,\n",
        "    remove_columns=['data'],\n",
        ")"
      ]
    },
    {
      "cell_type": "markdown",
      "source": [
        "Now that we've tokenized the data, let's load it into Tensor format (which Pytorch uses in its models). Then, we can create a DataLoader, which will automatically create batches of our data and put them into a format which our model can read easily:"
      ],
      "metadata": {
        "id": "ColQkgxV10qF"
      }
    },
    {
      "cell_type": "code",
      "source": [
        "train_dataset = TensorDataset(torch.tensor(tokenized_datasets_train_promoter['input_ids'], device=device),\n",
        "                              torch.tensor(tokenized_datasets_train_promoter['labels'], device=device))\n",
        "train_dataloader = DataLoader(train_dataset, shuffle=True, batch_size=64)\n",
        "\n",
        "validation_dataset = TensorDataset(torch.tensor(tokenized_datasets_validation_promoter['input_ids'], device=device),\n",
        "                              torch.tensor(tokenized_datasets_validation_promoter['labels'], device=device))\n",
        "\n",
        "validation_dataloader = DataLoader(validation_dataset, shuffle=True, batch_size=64)\n",
        "\n",
        "test_dataset = TensorDataset(torch.tensor(tokenized_datasets_test_promoter['input_ids'], device=device),\n",
        "                              torch.tensor(tokenized_datasets_test_promoter['labels'], device=device))\n",
        "\n",
        "test_dataloader = DataLoader(test_dataset, shuffle=False, batch_size=1)"
      ],
      "metadata": {
        "id": "g_VTOX126h7b"
      },
      "execution_count": null,
      "outputs": []
    },
    {
      "cell_type": "markdown",
      "metadata": {
        "id": "bSTs2vTysm-S"
      },
      "source": [
        "In the last step before training, we have to actually define a slightly new type of model. Essentially all we need to do here is add one more linear layer to our old model, which takes the original output and projects it into a two-dimensional output. This means that the \"new\" model will output the probability of the example belonging to each class. To do this, we just create a new model which pulls in our language model and adds the new layer on top:"
      ]
    },
    {
      "cell_type": "code",
      "execution_count": null,
      "metadata": {
        "id": "5LoAF8_asrBf"
      },
      "outputs": [],
      "source": [
        "class ClassificationModel(nn.Module):\n",
        "  def __init__(self, base_model, num_labels):\n",
        "    super(ClassificationModel, self).__init__()\n",
        "    self.orig_model = base_model\n",
        "    self.classifier = nn.Linear(base_model.config.vocab_size, num_labels)\n",
        "    self.num_labels = num_labels\n",
        "\n",
        "  def forward(self, input_ids, labels=None):\n",
        "    outputs = self.orig_model(input_ids)\n",
        "    logits = self.classifier(outputs[0][:, 0, :])\n",
        "    attn_weights = outputs[2]\n",
        "\n",
        "    loss = None\n",
        "    if labels is not None:\n",
        "      loss_fct = nn.CrossEntropyLoss()\n",
        "      loss = loss_fct(logits.view(-1, self.num_labels), labels.view(-1))\n",
        "    return (logits, loss, attn_weights) if loss is not None else (logits, attn_weights)"
      ]
    },
    {
      "cell_type": "markdown",
      "metadata": {
        "id": "g2C9bQ_1NnDR"
      },
      "source": [
        "Now that we have our new model defined, let's pull in the model we trained previously, and use it to create this new 2-label classification model:"
      ]
    },
    {
      "cell_type": "code",
      "execution_count": null,
      "metadata": {
        "id": "kb_k4EGoNlvc",
        "colab": {
          "base_uri": "https://localhost:8080/"
        },
        "outputId": "b01c35d6-fc24-4921-df8c-ddb800d4fa84"
      },
      "outputs": [
        {
          "output_type": "stream",
          "name": "stdout",
          "text": [
            "number of parameters: 7.10M\n"
          ]
        }
      ],
      "source": [
        "# -----------------------------------------------------------------------------\n",
        "init_from = 'resume' # either 'resume' (from an out_dir) or a gpt2 variant (e.g. 'gpt2-xl')\n",
        "out_dir = '/root/data/out' # ignored if init_from is not 'resume'\n",
        "seed = 1337\n",
        "device = 'cuda' # examples: 'cpu', 'cuda', 'cuda:0', 'cuda:1', etc.\n",
        "dtype = 'bfloat16' if torch.cuda.is_available() and torch.cuda.is_bf16_supported() else 'float16' # 'float32' or 'bfloat16' or 'float16'\n",
        "compile = True # use PyTorch 2.0 to compile the model to be faster\n",
        "# -----------------------------------------------------------------------------\n",
        "\n",
        "torch.cuda.init()\n",
        "torch.manual_seed(seed)\n",
        "torch.cuda.manual_seed(seed)\n",
        "torch.backends.cuda.matmul.allow_tf32 = True # allow tf32 on matmul\n",
        "torch.backends.cudnn.allow_tf32 = True # allow tf32 on cudnn\n",
        "device_type = 'cuda' if 'cuda' in device else 'cpu' # for later use in torch.autocast\n",
        "ptdtype = {'float32': torch.float32, 'bfloat16': torch.bfloat16, 'float16': torch.float16}['float16']\n",
        "ctx = nullcontext() if device_type == 'cpu' else torch.amp.autocast(device_type=device_type, dtype=ptdtype)\n",
        "\n",
        "# model\n",
        "if init_from == 'resume':\n",
        "    # init from a model saved in a specific directory\n",
        "    ckpt_path = os.path.join(out_dir, 'ckpt.pt')\n",
        "    checkpoint = torch.load(ckpt_path, map_location=device)\n",
        "    gptconf = GPTConfig(**checkpoint['model_args'])\n",
        "    model = GPT(gptconf)\n",
        "    state_dict = checkpoint['model']\n",
        "    unwanted_prefix = '_orig_mod.'\n",
        "    for k,v in list(state_dict.items()):\n",
        "        if k.startswith(unwanted_prefix):\n",
        "            state_dict[k[len(unwanted_prefix):]] = state_dict.pop(k)\n",
        "    model.load_state_dict(state_dict)\n",
        "\n",
        "new_model = ClassificationModel(base_model=model, num_labels=2)\n",
        "new_model.eval()\n",
        "new_model.to(device)\n",
        "if compile:\n",
        "    new_model = torch.compile(new_model) # requires PyTorch 2.0 (optional)"
      ]
    },
    {
      "cell_type": "markdown",
      "source": [
        "Now, go ahead and run the next block of code to train our new model. Again, this will take about 10 minutes, so go to the next paragraph for a description of what our training is actually doing."
      ],
      "metadata": {
        "id": "17AAFlnpl5kZ"
      }
    },
    {
      "cell_type": "code",
      "execution_count": null,
      "metadata": {
        "id": "0E9zNFq9vfyo",
        "colab": {
          "base_uri": "https://localhost:8080/",
          "height": 715
        },
        "outputId": "f414a536-f8cf-41e1-e982-099e7e56c062"
      },
      "outputs": [
        {
          "output_type": "stream",
          "name": "stdout",
          "text": [
            "Epoch 0, Batch 99, Train Loss: 1.1063430405626393, Val Loss: 0.6231417059898376, Val F1: 0.6400310318076028\n",
            "Epoch 0, Batch 199, Train Loss: 0.6487831079959869, Val Loss: 0.5760113000869751, Val F1: 0.6394148020654045\n",
            "Epoch 0, Batch 299, Train Loss: 0.5738660246133804, Val Loss: 0.5623756718067896, Val F1: 0.580917237743806\n",
            "Epoch 0, Batch 399, Train Loss: 0.48655192732810976, Val Loss: 0.5180567063036419, Val F1: 0.6560951437066403\n",
            "Epoch 0, Batch 499, Train Loss: 0.43198314726352693, Val Loss: 0.6837071414504733, Val F1: 0.5966209081309398\n",
            "Epoch 0, Batch 599, Train Loss: 0.3338544069230556, Val Loss: 0.6534176901692436, Val F1: 0.6913214990138067\n",
            "Epoch 0, Batch 699, Train Loss: 0.28144210785627366, Val Loss: 0.7827847940581185, Val F1: 0.6696741854636592\n",
            "Epoch 1, Batch 99, Train Loss: 0.2596805543097526, Val Loss: 0.6212598060568174, Val F1: 0.7100534239922293\n",
            "Epoch 1, Batch 199, Train Loss: 0.23270934507250784, Val Loss: 0.45308178734211696, Val F1: 0.8003613369467029\n",
            "Epoch 1, Batch 299, Train Loss: 0.23299828328192235, Val Loss: 0.5781339882385164, Val F1: 0.7483506126295947\n",
            "Epoch 1, Batch 399, Train Loss: 0.21502869553864, Val Loss: 0.5881830872524352, Val F1: 0.746817538896747\n",
            "Epoch 1, Batch 499, Train Loss: 0.21317720532417297, Val Loss: 0.665309822275525, Val F1: 0.7388414055080722\n",
            "Epoch 1, Batch 599, Train Loss: 0.22038329772651197, Val Loss: 0.5139519678694862, Val F1: 0.7863013698630137\n",
            "Epoch 1, Batch 699, Train Loss: 0.20898218870162963, Val Loss: 0.4023616947233677, Val F1: 0.8307692307692308\n"
          ]
        },
        {
          "output_type": "display_data",
          "data": {
            "text/plain": [
              "<Figure size 640x480 with 1 Axes>"
            ],
            "image/png": "[encoded data removed]"
          },
          "metadata": {}
        }
      ],
      "source": [
        "optimizer = torch.optim.AdamW(new_model.parameters(), lr=2e-5)\n",
        "num_epochs=2\n",
        "total_steps = len(train_dataloader) * num_epochs\n",
        "\n",
        "def calc_f1(predictions, true_labels):\n",
        "    true_pos = 0\n",
        "    false_pos = 0\n",
        "    false_neg = 0\n",
        "    true_neg = 0\n",
        "    for i in np.arange(len(predictions)) :\n",
        "        if predictions[i] == 0 and true_labels[i] == 0:\n",
        "            true_neg += 1\n",
        "        if predictions[i] == 1 and true_labels[i] == 0:\n",
        "            false_pos += 1\n",
        "        if predictions[i] == 0 and true_labels[i] == 1:\n",
        "            false_neg += 1\n",
        "        if predictions[i] == 1 and true_labels[i] == 1:\n",
        "            true_pos += 1\n",
        "    precision = true_pos / (true_pos + false_pos) if true_pos + false_pos > 0 else 0\n",
        "    recall = true_pos / (true_pos + false_neg)\n",
        "    F1 = (2*precision*recall / (precision + recall))\n",
        "    return F1\n",
        "\n",
        "val_predictions = []\n",
        "val_true_labels = []\n",
        "\n",
        "#Training Loop\n",
        "loss_lst = []\n",
        "val_loss_lst = []\n",
        "f1_scores = []\n",
        "new_model.train()\n",
        "for epoch in range(num_epochs):\n",
        "    i = 0\n",
        "    for batch in train_dataloader:\n",
        "        input_ids, labels = batch\n",
        "        optimizer.zero_grad()\n",
        "\n",
        "        # Forward pass\n",
        "        outputs = new_model(input_ids, labels=labels)\n",
        "        loss = outputs[1]\n",
        "        loss_lst.append(loss.item())\n",
        "\n",
        "        # Backward pass and optimization\n",
        "        loss.backward()\n",
        "        optimizer.step()\n",
        "        i += 1\n",
        "        if i % 100 == 99:\n",
        "            new_model.eval()\n",
        "            with torch.no_grad():\n",
        "                for val_batch in validation_dataloader:\n",
        "                    val_input_ids, val_labels = val_batch\n",
        "                    optimizer.zero_grad()\n",
        "                    val_outputs = new_model(val_input_ids, labels=val_labels)\n",
        "                    val_loss = val_outputs[1]\n",
        "                    val_loss_lst.append(val_loss.item())\n",
        "                    val_logits = val_outputs[0]  # Get the logits\n",
        "                    val_predictions.append(val_logits)\n",
        "                    val_true_labels.append(val_labels)\n",
        "                val_predictions = torch.cat(val_predictions, dim=0)\n",
        "                val_true_labels = torch.cat(val_true_labels, dim=0)\n",
        "                val_predictions = torch.argmax(val_predictions, dim=1).tolist()\n",
        "                val_true_labels = val_true_labels.tolist()\n",
        "                f1_scores.append(calc_f1(val_predictions, val_true_labels))\n",
        "            print(f\"Epoch {epoch}, Batch {i}, Train Loss: {np.mean(loss_lst)}, Val Loss: {np.mean(val_loss_lst)}, Val F1: {calc_f1(val_predictions, val_true_labels)}\")\n",
        "            loss_lst = []\n",
        "            val_loss_lst = []\n",
        "            new_model.train()\n",
        "            val_predictions = []\n",
        "            val_true_labels = []\n",
        "\n",
        "plt.plot(f1_scores, label='Validation F1 score')\n",
        "plt.title(\"Validation F1 score for promoter prediction\")\n",
        "plt.xlabel(\"Batch\")\n",
        "plt.ylabel(\"F1 score\")\n",
        "plt.legend()\n",
        "plt.show()"
      ]
    },
    {
      "cell_type": "markdown",
      "metadata": {
        "id": "4OrabgmlvduS"
      },
      "source": [
        "With this new model, we want to be able to classify promoter sequences. But, how do we do this when our base model has already been trained on a different task? The answer lies in a process called **fine-tuning**. This is where you take a pre-trained model, and train it again to perform better on a specific task. In this case, we are relying on the fact that our model already understands the intrinsic relationships in genomic sequences well, and are just shifting its goal. Rather than predicting future genomic sequence, we want it to apply its \"knowledge\" of sequences to predict whether they are promoters or not.\n",
        "\n",
        "For language models, oftentimes fine-tuning tasks are much simpler than the initial learning process (and we assume that the layers of our model other than the new classification layer are already trained), so we usually use a much smaller learning rate (in this case $2e^{-5}$ and fewer training iterations. This is not always true, but it is a good rule of thumb. There are many options you have to optimize fine-tuning, including freezing various layers so that their weights are not updated, using different learning rates for different layers, and much more. But, for the purposes of this notebook, we are simply going to fine-tune the entire model.\n",
        "\n",
        "Our training loop is very similar here, but even simpler than our initial training:\n",
        "\n",
        "\n",
        "1.   Take a batch from the training dataloader and pass it through the model to get loss\n",
        "2.   Do the backward pass, and have our optimizer adjust weights according to each parameter's gradient and the learning rate\n",
        "3.   Repeat for all batches\n",
        "4.   Every 100 batches, run all validation samples through the model and calculate an average loss and F1 score (a metric for classification performance) for tracking purposes\n",
        "\n"
      ]
    },
    {
      "cell_type": "markdown",
      "source": [
        "Now that we've trained our model, let's run the test data through it and see how it performs. While we do so, let's also look at the attention weights for a specific test sample, and try to get some idea of what our model is doing:"
      ],
      "metadata": {
        "id": "8GGcroWusKnk"
      }
    },
    {
      "cell_type": "code",
      "execution_count": null,
      "metadata": {
        "id": "6uXyMZyg8ZNl",
        "colab": {
          "base_uri": "https://localhost:8080/",
          "height": 1000
        },
        "outputId": "418482af-5782-43e2-81e9-fd6be933b3ba"
      },
      "outputs": [
        {
          "output_type": "display_data",
          "data": {
            "text/plain": [
              "<Figure size 1000x600 with 4 Axes>"
            ],
            "image/png": "[encoded data removed]"
          },
          "metadata": {}
        },
        {
          "output_type": "display_data",
          "data": {
            "text/plain": [
              "<Figure size 1000x600 with 4 Axes>"
            ],
            "image/png": "[encoded data removed]"
          },
          "metadata": {}
        }
      ],
      "source": [
        "new_model.eval()  # Set the model to evaluation mode\n",
        "\n",
        "predictions = []\n",
        "true_labels = []\n",
        "i = 0\n",
        "\n",
        "with torch.no_grad():  # Disable gradient calculation for inference\n",
        "    for batch in test_dataloader:\n",
        "        input_ids, labels = batch\n",
        "        outputs = new_model(input_ids)\n",
        "        logits = outputs[0]  # Get the logits\n",
        "        predictions.append(torch.argmax(logits).item())\n",
        "        true_labels.append(labels.item())\n",
        "        if i == 3000:\n",
        "            l = 0\n",
        "            fig, axs = plt.subplots(2, 2)\n",
        "            x = np.arange(2)\n",
        "            y = np.arange(2)\n",
        "            for j in x:\n",
        "                for k in y:\n",
        "                    axs[j,k].imshow(outputs[1][0][l].cpu().detach().numpy(), cmap='gist_stern', interpolation='nearest')\n",
        "                    l += 1\n",
        "            fig.set_figwidth(10)\n",
        "            fig.set_figheight(6)\n",
        "            fig.suptitle(\"Attention weights of Each Head in Layer 0\")\n",
        "            plt.show()\n",
        "            l = 0\n",
        "            fig, axs = plt.subplots(2, 2)\n",
        "            x = np.arange(2)\n",
        "            y = np.arange(2)\n",
        "            for j in x:\n",
        "                for k in y:\n",
        "                    axs[j,k].imshow(torch.mean(outputs[1][l], dim=0).cpu().detach().numpy(), cmap='gist_stern', interpolation='nearest')\n",
        "                    l += 1\n",
        "            fig.set_figwidth(10)\n",
        "            fig.set_figheight(6)\n",
        "            fig.suptitle(\"Attention Weights of Each Layer Averaged Across Heads\")\n",
        "            plt.show()\n",
        "        i += 1"
      ]
    },
    {
      "cell_type": "code",
      "execution_count": null,
      "metadata": {
        "colab": {
          "base_uri": "https://localhost:8080/"
        },
        "id": "UHdb8DmfbvUt",
        "outputId": "3e86fb5b-d94a-40c4-8ef2-98a34d201845"
      },
      "outputs": [
        {
          "output_type": "stream",
          "name": "stdout",
          "text": [
            "Accuracy:87%\n",
            "Precision: 1.0\n",
            "Recall: 0.75\n",
            "F1 Score: 0.86\n"
          ]
        }
      ],
      "source": [
        "correct = 0\n",
        "#print(len(predictions))\n",
        "for i in np.arange(len(predictions)) :\n",
        "    if predictions[i] == true_labels[i]:\n",
        "        correct += 1\n",
        "print(f\"Accuracy:{int(correct / len(predictions) * 100):,}%\")\n",
        "\n",
        "true_pos = 0\n",
        "false_pos = 0\n",
        "false_neg = 0\n",
        "true_neg = 0\n",
        "for i in np.arange(len(predictions)) :\n",
        "    if predictions[i] == 0 and true_labels[i] == 0:\n",
        "        true_neg += 1\n",
        "    if predictions[i] == 1 and true_labels[i] == 0:\n",
        "        false_pos += 1\n",
        "    if predictions[i] == 0 and true_labels[i] == 1:\n",
        "        false_neg += 1\n",
        "    if predictions[i] == 1 and true_labels[i] == 1:\n",
        "        true_pos += 1\n",
        "precision = true_pos / (true_pos + false_pos)\n",
        "recall = true_pos / (true_pos + false_neg)\n",
        "print(f\"Precision: {round(precision, 2):,}\")\n",
        "print(f\"Recall: {round(recall, 2):,}\")\n",
        "\n",
        "F1 = calc_f1(predictions, true_labels)\n",
        "print(f\"F1 Score: {round(F1, 2):,}\")"
      ]
    },
    {
      "cell_type": "markdown",
      "source": [
        "Wow, it looks like our model actually performs pretty well! Especially for a model that's gone through a total of 20 minutes of training on a single GPU. If we expanded our model or trained it over more data it would improve even further, but these are still good results.\n",
        "\n",
        "Taking a look at the Attention graphs above, we can get some insight into what our model thinks is important for the given sample. The way to read these heatmaps is that the Queries are on the y-axis, and the Keys are on the x-axis. This is all mapped back to the original input, so we essentially have a set of base-by-base relationship heatmaps! For example, a vertical red line indicates that many Query positions saw that Key position as important in the classification task.\n",
        "\n",
        "The first set is a breakdown of all of the heads of our first attention layer. As I mentioned above, we would expect each head to learn something slightly different about our input, and it appears that this is the case! For example, the second head was very focused on the relationships between the bases directly surrounding the query (which is why we have a bright diagonal line), while the 3rd and 4th heads had much more dispersed attention weights.\n",
        "\n",
        "This pattern becomes even more apparent as we move to the second set of heatmaps, where we average the attention weights for all heads in each layer (to give an approximate idea of what each full layer learns about the input). At this level, we see some interesting patterns emerge. For example, multiple layers have strong attention weights at the position around 160-170 bp into the sequence, which means that it likely played an important role in deciding this sequence's classification. Each head and layer learned some unique things about the sequence, so take some time to try and understand what these heatmaps are showing!"
      ],
      "metadata": {
        "id": "zL1u9hEUwkwE"
      }
    },
    {
      "cell_type": "markdown",
      "source": [
        "#### Questions\n",
        "\n",
        "\n",
        "1.   Promoters are known for having very characteristic structures of DNA sequence (i.e. TATA boxes as I mentioned above). How could this influence our classification accuracy (i.e. make the classification problem easier or harder)? Why?\n",
        "2.   You can see that our validation F1 score metric does not uniformly increase across the training process. How can you explain this?\n",
        "3.   Provide your interpretation of the graphs of the Attention weights above. Are there any locations in the input sequence that appear to be highly important (i.e. have a lot of \"attention\" on them)?\n",
        "\n"
      ],
      "metadata": {
        "id": "8R3uJFDJ8AEA"
      }
    },
    {
      "cell_type": "markdown",
      "source": [
        "## Fine-Tuning (Enhancer Classification)\n",
        "\n",
        "Now that we've introduced the idea of fine-tuning and have a simple example, let's move on to a more complicated task. We have another set of data from the [Nucleotide Transformer training notebook](https://github.com/huggingface/notebooks/blob/main/examples/nucleotide_transformer_dna_sequence_modelling.ipynb) which is made up of 200-bp sequences that are either labeled as strong enhancers, weak enhancers, or non-enhancers. This is a more complicated task not only because it is multi-class classification, enhancers also generally have less \"characteristic\" genomic structure compared to promoters. This means that (in theory) our model will have to understand more subtle relationships within each sequence to classify them correctly. This data comes from the below paper:\n",
        "\n",
        "Geng, Q., Yang, R., & Zhang, L. (2022). A deep learning framework for enhancer prediction using word embedding and sequence generation. Biophysical Chemistry, 286, 106822. https://doi.org/10.1016/j.bpc.2022.106822\n",
        "\n",
        "To start, we are going to load the data and tokenize it the exact same way we did previously:"
      ],
      "metadata": {
        "id": "7wMK7yM_ohLH"
      }
    },
    {
      "cell_type": "code",
      "source": [
        "# Load the enhancer dataset from the InstaDeep Hugging Face ressources\n",
        "dataset_name = \"enhancers_types\"\n",
        "train_dataset_enhancers = load_dataset(\n",
        "        \"InstaDeepAI/nucleotide_transformer_downstream_tasks\",\n",
        "        dataset_name,\n",
        "        split=\"train\",\n",
        "        streaming= False,\n",
        "        trust_remote_code=True\n",
        "    )\n",
        "test_dataset_enhancers = load_dataset(\n",
        "        \"InstaDeepAI/nucleotide_transformer_downstream_tasks\",\n",
        "        dataset_name,\n",
        "        split=\"test\",\n",
        "        streaming= False,\n",
        "        trust_remote_code=True\n",
        "    )\n",
        "\n",
        "num_labels_enhancer = 3"
      ],
      "metadata": {
        "id": "3rnowMvjojGT"
      },
      "execution_count": null,
      "outputs": []
    },
    {
      "cell_type": "code",
      "source": [
        "# Get training data\n",
        "train_sequences_enhancers = train_dataset_enhancers['sequence']\n",
        "train_labels_enhancers = train_dataset_enhancers['label']\n",
        "\n",
        "# Split the dataset into a training and a validation dataset\n",
        "train_sequences_enhancers, validation_sequences_enhancers, train_labels_enhancers, validation_labels_enhancers = train_test_split(train_sequences_enhancers,\n",
        "                                                                              train_labels_enhancers, test_size=0.10, random_state=42)\n",
        "\n",
        "# Get test data\n",
        "test_sequences_enhancers = test_dataset_enhancers['sequence']\n",
        "test_labels_enhancers = test_dataset_enhancers['label']"
      ],
      "metadata": {
        "id": "3gbBTRtCo2QR"
      },
      "execution_count": null,
      "outputs": []
    },
    {
      "cell_type": "code",
      "source": [
        "ds_train_enhancers = Dataset.from_dict({\"data\": train_sequences_enhancers,'labels':train_labels_enhancers})\n",
        "ds_validation_enhancers = Dataset.from_dict({\"data\": validation_sequences_enhancers,'labels':validation_labels_enhancers})\n",
        "ds_test_enhancers = Dataset.from_dict({\"data\": test_sequences_enhancers,'labels':test_labels_enhancers})"
      ],
      "metadata": {
        "id": "yZm1vaVtpCz6"
      },
      "execution_count": null,
      "outputs": []
    },
    {
      "cell_type": "code",
      "source": [
        "def tokenize_function(examples):\n",
        "  min_length = min(len(i) for i in examples['data'])\n",
        "  outputs = np.empty((0, min_length), dtype='int16')\n",
        "  for example in examples[\"data\"]:\n",
        "    outputs = np.vstack([outputs, encode(example[:min_length])])\n",
        "  return {\n",
        "      'input_ids': outputs,\n",
        "      'attention_mask': [1] * len(outputs),\n",
        "  }\n",
        "\n",
        "tokenized_datasets_train_enhancer = ds_train_enhancers.map(\n",
        "    tokenize_function,\n",
        "    batched=True,\n",
        "    remove_columns=['data'],\n",
        ")\n",
        "tokenized_datasets_validation_enhancer = ds_validation_enhancers.map(\n",
        "    tokenize_function,\n",
        "    batched=True,\n",
        "    remove_columns=['data'],\n",
        ")\n",
        "tokenized_datasets_test_enhancer = ds_test_enhancers.map(\n",
        "    tokenize_function,\n",
        "    batched=True,\n",
        "    remove_columns=['data'],\n",
        ")\n",
        "\n",
        "train_dataset = TensorDataset(torch.tensor(tokenized_datasets_train_enhancer['input_ids'], device=device),\n",
        "                              torch.tensor(tokenized_datasets_train_enhancer['labels'], device=device))\n",
        "train_dataloader = DataLoader(train_dataset, shuffle=True, batch_size=64)\n",
        "\n",
        "validation_dataset = TensorDataset(torch.tensor(tokenized_datasets_validation_enhancer['input_ids'], device=device),\n",
        "                              torch.tensor(tokenized_datasets_validation_enhancer['labels'], device=device))\n",
        "\n",
        "validation_dataloader = DataLoader(validation_dataset, shuffle=True, batch_size=1)\n",
        "\n",
        "test_dataset = TensorDataset(torch.tensor(tokenized_datasets_test_enhancer['input_ids'], device=device),\n",
        "                              torch.tensor(tokenized_datasets_test_enhancer['labels'], device=device))\n",
        "\n",
        "test_dataloader = DataLoader(test_dataset, shuffle=True, batch_size=1)"
      ],
      "metadata": {
        "id": "13Sddc9SpHQ3",
        "colab": {
          "base_uri": "https://localhost:8080/",
          "height": 113,
          "referenced_widgets": [
            "ba7e00d625434246b0d9350c43c2b685",
            "26153eb79538457aa9b1c42d0cc2b1c4",
            "9fa042736574449aa0d7480db94948f9",
            "064305970f744149a30fe4806bd769b6",
            "6659a84f236345c7aa7c42fc59e9d562",
            "ca0322f52d0b48a8a487c36f0bf980e8",
            "706281fc44d747d6afd0df8c92fce1ea",
            "0c3a06f8b6b14f2db7cb6ace3776d6b0",
            "6f28360f35a0406ba6bee5b6d13a06e4",
            "7db13094f0564c528b4699e2ee294c44",
            "16d1f0703ee34a4a98fcebe46f50ddce",
            "4fab4aad92e046c9876a8690b2f398d9",
            "f9e505f993374b07b29c5452271e552c",
            "040e1b122e434ad38fc49117aa3ef901",
            "1f00650d54884828af3769a2c0b73eac",
            "d9782bda299e4eb38be264626e171b39",
            "e37a0625f77844c1b14f4d007249009c",
            "33e3372d213249ae8465b61a1d402c35",
            "e0d4ab1da2a3416fa87ebc1cf33a24ff",
            "876f665776b84cb6a42a46e2cf7e7ca9",
            "49aa2d61956344238ddb701b201e51fc",
            "042d641a8937436580a1f12ceb000253",
            "41c39de1a11d410eaad74c197be09db1",
            "6020be2a91f94c1a9652d776609aa6d5",
            "712129fac1c9437f9cefc3375c2edb93",
            "191c4ac205884d3a9748e80ff95ab1f7",
            "2afe23f4ce2947edb63e11ceb415f990",
            "ff2d244001b24897af9c2c0956dbb873",
            "9b2819a5df8d41b59bc13701bde9d98f",
            "dbf334fe7dce46639273e45c814fe6ee",
            "5575b6539450472c97f8e6f67b32698e",
            "b84620c051d34654a0bd628f1388c6f5",
            "f9f09835e67b4cd1bc4459de6cd6ab18"
          ]
        },
        "outputId": "46428102-1ebf-4a37-f228-78f394b2a5fd"
      },
      "execution_count": null,
      "outputs": [
        {
          "output_type": "display_data",
          "data": {
            "text/plain": [
              "Map:   0%|          | 0/13471 [00:00<?, ? examples/s]"
            ],
            "application/vnd.jupyter.widget-view+json": {
              "version_major": 2,
              "version_minor": 0,
              "model_id": "ba7e00d625434246b0d9350c43c2b685"
            }
          },
          "metadata": {}
        },
        {
          "output_type": "display_data",
          "data": {
            "text/plain": [
              "Map:   0%|          | 0/1497 [00:00<?, ? examples/s]"
            ],
            "application/vnd.jupyter.widget-view+json": {
              "version_major": 2,
              "version_minor": 0,
              "model_id": "4fab4aad92e046c9876a8690b2f398d9"
            }
          },
          "metadata": {}
        },
        {
          "output_type": "display_data",
          "data": {
            "text/plain": [
              "Map:   0%|          | 0/400 [00:00<?, ? examples/s]"
            ],
            "application/vnd.jupyter.widget-view+json": {
              "version_major": 2,
              "version_minor": 0,
              "model_id": "41c39de1a11d410eaad74c197be09db1"
            }
          },
          "metadata": {}
        }
      ]
    },
    {
      "cell_type": "markdown",
      "source": [
        "Now, let's load back in our **original** gLM, i.e. not the one we fine-tuned to classify promoters. This time, we need it to classify on 3 labels rather than 2, so it is simpler to just recreate a new version and fine-tune it from scratch."
      ],
      "metadata": {
        "id": "LHcFhhu01En9"
      }
    },
    {
      "cell_type": "code",
      "source": [
        "# -----------------------------------------------------------------------------\n",
        "init_from = 'resume' # either 'resume' (from an out_dir) or a gpt2 variant (e.g. 'gpt2-xl')\n",
        "out_dir = '/root/data/out' # ignored if init_from is not 'resume'\n",
        "seed = 1337\n",
        "device = 'cuda' # examples: 'cpu', 'cuda', 'cuda:0', 'cuda:1', etc.\n",
        "dtype = 'bfloat16' if torch.cuda.is_available() and torch.cuda.is_bf16_supported() else 'float16' # 'float32' or 'bfloat16' or 'float16'\n",
        "compile = True # use PyTorch 2.0 to compile the model to be faster\n",
        "# -----------------------------------------------------------------------------\n",
        "\n",
        "torch.cuda.init()\n",
        "torch.manual_seed(seed)\n",
        "torch.cuda.manual_seed(seed)\n",
        "torch.backends.cuda.matmul.allow_tf32 = True # allow tf32 on matmul\n",
        "torch.backends.cudnn.allow_tf32 = True # allow tf32 on cudnn\n",
        "device_type = 'cuda' if 'cuda' in device else 'cpu' # for later use in torch.autocast\n",
        "ptdtype = {'float32': torch.float32, 'bfloat16': torch.bfloat16, 'float16': torch.float16}['float16']\n",
        "ctx = nullcontext() if device_type == 'cpu' else torch.amp.autocast(device_type=device_type, dtype=ptdtype)\n",
        "\n",
        "# model\n",
        "if init_from == 'resume':\n",
        "    # init from a model saved in a specific directory\n",
        "    ckpt_path = os.path.join(out_dir, 'ckpt.pt')\n",
        "    checkpoint = torch.load(ckpt_path, map_location=device)\n",
        "    gptconf = GPTConfig(**checkpoint['model_args'])\n",
        "    model = GPT(gptconf)\n",
        "    state_dict = checkpoint['model']\n",
        "    unwanted_prefix = '_orig_mod.'\n",
        "    for k,v in list(state_dict.items()):\n",
        "        if k.startswith(unwanted_prefix):\n",
        "            state_dict[k[len(unwanted_prefix):]] = state_dict.pop(k)\n",
        "    model.load_state_dict(state_dict)\n",
        "\n",
        "new_model = ClassificationModel(base_model=model, num_labels=3)\n",
        "new_model.eval()\n",
        "new_model.to(device)\n",
        "if compile:\n",
        "    new_model = torch.compile(new_model) # requires PyTorch 2.0 (optional)"
      ],
      "metadata": {
        "id": "ZRBb2Z98piMm",
        "colab": {
          "base_uri": "https://localhost:8080/"
        },
        "outputId": "bbb8b8bc-1c60-44b4-b758-161197b883ff"
      },
      "execution_count": null,
      "outputs": [
        {
          "output_type": "stream",
          "name": "stdout",
          "text": [
            "number of parameters: 7.10M\n"
          ]
        }
      ]
    },
    {
      "cell_type": "markdown",
      "source": [
        "Now, let's run through the same training loop. You may notice that we have greatly increased the number of epochs we are training for. This is partially due to the fact that the enhancer dataset is much smaller than the promoter dataset (so we need more epochs to get the equivalent number of training batches), but the task is also more complex, so it benefits our model to have more training iterations in general."
      ],
      "metadata": {
        "id": "lQd3hglB1hQg"
      }
    },
    {
      "cell_type": "code",
      "source": [
        "optimizer = torch.optim.AdamW(new_model.parameters(), lr=2e-5)\n",
        "num_epochs=10\n",
        "total_steps = len(train_dataloader) * num_epochs\n",
        "\n",
        "val_predictions = []\n",
        "val_true_labels = []\n",
        "\n",
        "#Training Loop\n",
        "loss_lst = []\n",
        "val_loss_lst = []\n",
        "mcc_scores = []\n",
        "new_model.train()\n",
        "for epoch in range(num_epochs):\n",
        "    i = 0\n",
        "    for batch in train_dataloader:\n",
        "        input_ids, labels = batch\n",
        "        optimizer.zero_grad()\n",
        "\n",
        "        # Forward pass\n",
        "        outputs = new_model(input_ids, labels=labels)\n",
        "        loss = outputs[1]\n",
        "        loss_lst.append(loss.item())\n",
        "\n",
        "        # Backward pass and optimization\n",
        "        loss.backward()\n",
        "        optimizer.step()\n",
        "        i += 1\n",
        "        if i % 100 == 99:\n",
        "            new_model.eval()\n",
        "            with torch.no_grad():\n",
        "                for val_batch in validation_dataloader:\n",
        "                    val_input_ids, val_labels = val_batch\n",
        "                    optimizer.zero_grad()\n",
        "                    val_outputs = new_model(val_input_ids, labels=val_labels)\n",
        "                    val_loss = val_outputs[1]\n",
        "                    val_loss_lst.append(val_loss.item())\n",
        "                    val_logits = val_outputs[0]  # Get the logits\n",
        "                    val_predictions.append(torch.argmax(val_logits).item())\n",
        "                    val_true_labels.append(val_labels.item())\n",
        "            print(f\"Epoch {epoch}, Batch {i}, Train Loss: {np.mean(loss_lst)}, Val Loss: {np.mean(val_loss_lst)}, Val MCC: {matthews_corrcoef(val_true_labels, val_predictions)}\")\n",
        "            mcc_scores.append(matthews_corrcoef(val_true_labels, val_predictions))\n",
        "            loss_lst = []\n",
        "            val_loss_lst = []\n",
        "            new_model.train()\n",
        "            val_predictions = []\n",
        "            val_true_labels = []"
      ],
      "metadata": {
        "id": "K0PntlazpqaU",
        "colab": {
          "base_uri": "https://localhost:8080/"
        },
        "outputId": "dc1f8500-90fd-41b3-ff1b-2628324a43f2"
      },
      "execution_count": null,
      "outputs": [
        {
          "output_type": "stream",
          "name": "stdout",
          "text": [
            "Epoch 0, Batch 99, Train Loss: 1.6950590881434353, Val Loss: 1.0294456615715561, Val MCC: 0.02337836170240951\n",
            "Epoch 0, Batch 199, Train Loss: 1.0240127527713776, Val Loss: 0.9334703189984671, Val MCC: 0.2029575954481794\n",
            "Epoch 1, Batch 99, Train Loss: 0.9562811260824805, Val Loss: 0.8679180646722088, Val MCC: 0.2882548591515819\n",
            "Epoch 1, Batch 199, Train Loss: 0.9066473466157913, Val Loss: 0.8179539945312516, Val MCC: 0.3447210289533454\n",
            "Epoch 2, Batch 99, Train Loss: 0.8668737824972685, Val Loss: 0.7752895569148844, Val MCC: 0.38088925781892596\n",
            "Epoch 2, Batch 199, Train Loss: 0.8445350229740143, Val Loss: 0.7523973750730674, Val MCC: 0.4857463009395969\n",
            "Epoch 3, Batch 99, Train Loss: 0.8001560456043965, Val Loss: 0.7638596965543771, Val MCC: 0.4827095565854299\n",
            "Epoch 3, Batch 199, Train Loss: 0.7579358673095703, Val Loss: 0.6510186637966392, Val MCC: 0.5660653939506216\n",
            "Epoch 4, Batch 99, Train Loss: 0.7273919096401146, Val Loss: 0.6017526808513967, Val MCC: 0.612219373419949\n",
            "Epoch 4, Batch 199, Train Loss: 0.6725043362379074, Val Loss: 0.5811228882036132, Val MCC: 0.6253620681174764\n",
            "Epoch 5, Batch 99, Train Loss: 0.6743242536579166, Val Loss: 0.5886148035024842, Val MCC: 0.6113975163885133\n",
            "Epoch 5, Batch 199, Train Loss: 0.6282934725284577, Val Loss: 0.5768598860071235, Val MCC: 0.633479658344105\n",
            "Epoch 6, Batch 99, Train Loss: 0.6191099184053438, Val Loss: 0.5464203317028159, Val MCC: 0.6673326868917352\n",
            "Epoch 6, Batch 199, Train Loss: 0.5884297069907188, Val Loss: 0.5752134639035684, Val MCC: 0.6580278456097183\n",
            "Epoch 7, Batch 99, Train Loss: 0.5828883862710214, Val Loss: 0.5081090570832482, Val MCC: 0.6838632882288788\n",
            "Epoch 7, Batch 199, Train Loss: 0.5617785623669624, Val Loss: 0.535234973480665, Val MCC: 0.682530083008411\n",
            "Epoch 8, Batch 99, Train Loss: 0.5510256328024306, Val Loss: 0.6374196182729884, Val MCC: 0.6366220488283642\n",
            "Epoch 8, Batch 199, Train Loss: 0.5344221958518028, Val Loss: 0.5766542813940996, Val MCC: 0.6717488774082696\n",
            "Epoch 9, Batch 99, Train Loss: 0.5404378210639095, Val Loss: 0.9050976466854105, Val MCC: 0.5333639420734095\n",
            "Epoch 9, Batch 199, Train Loss: 0.5169458469748497, Val Loss: 0.6408596856071027, Val MCC: 0.6396291427066766\n"
          ]
        }
      ]
    },
    {
      "cell_type": "markdown",
      "source": [
        "Now that we've finished training, we can see that our training loss remains significantly higher for this task than our promoter prediction task, as expected. Note that we use a slightly different performance metric here as well (MCC), which gives us a single scalar value for classification performance (whereas using F1 again would not be so simple). In any case, let's see how this model performs on the test data."
      ],
      "metadata": {
        "id": "92ZqQ-pf19ts"
      }
    },
    {
      "cell_type": "code",
      "source": [
        "new_model.eval()  # Set the model to evaluation mode\n",
        "\n",
        "predictions = []\n",
        "true_labels = []\n",
        "i = 0\n",
        "\n",
        "with torch.no_grad():  # Disable gradient calculation for inference\n",
        "    for batch in test_dataloader:\n",
        "        input_ids, labels = batch\n",
        "        outputs = new_model(input_ids)\n",
        "        logits = outputs[0]  # Get the logits\n",
        "        predictions.append(torch.argmax(logits).item())\n",
        "        true_labels.append(labels.item())\n",
        "        if i == 200:\n",
        "            l = 0\n",
        "            fig, axs = plt.subplots(2, 2)\n",
        "            x = np.arange(2)\n",
        "            y = np.arange(2)\n",
        "            for j in x:\n",
        "                for k in y:\n",
        "                    axs[j,k].imshow(outputs[1][0][l].cpu().detach().numpy(), cmap='gist_stern', interpolation='nearest')\n",
        "                    l += 1\n",
        "            fig.set_figwidth(10)\n",
        "            fig.set_figheight(6)\n",
        "            fig.suptitle(\"Attention weights of Each Head in Layer 0\")\n",
        "            plt.show()\n",
        "            l = 0\n",
        "            fig, axs = plt.subplots(2, 2)\n",
        "            x = np.arange(2)\n",
        "            y = np.arange(2)\n",
        "            for j in x:\n",
        "                for k in y:\n",
        "                    axs[j,k].imshow(torch.mean(outputs[1][l], dim=0).cpu().detach().numpy(), cmap='gist_stern', interpolation='nearest')\n",
        "                    l += 1\n",
        "            fig.set_figwidth(10)\n",
        "            fig.set_figheight(6)\n",
        "            fig.suptitle(\"Attention Weights of Each Layer Averaged Across Heads\")\n",
        "            plt.show()\n",
        "            print(labels.item())\n",
        "        i += 1"
      ],
      "metadata": {
        "colab": {
          "base_uri": "https://localhost:8080/",
          "height": 1000
        },
        "id": "ProCVWDIYGw8",
        "outputId": "e567cb54-5395-4810-e75c-90f026989448"
      },
      "execution_count": null,
      "outputs": [
        {
          "output_type": "display_data",
          "data": {
            "text/plain": [
              "<Figure size 1000x600 with 4 Axes>"
            ],
            "image/png": "[encoded data removed]"
          },
          "metadata": {}
        },
        {
          "output_type": "display_data",
          "data": {
            "text/plain": [
              "<Figure size 1000x600 with 4 Axes>"
            ],
            "image/png": "[encoded data removed]"
          },
          "metadata": {}
        },
        {
          "output_type": "stream",
          "name": "stdout",
          "text": [
            "0\n"
          ]
        }
      ]
    },
    {
      "cell_type": "code",
      "source": [
        "correct = 0\n",
        "print(len(predictions))\n",
        "for i in np.arange(len(predictions)) :\n",
        "    if predictions[i] == true_labels[i]:\n",
        "        correct += 1\n",
        "print(f\"Accuracy: {int(correct / len(predictions) * 100):,}%\")\n",
        "\n",
        "print(f\"MCC: {round(matthews_corrcoef(true_labels, predictions), 2):,}\")"
      ],
      "metadata": {
        "colab": {
          "base_uri": "https://localhost:8080/"
        },
        "id": "JaZzlVqiYMnK",
        "outputId": "c2c7b136-4825-44a9-b1f4-1457e63f7115"
      },
      "execution_count": null,
      "outputs": [
        {
          "output_type": "stream",
          "name": "stdout",
          "text": [
            "400\n",
            "Accuracy: 45%\n",
            "MCC: 0.2\n"
          ]
        }
      ]
    },
    {
      "cell_type": "markdown",
      "source": [
        "Oof, those numbers are a little rough, especially compared to our previous model's performance on promoter classification. If you look at the attention weight heatmaps, you can also see that the weights are significantly more spread out compared to the promoter model. This could mean many things, and it would take more digging to understand exactly what is happening, but one hypothesis is that our model couldn't quite understand what exactly to focus on for classification, so we get more \"cloudy\" attention signal.\n",
        "\n",
        "In any case, this goes to show that sometimes there are limitations to the complexity that a single model can accurately represent. If we increased the size of our initial gLM and let it run for more training iterations, our performance on this task would likely improve dramatically. Unfortunately, we don't have the time or computing resources for that in this notebook, but I would encourage all of you to continue to investigate if you are interested!"
      ],
      "metadata": {
        "id": "zDpOvZsf2U0h"
      }
    },
    {
      "cell_type": "markdown",
      "source": [
        "#### Questions\n",
        "\n",
        "\n",
        "1.   Why is this enhancer classification problem harder than the promoter classification problem we looked at previously?\n",
        "2.   Similarly to the question above, provide your interpretation of the graphs of Attention weights.\n",
        "3.   One characteristic of enhancers is that they tend to have some distance from the gene they influence (much greater than 300 bp). How could we potentially change our original gLM in order to potentially improve our performance in this problem?\n",
        "\n"
      ],
      "metadata": {
        "id": "6x5lPsuA9MC4"
      }
    },
    {
      "cell_type": "markdown",
      "source": [
        "## Conclusion\n",
        "\n",
        "To sum up everything we have gone through in this notebook, here are a few major points:\n",
        "\n",
        "\n",
        "1.   Large language models (LLMs) have become well-known for their popular use (i.e. ChatGPT), but they have strong potential for use as research tools in various fields as well.\n",
        "2.   Genomic langauge models (gLMs) are a type of LLM that attempt to learn relationships between different of regions of DNA directly from DNA sequence.\n",
        "3.   In general, gLMs can be created similarly to any other type of language model (usually using the Attention mechanism), however strategies for tokenization can differ due to the simplified vocabulary of DNA sequence.\n",
        "4.   Once tokenization and embeddings are defined, a gLM can be trained just like any other language model.\n",
        "5.   gLMs can be fine-tuned to perform specific tasks.\n",
        "\n",
        "The applications of language modeling to functional genomic research is a very new field, and publications of high-performing models are just beginning to emerge. If you are interested in further investigation, we would highly recommend the [DNABERT-2](https://arxiv.org/abs/2306.15006) and [Nucleotide Transformer](https://www.biorxiv.org/content/10.1101/2023.01.11.523679v3.full) papers. These represent two distinctly different approaches to DNA language modeling, each with their own benefits and downsides.\n",
        "\n"
      ],
      "metadata": {
        "id": "GYz2lAbN3TlM"
      }
    }
  ],
  "metadata": {
    "colab": {
      "provenance": [],
      "gpuType": "T4",
      "include_colab_link": true
    },
    "kernelspec": {
      "display_name": "Python 3",
      "name": "python3"
    },
    "language_info": {
      "name": "python"
    },
    "widgets": {
      "application/vnd.jupyter.widget-state+json": {
        "2a9b870265654322be2a63d4ff812dfe": {
          "model_module": "@jupyter-widgets/controls",
          "model_name": "HBoxModel",
          "model_module_version": "1.5.0",
          "state": {
            "_dom_classes": [],
            "_model_module": "@jupyter-widgets/controls",
            "_model_module_version": "1.5.0",
            "_model_name": "HBoxModel",
            "_view_count": null,
            "_view_module": "@jupyter-widgets/controls",
            "_view_module_version": "1.5.0",
            "_view_name": "HBoxView",
            "box_style": "",
            "children": [
              "IPY_MODEL_5e9c130c410646e4813b40a6fb3597b1",
              "IPY_MODEL_5f3b654fc40f4b0b8d83568dea1239cd",
              "IPY_MODEL_4bbba4b5bd8b48e891c7bdae396e7488"
            ],
            "layout": "IPY_MODEL_5a8f1f3fa60142db9fb87f978df994b7"
          }
        },
        "5e9c130c410646e4813b40a6fb3597b1": {
          "model_module": "@jupyter-widgets/controls",
          "model_name": "HTMLModel",
          "model_module_version": "1.5.0",
          "state": {
            "_dom_classes": [],
            "_model_module": "@jupyter-widgets/controls",
            "_model_module_version": "1.5.0",
            "_model_name": "HTMLModel",
            "_view_count": null,
            "_view_module": "@jupyter-widgets/controls",
            "_view_module_version": "1.5.0",
            "_view_name": "HTMLView",
            "description": "",
            "description_tooltip": null,
            "layout": "IPY_MODEL_32d80445eaeb4156a24e26ba193fb2f1",
            "placeholder": "​",
            "style": "IPY_MODEL_373ac7e2f3ca40279710de1eb5020a48",
            "value": "Map: 100%"
          }
        },
        "5f3b654fc40f4b0b8d83568dea1239cd": {
          "model_module": "@jupyter-widgets/controls",
          "model_name": "FloatProgressModel",
          "model_module_version": "1.5.0",
          "state": {
            "_dom_classes": [],
            "_model_module": "@jupyter-widgets/controls",
            "_model_module_version": "1.5.0",
            "_model_name": "FloatProgressModel",
            "_view_count": null,
            "_view_module": "@jupyter-widgets/controls",
            "_view_module_version": "1.5.0",
            "_view_name": "ProgressView",
            "bar_style": "success",
            "description": "",
            "description_tooltip": null,
            "layout": "IPY_MODEL_e1fe97f77a924e9dbd5f4224cbe18684",
            "max": 50612,
            "min": 0,
            "orientation": "horizontal",
            "style": "IPY_MODEL_77d274c224a94518b26812ce062effe9",
            "value": 50612
          }
        },
        "4bbba4b5bd8b48e891c7bdae396e7488": {
          "model_module": "@jupyter-widgets/controls",
          "model_name": "HTMLModel",
          "model_module_version": "1.5.0",
          "state": {
            "_dom_classes": [],
            "_model_module": "@jupyter-widgets/controls",
            "_model_module_version": "1.5.0",
            "_model_name": "HTMLModel",
            "_view_count": null,
            "_view_module": "@jupyter-widgets/controls",
            "_view_module_version": "1.5.0",
            "_view_name": "HTMLView",
            "description": "",
            "description_tooltip": null,
            "layout": "IPY_MODEL_69dc1b78f0c94df98d9fbd35c8bc948a",
            "placeholder": "​",
            "style": "IPY_MODEL_0000abf1fcc24784856b4540222bff6d",
            "value": " 50612/50612 [00:07&lt;00:00, 7227.35 examples/s]"
          }
        },
        "5a8f1f3fa60142db9fb87f978df994b7": {
          "model_module": "@jupyter-widgets/base",
          "model_name": "LayoutModel",
          "model_module_version": "1.2.0",
          "state": {
            "_model_module": "@jupyter-widgets/base",
            "_model_module_version": "1.2.0",
            "_model_name": "LayoutModel",
            "_view_count": null,
            "_view_module": "@jupyter-widgets/base",
            "_view_module_version": "1.2.0",
            "_view_name": "LayoutView",
            "align_content": null,
            "align_items": null,
            "align_self": null,
            "border": null,
            "bottom": null,
            "display": null,
            "flex": null,
            "flex_flow": null,
            "grid_area": null,
            "grid_auto_columns": null,
            "grid_auto_flow": null,
            "grid_auto_rows": null,
            "grid_column": null,
            "grid_gap": null,
            "grid_row": null,
            "grid_template_areas": null,
            "grid_template_columns": null,
            "grid_template_rows": null,
            "height": null,
            "justify_content": null,
            "justify_items": null,
            "left": null,
            "margin": null,
            "max_height": null,
            "max_width": null,
            "min_height": null,
            "min_width": null,
            "object_fit": null,
            "object_position": null,
            "order": null,
            "overflow": null,
            "overflow_x": null,
            "overflow_y": null,
            "padding": null,
            "right": null,
            "top": null,
            "visibility": null,
            "width": null
          }
        },
        "32d80445eaeb4156a24e26ba193fb2f1": {
          "model_module": "@jupyter-widgets/base",
          "model_name": "LayoutModel",
          "model_module_version": "1.2.0",
          "state": {
            "_model_module": "@jupyter-widgets/base",
            "_model_module_version": "1.2.0",
            "_model_name": "LayoutModel",
            "_view_count": null,
            "_view_module": "@jupyter-widgets/base",
            "_view_module_version": "1.2.0",
            "_view_name": "LayoutView",
            "align_content": null,
            "align_items": null,
            "align_self": null,
            "border": null,
            "bottom": null,
            "display": null,
            "flex": null,
            "flex_flow": null,
            "grid_area": null,
            "grid_auto_columns": null,
            "grid_auto_flow": null,
            "grid_auto_rows": null,
            "grid_column": null,
            "grid_gap": null,
            "grid_row": null,
            "grid_template_areas": null,
            "grid_template_columns": null,
            "grid_template_rows": null,
            "height": null,
            "justify_content": null,
            "justify_items": null,
            "left": null,
            "margin": null,
            "max_height": null,
            "max_width": null,
            "min_height": null,
            "min_width": null,
            "object_fit": null,
            "object_position": null,
            "order": null,
            "overflow": null,
            "overflow_x": null,
            "overflow_y": null,
            "padding": null,
            "right": null,
            "top": null,
            "visibility": null,
            "width": null
          }
        },
        "373ac7e2f3ca40279710de1eb5020a48": {
          "model_module": "@jupyter-widgets/controls",
          "model_name": "DescriptionStyleModel",
          "model_module_version": "1.5.0",
          "state": {
            "_model_module": "@jupyter-widgets/controls",
            "_model_module_version": "1.5.0",
            "_model_name": "DescriptionStyleModel",
            "_view_count": null,
            "_view_module": "@jupyter-widgets/base",
            "_view_module_version": "1.2.0",
            "_view_name": "StyleView",
            "description_width": ""
          }
        },
        "e1fe97f77a924e9dbd5f4224cbe18684": {
          "model_module": "@jupyter-widgets/base",
          "model_name": "LayoutModel",
          "model_module_version": "1.2.0",
          "state": {
            "_model_module": "@jupyter-widgets/base",
            "_model_module_version": "1.2.0",
            "_model_name": "LayoutModel",
            "_view_count": null,
            "_view_module": "@jupyter-widgets/base",
            "_view_module_version": "1.2.0",
            "_view_name": "LayoutView",
            "align_content": null,
            "align_items": null,
            "align_self": null,
            "border": null,
            "bottom": null,
            "display": null,
            "flex": null,
            "flex_flow": null,
            "grid_area": null,
            "grid_auto_columns": null,
            "grid_auto_flow": null,
            "grid_auto_rows": null,
            "grid_column": null,
            "grid_gap": null,
            "grid_row": null,
            "grid_template_areas": null,
            "grid_template_columns": null,
            "grid_template_rows": null,
            "height": null,
            "justify_content": null,
            "justify_items": null,
            "left": null,
            "margin": null,
            "max_height": null,
            "max_width": null,
            "min_height": null,
            "min_width": null,
            "object_fit": null,
            "object_position": null,
            "order": null,
            "overflow": null,
            "overflow_x": null,
            "overflow_y": null,
            "padding": null,
            "right": null,
            "top": null,
            "visibility": null,
            "width": null
          }
        },
        "77d274c224a94518b26812ce062effe9": {
          "model_module": "@jupyter-widgets/controls",
          "model_name": "ProgressStyleModel",
          "model_module_version": "1.5.0",
          "state": {
            "_model_module": "@jupyter-widgets/controls",
            "_model_module_version": "1.5.0",
            "_model_name": "ProgressStyleModel",
            "_view_count": null,
            "_view_module": "@jupyter-widgets/base",
            "_view_module_version": "1.2.0",
            "_view_name": "StyleView",
            "bar_color": null,
            "description_width": ""
          }
        },
        "69dc1b78f0c94df98d9fbd35c8bc948a": {
          "model_module": "@jupyter-widgets/base",
          "model_name": "LayoutModel",
          "model_module_version": "1.2.0",
          "state": {
            "_model_module": "@jupyter-widgets/base",
            "_model_module_version": "1.2.0",
            "_model_name": "LayoutModel",
            "_view_count": null,
            "_view_module": "@jupyter-widgets/base",
            "_view_module_version": "1.2.0",
            "_view_name": "LayoutView",
            "align_content": null,
            "align_items": null,
            "align_self": null,
            "border": null,
            "bottom": null,
            "display": null,
            "flex": null,
            "flex_flow": null,
            "grid_area": null,
            "grid_auto_columns": null,
            "grid_auto_flow": null,
            "grid_auto_rows": null,
            "grid_column": null,
            "grid_gap": null,
            "grid_row": null,
            "grid_template_areas": null,
            "grid_template_columns": null,
            "grid_template_rows": null,
            "height": null,
            "justify_content": null,
            "justify_items": null,
            "left": null,
            "margin": null,
            "max_height": null,
            "max_width": null,
            "min_height": null,
            "min_width": null,
            "object_fit": null,
            "object_position": null,
            "order": null,
            "overflow": null,
            "overflow_x": null,
            "overflow_y": null,
            "padding": null,
            "right": null,
            "top": null,
            "visibility": null,
            "width": null
          }
        },
        "0000abf1fcc24784856b4540222bff6d": {
          "model_module": "@jupyter-widgets/controls",
          "model_name": "DescriptionStyleModel",
          "model_module_version": "1.5.0",
          "state": {
            "_model_module": "@jupyter-widgets/controls",
            "_model_module_version": "1.5.0",
            "_model_name": "DescriptionStyleModel",
            "_view_count": null,
            "_view_module": "@jupyter-widgets/base",
            "_view_module_version": "1.2.0",
            "_view_name": "StyleView",
            "description_width": ""
          }
        },
        "3225536be36741de948c748768aae884": {
          "model_module": "@jupyter-widgets/controls",
          "model_name": "HBoxModel",
          "model_module_version": "1.5.0",
          "state": {
            "_dom_classes": [],
            "_model_module": "@jupyter-widgets/controls",
            "_model_module_version": "1.5.0",
            "_model_name": "HBoxModel",
            "_view_count": null,
            "_view_module": "@jupyter-widgets/controls",
            "_view_module_version": "1.5.0",
            "_view_name": "HBoxView",
            "box_style": "",
            "children": [
              "IPY_MODEL_eb29624d75844a9780c3012ca7ba2dc9",
              "IPY_MODEL_613931c3d625432da145ce3cde5a7a58",
              "IPY_MODEL_c62c16210fc743ae8842c1cf9118f0ad"
            ],
            "layout": "IPY_MODEL_755a2822c8e740538001ae12f516a41d"
          }
        },
        "eb29624d75844a9780c3012ca7ba2dc9": {
          "model_module": "@jupyter-widgets/controls",
          "model_name": "HTMLModel",
          "model_module_version": "1.5.0",
          "state": {
            "_dom_classes": [],
            "_model_module": "@jupyter-widgets/controls",
            "_model_module_version": "1.5.0",
            "_model_name": "HTMLModel",
            "_view_count": null,
            "_view_module": "@jupyter-widgets/controls",
            "_view_module_version": "1.5.0",
            "_view_name": "HTMLView",
            "description": "",
            "description_tooltip": null,
            "layout": "IPY_MODEL_81f5d6970fa44ff8a2cf8f2a98bd47be",
            "placeholder": "​",
            "style": "IPY_MODEL_926fd6673e154dc2b3ff34f09bd1a81a",
            "value": "Map: 100%"
          }
        },
        "613931c3d625432da145ce3cde5a7a58": {
          "model_module": "@jupyter-widgets/controls",
          "model_name": "FloatProgressModel",
          "model_module_version": "1.5.0",
          "state": {
            "_dom_classes": [],
            "_model_module": "@jupyter-widgets/controls",
            "_model_module_version": "1.5.0",
            "_model_name": "FloatProgressModel",
            "_view_count": null,
            "_view_module": "@jupyter-widgets/controls",
            "_view_module_version": "1.5.0",
            "_view_name": "ProgressView",
            "bar_style": "success",
            "description": "",
            "description_tooltip": null,
            "layout": "IPY_MODEL_a64a0f215cf54446a64c38add5358ae9",
            "max": 2664,
            "min": 0,
            "orientation": "horizontal",
            "style": "IPY_MODEL_d0d29ef4832f4c51b63490dcd0b7321a",
            "value": 2664
          }
        },
        "c62c16210fc743ae8842c1cf9118f0ad": {
          "model_module": "@jupyter-widgets/controls",
          "model_name": "HTMLModel",
          "model_module_version": "1.5.0",
          "state": {
            "_dom_classes": [],
            "_model_module": "@jupyter-widgets/controls",
            "_model_module_version": "1.5.0",
            "_model_name": "HTMLModel",
            "_view_count": null,
            "_view_module": "@jupyter-widgets/controls",
            "_view_module_version": "1.5.0",
            "_view_name": "HTMLView",
            "description": "",
            "description_tooltip": null,
            "layout": "IPY_MODEL_dc37b9e04c8c480a96cdb01f3f543a37",
            "placeholder": "​",
            "style": "IPY_MODEL_951732f504604f8baf480d7f1760fbd1",
            "value": " 2664/2664 [00:00&lt;00:00, 5904.28 examples/s]"
          }
        },
        "755a2822c8e740538001ae12f516a41d": {
          "model_module": "@jupyter-widgets/base",
          "model_name": "LayoutModel",
          "model_module_version": "1.2.0",
          "state": {
            "_model_module": "@jupyter-widgets/base",
            "_model_module_version": "1.2.0",
            "_model_name": "LayoutModel",
            "_view_count": null,
            "_view_module": "@jupyter-widgets/base",
            "_view_module_version": "1.2.0",
            "_view_name": "LayoutView",
            "align_content": null,
            "align_items": null,
            "align_self": null,
            "border": null,
            "bottom": null,
            "display": null,
            "flex": null,
            "flex_flow": null,
            "grid_area": null,
            "grid_auto_columns": null,
            "grid_auto_flow": null,
            "grid_auto_rows": null,
            "grid_column": null,
            "grid_gap": null,
            "grid_row": null,
            "grid_template_areas": null,
            "grid_template_columns": null,
            "grid_template_rows": null,
            "height": null,
            "justify_content": null,
            "justify_items": null,
            "left": null,
            "margin": null,
            "max_height": null,
            "max_width": null,
            "min_height": null,
            "min_width": null,
            "object_fit": null,
            "object_position": null,
            "order": null,
            "overflow": null,
            "overflow_x": null,
            "overflow_y": null,
            "padding": null,
            "right": null,
            "top": null,
            "visibility": null,
            "width": null
          }
        },
        "81f5d6970fa44ff8a2cf8f2a98bd47be": {
          "model_module": "@jupyter-widgets/base",
          "model_name": "LayoutModel",
          "model_module_version": "1.2.0",
          "state": {
            "_model_module": "@jupyter-widgets/base",
            "_model_module_version": "1.2.0",
            "_model_name": "LayoutModel",
            "_view_count": null,
            "_view_module": "@jupyter-widgets/base",
            "_view_module_version": "1.2.0",
            "_view_name": "LayoutView",
            "align_content": null,
            "align_items": null,
            "align_self": null,
            "border": null,
            "bottom": null,
            "display": null,
            "flex": null,
            "flex_flow": null,
            "grid_area": null,
            "grid_auto_columns": null,
            "grid_auto_flow": null,
            "grid_auto_rows": null,
            "grid_column": null,
            "grid_gap": null,
            "grid_row": null,
            "grid_template_areas": null,
            "grid_template_columns": null,
            "grid_template_rows": null,
            "height": null,
            "justify_content": null,
            "justify_items": null,
            "left": null,
            "margin": null,
            "max_height": null,
            "max_width": null,
            "min_height": null,
            "min_width": null,
            "object_fit": null,
            "object_position": null,
            "order": null,
            "overflow": null,
            "overflow_x": null,
            "overflow_y": null,
            "padding": null,
            "right": null,
            "top": null,
            "visibility": null,
            "width": null
          }
        },
        "926fd6673e154dc2b3ff34f09bd1a81a": {
          "model_module": "@jupyter-widgets/controls",
          "model_name": "DescriptionStyleModel",
          "model_module_version": "1.5.0",
          "state": {
            "_model_module": "@jupyter-widgets/controls",
            "_model_module_version": "1.5.0",
            "_model_name": "DescriptionStyleModel",
            "_view_count": null,
            "_view_module": "@jupyter-widgets/base",
            "_view_module_version": "1.2.0",
            "_view_name": "StyleView",
            "description_width": ""
          }
        },
        "a64a0f215cf54446a64c38add5358ae9": {
          "model_module": "@jupyter-widgets/base",
          "model_name": "LayoutModel",
          "model_module_version": "1.2.0",
          "state": {
            "_model_module": "@jupyter-widgets/base",
            "_model_module_version": "1.2.0",
            "_model_name": "LayoutModel",
            "_view_count": null,
            "_view_module": "@jupyter-widgets/base",
            "_view_module_version": "1.2.0",
            "_view_name": "LayoutView",
            "align_content": null,
            "align_items": null,
            "align_self": null,
            "border": null,
            "bottom": null,
            "display": null,
            "flex": null,
            "flex_flow": null,
            "grid_area": null,
            "grid_auto_columns": null,
            "grid_auto_flow": null,
            "grid_auto_rows": null,
            "grid_column": null,
            "grid_gap": null,
            "grid_row": null,
            "grid_template_areas": null,
            "grid_template_columns": null,
            "grid_template_rows": null,
            "height": null,
            "justify_content": null,
            "justify_items": null,
            "left": null,
            "margin": null,
            "max_height": null,
            "max_width": null,
            "min_height": null,
            "min_width": null,
            "object_fit": null,
            "object_position": null,
            "order": null,
            "overflow": null,
            "overflow_x": null,
            "overflow_y": null,
            "padding": null,
            "right": null,
            "top": null,
            "visibility": null,
            "width": null
          }
        },
        "d0d29ef4832f4c51b63490dcd0b7321a": {
          "model_module": "@jupyter-widgets/controls",
          "model_name": "ProgressStyleModel",
          "model_module_version": "1.5.0",
          "state": {
            "_model_module": "@jupyter-widgets/controls",
            "_model_module_version": "1.5.0",
            "_model_name": "ProgressStyleModel",
            "_view_count": null,
            "_view_module": "@jupyter-widgets/base",
            "_view_module_version": "1.2.0",
            "_view_name": "StyleView",
            "bar_color": null,
            "description_width": ""
          }
        },
        "dc37b9e04c8c480a96cdb01f3f543a37": {
          "model_module": "@jupyter-widgets/base",
          "model_name": "LayoutModel",
          "model_module_version": "1.2.0",
          "state": {
            "_model_module": "@jupyter-widgets/base",
            "_model_module_version": "1.2.0",
            "_model_name": "LayoutModel",
            "_view_count": null,
            "_view_module": "@jupyter-widgets/base",
            "_view_module_version": "1.2.0",
            "_view_name": "LayoutView",
            "align_content": null,
            "align_items": null,
            "align_self": null,
            "border": null,
            "bottom": null,
            "display": null,
            "flex": null,
            "flex_flow": null,
            "grid_area": null,
            "grid_auto_columns": null,
            "grid_auto_flow": null,
            "grid_auto_rows": null,
            "grid_column": null,
            "grid_gap": null,
            "grid_row": null,
            "grid_template_areas": null,
            "grid_template_columns": null,
            "grid_template_rows": null,
            "height": null,
            "justify_content": null,
            "justify_items": null,
            "left": null,
            "margin": null,
            "max_height": null,
            "max_width": null,
            "min_height": null,
            "min_width": null,
            "object_fit": null,
            "object_position": null,
            "order": null,
            "overflow": null,
            "overflow_x": null,
            "overflow_y": null,
            "padding": null,
            "right": null,
            "top": null,
            "visibility": null,
            "width": null
          }
        },
        "951732f504604f8baf480d7f1760fbd1": {
          "model_module": "@jupyter-widgets/controls",
          "model_name": "DescriptionStyleModel",
          "model_module_version": "1.5.0",
          "state": {
            "_model_module": "@jupyter-widgets/controls",
            "_model_module_version": "1.5.0",
            "_model_name": "DescriptionStyleModel",
            "_view_count": null,
            "_view_module": "@jupyter-widgets/base",
            "_view_module_version": "1.2.0",
            "_view_name": "StyleView",
            "description_width": ""
          }
        },
        "8827a52655f34c20b1ad6793dfcfd7dc": {
          "model_module": "@jupyter-widgets/controls",
          "model_name": "HBoxModel",
          "model_module_version": "1.5.0",
          "state": {
            "_dom_classes": [],
            "_model_module": "@jupyter-widgets/controls",
            "_model_module_version": "1.5.0",
            "_model_name": "HBoxModel",
            "_view_count": null,
            "_view_module": "@jupyter-widgets/controls",
            "_view_module_version": "1.5.0",
            "_view_name": "HBoxView",
            "box_style": "",
            "children": [
              "IPY_MODEL_e023f192b56545d9b41fdf65337ea505",
              "IPY_MODEL_5d6f089e0b8849dd95af0bcf458919cf",
              "IPY_MODEL_54789985ef0a45629aacd7a334abb4dd"
            ],
            "layout": "IPY_MODEL_fb43d8ccf9514db58062d592cba297c6"
          }
        },
        "e023f192b56545d9b41fdf65337ea505": {
          "model_module": "@jupyter-widgets/controls",
          "model_name": "HTMLModel",
          "model_module_version": "1.5.0",
          "state": {
            "_dom_classes": [],
            "_model_module": "@jupyter-widgets/controls",
            "_model_module_version": "1.5.0",
            "_model_name": "HTMLModel",
            "_view_count": null,
            "_view_module": "@jupyter-widgets/controls",
            "_view_module_version": "1.5.0",
            "_view_name": "HTMLView",
            "description": "",
            "description_tooltip": null,
            "layout": "IPY_MODEL_63c6af1ca8104840b0691acd20cdf04c",
            "placeholder": "​",
            "style": "IPY_MODEL_a085653b4546498cbf8df67855e8a318",
            "value": "Map: 100%"
          }
        },
        "5d6f089e0b8849dd95af0bcf458919cf": {
          "model_module": "@jupyter-widgets/controls",
          "model_name": "FloatProgressModel",
          "model_module_version": "1.5.0",
          "state": {
            "_dom_classes": [],
            "_model_module": "@jupyter-widgets/controls",
            "_model_module_version": "1.5.0",
            "_model_name": "FloatProgressModel",
            "_view_count": null,
            "_view_module": "@jupyter-widgets/controls",
            "_view_module_version": "1.5.0",
            "_view_name": "ProgressView",
            "bar_style": "success",
            "description": "",
            "description_tooltip": null,
            "layout": "IPY_MODEL_3632c4a3e47a421d994625d8a169fd7c",
            "max": 5920,
            "min": 0,
            "orientation": "horizontal",
            "style": "IPY_MODEL_6ab83fc6c9604a849673eec027066ccd",
            "value": 5920
          }
        },
        "54789985ef0a45629aacd7a334abb4dd": {
          "model_module": "@jupyter-widgets/controls",
          "model_name": "HTMLModel",
          "model_module_version": "1.5.0",
          "state": {
            "_dom_classes": [],
            "_model_module": "@jupyter-widgets/controls",
            "_model_module_version": "1.5.0",
            "_model_name": "HTMLModel",
            "_view_count": null,
            "_view_module": "@jupyter-widgets/controls",
            "_view_module_version": "1.5.0",
            "_view_name": "HTMLView",
            "description": "",
            "description_tooltip": null,
            "layout": "IPY_MODEL_ba58db5153cf4045a855f795d08f7e74",
            "placeholder": "​",
            "style": "IPY_MODEL_3e778489ec2e4fca8c7322b636c72d45",
            "value": " 5920/5920 [00:01&lt;00:00, 6076.94 examples/s]"
          }
        },
        "fb43d8ccf9514db58062d592cba297c6": {
          "model_module": "@jupyter-widgets/base",
          "model_name": "LayoutModel",
          "model_module_version": "1.2.0",
          "state": {
            "_model_module": "@jupyter-widgets/base",
            "_model_module_version": "1.2.0",
            "_model_name": "LayoutModel",
            "_view_count": null,
            "_view_module": "@jupyter-widgets/base",
            "_view_module_version": "1.2.0",
            "_view_name": "LayoutView",
            "align_content": null,
            "align_items": null,
            "align_self": null,
            "border": null,
            "bottom": null,
            "display": null,
            "flex": null,
            "flex_flow": null,
            "grid_area": null,
            "grid_auto_columns": null,
            "grid_auto_flow": null,
            "grid_auto_rows": null,
            "grid_column": null,
            "grid_gap": null,
            "grid_row": null,
            "grid_template_areas": null,
            "grid_template_columns": null,
            "grid_template_rows": null,
            "height": null,
            "justify_content": null,
            "justify_items": null,
            "left": null,
            "margin": null,
            "max_height": null,
            "max_width": null,
            "min_height": null,
            "min_width": null,
            "object_fit": null,
            "object_position": null,
            "order": null,
            "overflow": null,
            "overflow_x": null,
            "overflow_y": null,
            "padding": null,
            "right": null,
            "top": null,
            "visibility": null,
            "width": null
          }
        },
        "63c6af1ca8104840b0691acd20cdf04c": {
          "model_module": "@jupyter-widgets/base",
          "model_name": "LayoutModel",
          "model_module_version": "1.2.0",
          "state": {
            "_model_module": "@jupyter-widgets/base",
            "_model_module_version": "1.2.0",
            "_model_name": "LayoutModel",
            "_view_count": null,
            "_view_module": "@jupyter-widgets/base",
            "_view_module_version": "1.2.0",
            "_view_name": "LayoutView",
            "align_content": null,
            "align_items": null,
            "align_self": null,
            "border": null,
            "bottom": null,
            "display": null,
            "flex": null,
            "flex_flow": null,
            "grid_area": null,
            "grid_auto_columns": null,
            "grid_auto_flow": null,
            "grid_auto_rows": null,
            "grid_column": null,
            "grid_gap": null,
            "grid_row": null,
            "grid_template_areas": null,
            "grid_template_columns": null,
            "grid_template_rows": null,
            "height": null,
            "justify_content": null,
            "justify_items": null,
            "left": null,
            "margin": null,
            "max_height": null,
            "max_width": null,
            "min_height": null,
            "min_width": null,
            "object_fit": null,
            "object_position": null,
            "order": null,
            "overflow": null,
            "overflow_x": null,
            "overflow_y": null,
            "padding": null,
            "right": null,
            "top": null,
            "visibility": null,
            "width": null
          }
        },
        "a085653b4546498cbf8df67855e8a318": {
          "model_module": "@jupyter-widgets/controls",
          "model_name": "DescriptionStyleModel",
          "model_module_version": "1.5.0",
          "state": {
            "_model_module": "@jupyter-widgets/controls",
            "_model_module_version": "1.5.0",
            "_model_name": "DescriptionStyleModel",
            "_view_count": null,
            "_view_module": "@jupyter-widgets/base",
            "_view_module_version": "1.2.0",
            "_view_name": "StyleView",
            "description_width": ""
          }
        },
        "3632c4a3e47a421d994625d8a169fd7c": {
          "model_module": "@jupyter-widgets/base",
          "model_name": "LayoutModel",
          "model_module_version": "1.2.0",
          "state": {
            "_model_module": "@jupyter-widgets/base",
            "_model_module_version": "1.2.0",
            "_model_name": "LayoutModel",
            "_view_count": null,
            "_view_module": "@jupyter-widgets/base",
            "_view_module_version": "1.2.0",
            "_view_name": "LayoutView",
            "align_content": null,
            "align_items": null,
            "align_self": null,
            "border": null,
            "bottom": null,
            "display": null,
            "flex": null,
            "flex_flow": null,
            "grid_area": null,
            "grid_auto_columns": null,
            "grid_auto_flow": null,
            "grid_auto_rows": null,
            "grid_column": null,
            "grid_gap": null,
            "grid_row": null,
            "grid_template_areas": null,
            "grid_template_columns": null,
            "grid_template_rows": null,
            "height": null,
            "justify_content": null,
            "justify_items": null,
            "left": null,
            "margin": null,
            "max_height": null,
            "max_width": null,
            "min_height": null,
            "min_width": null,
            "object_fit": null,
            "object_position": null,
            "order": null,
            "overflow": null,
            "overflow_x": null,
            "overflow_y": null,
            "padding": null,
            "right": null,
            "top": null,
            "visibility": null,
            "width": null
          }
        },
        "6ab83fc6c9604a849673eec027066ccd": {
          "model_module": "@jupyter-widgets/controls",
          "model_name": "ProgressStyleModel",
          "model_module_version": "1.5.0",
          "state": {
            "_model_module": "@jupyter-widgets/controls",
            "_model_module_version": "1.5.0",
            "_model_name": "ProgressStyleModel",
            "_view_count": null,
            "_view_module": "@jupyter-widgets/base",
            "_view_module_version": "1.2.0",
            "_view_name": "StyleView",
            "bar_color": null,
            "description_width": ""
          }
        },
        "ba58db5153cf4045a855f795d08f7e74": {
          "model_module": "@jupyter-widgets/base",
          "model_name": "LayoutModel",
          "model_module_version": "1.2.0",
          "state": {
            "_model_module": "@jupyter-widgets/base",
            "_model_module_version": "1.2.0",
            "_model_name": "LayoutModel",
            "_view_count": null,
            "_view_module": "@jupyter-widgets/base",
            "_view_module_version": "1.2.0",
            "_view_name": "LayoutView",
            "align_content": null,
            "align_items": null,
            "align_self": null,
            "border": null,
            "bottom": null,
            "display": null,
            "flex": null,
            "flex_flow": null,
            "grid_area": null,
            "grid_auto_columns": null,
            "grid_auto_flow": null,
            "grid_auto_rows": null,
            "grid_column": null,
            "grid_gap": null,
            "grid_row": null,
            "grid_template_areas": null,
            "grid_template_columns": null,
            "grid_template_rows": null,
            "height": null,
            "justify_content": null,
            "justify_items": null,
            "left": null,
            "margin": null,
            "max_height": null,
            "max_width": null,
            "min_height": null,
            "min_width": null,
            "object_fit": null,
            "object_position": null,
            "order": null,
            "overflow": null,
            "overflow_x": null,
            "overflow_y": null,
            "padding": null,
            "right": null,
            "top": null,
            "visibility": null,
            "width": null
          }
        },
        "3e778489ec2e4fca8c7322b636c72d45": {
          "model_module": "@jupyter-widgets/controls",
          "model_name": "DescriptionStyleModel",
          "model_module_version": "1.5.0",
          "state": {
            "_model_module": "@jupyter-widgets/controls",
            "_model_module_version": "1.5.0",
            "_model_name": "DescriptionStyleModel",
            "_view_count": null,
            "_view_module": "@jupyter-widgets/base",
            "_view_module_version": "1.2.0",
            "_view_name": "StyleView",
            "description_width": ""
          }
        },
        "ba7e00d625434246b0d9350c43c2b685": {
          "model_module": "@jupyter-widgets/controls",
          "model_name": "HBoxModel",
          "model_module_version": "1.5.0",
          "state": {
            "_dom_classes": [],
            "_model_module": "@jupyter-widgets/controls",
            "_model_module_version": "1.5.0",
            "_model_name": "HBoxModel",
            "_view_count": null,
            "_view_module": "@jupyter-widgets/controls",
            "_view_module_version": "1.5.0",
            "_view_name": "HBoxView",
            "box_style": "",
            "children": [
              "IPY_MODEL_26153eb79538457aa9b1c42d0cc2b1c4",
              "IPY_MODEL_9fa042736574449aa0d7480db94948f9",
              "IPY_MODEL_064305970f744149a30fe4806bd769b6"
            ],
            "layout": "IPY_MODEL_6659a84f236345c7aa7c42fc59e9d562"
          }
        },
        "26153eb79538457aa9b1c42d0cc2b1c4": {
          "model_module": "@jupyter-widgets/controls",
          "model_name": "HTMLModel",
          "model_module_version": "1.5.0",
          "state": {
            "_dom_classes": [],
            "_model_module": "@jupyter-widgets/controls",
            "_model_module_version": "1.5.0",
            "_model_name": "HTMLModel",
            "_view_count": null,
            "_view_module": "@jupyter-widgets/controls",
            "_view_module_version": "1.5.0",
            "_view_name": "HTMLView",
            "description": "",
            "description_tooltip": null,
            "layout": "IPY_MODEL_ca0322f52d0b48a8a487c36f0bf980e8",
            "placeholder": "​",
            "style": "IPY_MODEL_706281fc44d747d6afd0df8c92fce1ea",
            "value": "Map: 100%"
          }
        },
        "9fa042736574449aa0d7480db94948f9": {
          "model_module": "@jupyter-widgets/controls",
          "model_name": "FloatProgressModel",
          "model_module_version": "1.5.0",
          "state": {
            "_dom_classes": [],
            "_model_module": "@jupyter-widgets/controls",
            "_model_module_version": "1.5.0",
            "_model_name": "FloatProgressModel",
            "_view_count": null,
            "_view_module": "@jupyter-widgets/controls",
            "_view_module_version": "1.5.0",
            "_view_name": "ProgressView",
            "bar_style": "success",
            "description": "",
            "description_tooltip": null,
            "layout": "IPY_MODEL_0c3a06f8b6b14f2db7cb6ace3776d6b0",
            "max": 13471,
            "min": 0,
            "orientation": "horizontal",
            "style": "IPY_MODEL_6f28360f35a0406ba6bee5b6d13a06e4",
            "value": 13471
          }
        },
        "064305970f744149a30fe4806bd769b6": {
          "model_module": "@jupyter-widgets/controls",
          "model_name": "HTMLModel",
          "model_module_version": "1.5.0",
          "state": {
            "_dom_classes": [],
            "_model_module": "@jupyter-widgets/controls",
            "_model_module_version": "1.5.0",
            "_model_name": "HTMLModel",
            "_view_count": null,
            "_view_module": "@jupyter-widgets/controls",
            "_view_module_version": "1.5.0",
            "_view_name": "HTMLView",
            "description": "",
            "description_tooltip": null,
            "layout": "IPY_MODEL_7db13094f0564c528b4699e2ee294c44",
            "placeholder": "​",
            "style": "IPY_MODEL_16d1f0703ee34a4a98fcebe46f50ddce",
            "value": " 13471/13471 [00:01&lt;00:00, 9417.72 examples/s]"
          }
        },
        "6659a84f236345c7aa7c42fc59e9d562": {
          "model_module": "@jupyter-widgets/base",
          "model_name": "LayoutModel",
          "model_module_version": "1.2.0",
          "state": {
            "_model_module": "@jupyter-widgets/base",
            "_model_module_version": "1.2.0",
            "_model_name": "LayoutModel",
            "_view_count": null,
            "_view_module": "@jupyter-widgets/base",
            "_view_module_version": "1.2.0",
            "_view_name": "LayoutView",
            "align_content": null,
            "align_items": null,
            "align_self": null,
            "border": null,
            "bottom": null,
            "display": null,
            "flex": null,
            "flex_flow": null,
            "grid_area": null,
            "grid_auto_columns": null,
            "grid_auto_flow": null,
            "grid_auto_rows": null,
            "grid_column": null,
            "grid_gap": null,
            "grid_row": null,
            "grid_template_areas": null,
            "grid_template_columns": null,
            "grid_template_rows": null,
            "height": null,
            "justify_content": null,
            "justify_items": null,
            "left": null,
            "margin": null,
            "max_height": null,
            "max_width": null,
            "min_height": null,
            "min_width": null,
            "object_fit": null,
            "object_position": null,
            "order": null,
            "overflow": null,
            "overflow_x": null,
            "overflow_y": null,
            "padding": null,
            "right": null,
            "top": null,
            "visibility": null,
            "width": null
          }
        },
        "ca0322f52d0b48a8a487c36f0bf980e8": {
          "model_module": "@jupyter-widgets/base",
          "model_name": "LayoutModel",
          "model_module_version": "1.2.0",
          "state": {
            "_model_module": "@jupyter-widgets/base",
            "_model_module_version": "1.2.0",
            "_model_name": "LayoutModel",
            "_view_count": null,
            "_view_module": "@jupyter-widgets/base",
            "_view_module_version": "1.2.0",
            "_view_name": "LayoutView",
            "align_content": null,
            "align_items": null,
            "align_self": null,
            "border": null,
            "bottom": null,
            "display": null,
            "flex": null,
            "flex_flow": null,
            "grid_area": null,
            "grid_auto_columns": null,
            "grid_auto_flow": null,
            "grid_auto_rows": null,
            "grid_column": null,
            "grid_gap": null,
            "grid_row": null,
            "grid_template_areas": null,
            "grid_template_columns": null,
            "grid_template_rows": null,
            "height": null,
            "justify_content": null,
            "justify_items": null,
            "left": null,
            "margin": null,
            "max_height": null,
            "max_width": null,
            "min_height": null,
            "min_width": null,
            "object_fit": null,
            "object_position": null,
            "order": null,
            "overflow": null,
            "overflow_x": null,
            "overflow_y": null,
            "padding": null,
            "right": null,
            "top": null,
            "visibility": null,
            "width": null
          }
        },
        "706281fc44d747d6afd0df8c92fce1ea": {
          "model_module": "@jupyter-widgets/controls",
          "model_name": "DescriptionStyleModel",
          "model_module_version": "1.5.0",
          "state": {
            "_model_module": "@jupyter-widgets/controls",
            "_model_module_version": "1.5.0",
            "_model_name": "DescriptionStyleModel",
            "_view_count": null,
            "_view_module": "@jupyter-widgets/base",
            "_view_module_version": "1.2.0",
            "_view_name": "StyleView",
            "description_width": ""
          }
        },
        "0c3a06f8b6b14f2db7cb6ace3776d6b0": {
          "model_module": "@jupyter-widgets/base",
          "model_name": "LayoutModel",
          "model_module_version": "1.2.0",
          "state": {
            "_model_module": "@jupyter-widgets/base",
            "_model_module_version": "1.2.0",
            "_model_name": "LayoutModel",
            "_view_count": null,
            "_view_module": "@jupyter-widgets/base",
            "_view_module_version": "1.2.0",
            "_view_name": "LayoutView",
            "align_content": null,
            "align_items": null,
            "align_self": null,
            "border": null,
            "bottom": null,
            "display": null,
            "flex": null,
            "flex_flow": null,
            "grid_area": null,
            "grid_auto_columns": null,
            "grid_auto_flow": null,
            "grid_auto_rows": null,
            "grid_column": null,
            "grid_gap": null,
            "grid_row": null,
            "grid_template_areas": null,
            "grid_template_columns": null,
            "grid_template_rows": null,
            "height": null,
            "justify_content": null,
            "justify_items": null,
            "left": null,
            "margin": null,
            "max_height": null,
            "max_width": null,
            "min_height": null,
            "min_width": null,
            "object_fit": null,
            "object_position": null,
            "order": null,
            "overflow": null,
            "overflow_x": null,
            "overflow_y": null,
            "padding": null,
            "right": null,
            "top": null,
            "visibility": null,
            "width": null
          }
        },
        "6f28360f35a0406ba6bee5b6d13a06e4": {
          "model_module": "@jupyter-widgets/controls",
          "model_name": "ProgressStyleModel",
          "model_module_version": "1.5.0",
          "state": {
            "_model_module": "@jupyter-widgets/controls",
            "_model_module_version": "1.5.0",
            "_model_name": "ProgressStyleModel",
            "_view_count": null,
            "_view_module": "@jupyter-widgets/base",
            "_view_module_version": "1.2.0",
            "_view_name": "StyleView",
            "bar_color": null,
            "description_width": ""
          }
        },
        "7db13094f0564c528b4699e2ee294c44": {
          "model_module": "@jupyter-widgets/base",
          "model_name": "LayoutModel",
          "model_module_version": "1.2.0",
          "state": {
            "_model_module": "@jupyter-widgets/base",
            "_model_module_version": "1.2.0",
            "_model_name": "LayoutModel",
            "_view_count": null,
            "_view_module": "@jupyter-widgets/base",
            "_view_module_version": "1.2.0",
            "_view_name": "LayoutView",
            "align_content": null,
            "align_items": null,
            "align_self": null,
            "border": null,
            "bottom": null,
            "display": null,
            "flex": null,
            "flex_flow": null,
            "grid_area": null,
            "grid_auto_columns": null,
            "grid_auto_flow": null,
            "grid_auto_rows": null,
            "grid_column": null,
            "grid_gap": null,
            "grid_row": null,
            "grid_template_areas": null,
            "grid_template_columns": null,
            "grid_template_rows": null,
            "height": null,
            "justify_content": null,
            "justify_items": null,
            "left": null,
            "margin": null,
            "max_height": null,
            "max_width": null,
            "min_height": null,
            "min_width": null,
            "object_fit": null,
            "object_position": null,
            "order": null,
            "overflow": null,
            "overflow_x": null,
            "overflow_y": null,
            "padding": null,
            "right": null,
            "top": null,
            "visibility": null,
            "width": null
          }
        },
        "16d1f0703ee34a4a98fcebe46f50ddce": {
          "model_module": "@jupyter-widgets/controls",
          "model_name": "DescriptionStyleModel",
          "model_module_version": "1.5.0",
          "state": {
            "_model_module": "@jupyter-widgets/controls",
            "_model_module_version": "1.5.0",
            "_model_name": "DescriptionStyleModel",
            "_view_count": null,
            "_view_module": "@jupyter-widgets/base",
            "_view_module_version": "1.2.0",
            "_view_name": "StyleView",
            "description_width": ""
          }
        },
        "4fab4aad92e046c9876a8690b2f398d9": {
          "model_module": "@jupyter-widgets/controls",
          "model_name": "HBoxModel",
          "model_module_version": "1.5.0",
          "state": {
            "_dom_classes": [],
            "_model_module": "@jupyter-widgets/controls",
            "_model_module_version": "1.5.0",
            "_model_name": "HBoxModel",
            "_view_count": null,
            "_view_module": "@jupyter-widgets/controls",
            "_view_module_version": "1.5.0",
            "_view_name": "HBoxView",
            "box_style": "",
            "children": [
              "IPY_MODEL_f9e505f993374b07b29c5452271e552c",
              "IPY_MODEL_040e1b122e434ad38fc49117aa3ef901",
              "IPY_MODEL_1f00650d54884828af3769a2c0b73eac"
            ],
            "layout": "IPY_MODEL_d9782bda299e4eb38be264626e171b39"
          }
        },
        "f9e505f993374b07b29c5452271e552c": {
          "model_module": "@jupyter-widgets/controls",
          "model_name": "HTMLModel",
          "model_module_version": "1.5.0",
          "state": {
            "_dom_classes": [],
            "_model_module": "@jupyter-widgets/controls",
            "_model_module_version": "1.5.0",
            "_model_name": "HTMLModel",
            "_view_count": null,
            "_view_module": "@jupyter-widgets/controls",
            "_view_module_version": "1.5.0",
            "_view_name": "HTMLView",
            "description": "",
            "description_tooltip": null,
            "layout": "IPY_MODEL_e37a0625f77844c1b14f4d007249009c",
            "placeholder": "​",
            "style": "IPY_MODEL_33e3372d213249ae8465b61a1d402c35",
            "value": "Map: 100%"
          }
        },
        "040e1b122e434ad38fc49117aa3ef901": {
          "model_module": "@jupyter-widgets/controls",
          "model_name": "FloatProgressModel",
          "model_module_version": "1.5.0",
          "state": {
            "_dom_classes": [],
            "_model_module": "@jupyter-widgets/controls",
            "_model_module_version": "1.5.0",
            "_model_name": "FloatProgressModel",
            "_view_count": null,
            "_view_module": "@jupyter-widgets/controls",
            "_view_module_version": "1.5.0",
            "_view_name": "ProgressView",
            "bar_style": "success",
            "description": "",
            "description_tooltip": null,
            "layout": "IPY_MODEL_e0d4ab1da2a3416fa87ebc1cf33a24ff",
            "max": 1497,
            "min": 0,
            "orientation": "horizontal",
            "style": "IPY_MODEL_876f665776b84cb6a42a46e2cf7e7ca9",
            "value": 1497
          }
        },
        "1f00650d54884828af3769a2c0b73eac": {
          "model_module": "@jupyter-widgets/controls",
          "model_name": "HTMLModel",
          "model_module_version": "1.5.0",
          "state": {
            "_dom_classes": [],
            "_model_module": "@jupyter-widgets/controls",
            "_model_module_version": "1.5.0",
            "_model_name": "HTMLModel",
            "_view_count": null,
            "_view_module": "@jupyter-widgets/controls",
            "_view_module_version": "1.5.0",
            "_view_name": "HTMLView",
            "description": "",
            "description_tooltip": null,
            "layout": "IPY_MODEL_49aa2d61956344238ddb701b201e51fc",
            "placeholder": "​",
            "style": "IPY_MODEL_042d641a8937436580a1f12ceb000253",
            "value": " 1497/1497 [00:00&lt;00:00, 7932.34 examples/s]"
          }
        },
        "d9782bda299e4eb38be264626e171b39": {
          "model_module": "@jupyter-widgets/base",
          "model_name": "LayoutModel",
          "model_module_version": "1.2.0",
          "state": {
            "_model_module": "@jupyter-widgets/base",
            "_model_module_version": "1.2.0",
            "_model_name": "LayoutModel",
            "_view_count": null,
            "_view_module": "@jupyter-widgets/base",
            "_view_module_version": "1.2.0",
            "_view_name": "LayoutView",
            "align_content": null,
            "align_items": null,
            "align_self": null,
            "border": null,
            "bottom": null,
            "display": null,
            "flex": null,
            "flex_flow": null,
            "grid_area": null,
            "grid_auto_columns": null,
            "grid_auto_flow": null,
            "grid_auto_rows": null,
            "grid_column": null,
            "grid_gap": null,
            "grid_row": null,
            "grid_template_areas": null,
            "grid_template_columns": null,
            "grid_template_rows": null,
            "height": null,
            "justify_content": null,
            "justify_items": null,
            "left": null,
            "margin": null,
            "max_height": null,
            "max_width": null,
            "min_height": null,
            "min_width": null,
            "object_fit": null,
            "object_position": null,
            "order": null,
            "overflow": null,
            "overflow_x": null,
            "overflow_y": null,
            "padding": null,
            "right": null,
            "top": null,
            "visibility": null,
            "width": null
          }
        },
        "e37a0625f77844c1b14f4d007249009c": {
          "model_module": "@jupyter-widgets/base",
          "model_name": "LayoutModel",
          "model_module_version": "1.2.0",
          "state": {
            "_model_module": "@jupyter-widgets/base",
            "_model_module_version": "1.2.0",
            "_model_name": "LayoutModel",
            "_view_count": null,
            "_view_module": "@jupyter-widgets/base",
            "_view_module_version": "1.2.0",
            "_view_name": "LayoutView",
            "align_content": null,
            "align_items": null,
            "align_self": null,
            "border": null,
            "bottom": null,
            "display": null,
            "flex": null,
            "flex_flow": null,
            "grid_area": null,
            "grid_auto_columns": null,
            "grid_auto_flow": null,
            "grid_auto_rows": null,
            "grid_column": null,
            "grid_gap": null,
            "grid_row": null,
            "grid_template_areas": null,
            "grid_template_columns": null,
            "grid_template_rows": null,
            "height": null,
            "justify_content": null,
            "justify_items": null,
            "left": null,
            "margin": null,
            "max_height": null,
            "max_width": null,
            "min_height": null,
            "min_width": null,
            "object_fit": null,
            "object_position": null,
            "order": null,
            "overflow": null,
            "overflow_x": null,
            "overflow_y": null,
            "padding": null,
            "right": null,
            "top": null,
            "visibility": null,
            "width": null
          }
        },
        "33e3372d213249ae8465b61a1d402c35": {
          "model_module": "@jupyter-widgets/controls",
          "model_name": "DescriptionStyleModel",
          "model_module_version": "1.5.0",
          "state": {
            "_model_module": "@jupyter-widgets/controls",
            "_model_module_version": "1.5.0",
            "_model_name": "DescriptionStyleModel",
            "_view_count": null,
            "_view_module": "@jupyter-widgets/base",
            "_view_module_version": "1.2.0",
            "_view_name": "StyleView",
            "description_width": ""
          }
        },
        "e0d4ab1da2a3416fa87ebc1cf33a24ff": {
          "model_module": "@jupyter-widgets/base",
          "model_name": "LayoutModel",
          "model_module_version": "1.2.0",
          "state": {
            "_model_module": "@jupyter-widgets/base",
            "_model_module_version": "1.2.0",
            "_model_name": "LayoutModel",
            "_view_count": null,
            "_view_module": "@jupyter-widgets/base",
            "_view_module_version": "1.2.0",
            "_view_name": "LayoutView",
            "align_content": null,
            "align_items": null,
            "align_self": null,
            "border": null,
            "bottom": null,
            "display": null,
            "flex": null,
            "flex_flow": null,
            "grid_area": null,
            "grid_auto_columns": null,
            "grid_auto_flow": null,
            "grid_auto_rows": null,
            "grid_column": null,
            "grid_gap": null,
            "grid_row": null,
            "grid_template_areas": null,
            "grid_template_columns": null,
            "grid_template_rows": null,
            "height": null,
            "justify_content": null,
            "justify_items": null,
            "left": null,
            "margin": null,
            "max_height": null,
            "max_width": null,
            "min_height": null,
            "min_width": null,
            "object_fit": null,
            "object_position": null,
            "order": null,
            "overflow": null,
            "overflow_x": null,
            "overflow_y": null,
            "padding": null,
            "right": null,
            "top": null,
            "visibility": null,
            "width": null
          }
        },
        "876f665776b84cb6a42a46e2cf7e7ca9": {
          "model_module": "@jupyter-widgets/controls",
          "model_name": "ProgressStyleModel",
          "model_module_version": "1.5.0",
          "state": {
            "_model_module": "@jupyter-widgets/controls",
            "_model_module_version": "1.5.0",
            "_model_name": "ProgressStyleModel",
            "_view_count": null,
            "_view_module": "@jupyter-widgets/base",
            "_view_module_version": "1.2.0",
            "_view_name": "StyleView",
            "bar_color": null,
            "description_width": ""
          }
        },
        "49aa2d61956344238ddb701b201e51fc": {
          "model_module": "@jupyter-widgets/base",
          "model_name": "LayoutModel",
          "model_module_version": "1.2.0",
          "state": {
            "_model_module": "@jupyter-widgets/base",
            "_model_module_version": "1.2.0",
            "_model_name": "LayoutModel",
            "_view_count": null,
            "_view_module": "@jupyter-widgets/base",
            "_view_module_version": "1.2.0",
            "_view_name": "LayoutView",
            "align_content": null,
            "align_items": null,
            "align_self": null,
            "border": null,
            "bottom": null,
            "display": null,
            "flex": null,
            "flex_flow": null,
            "grid_area": null,
            "grid_auto_columns": null,
            "grid_auto_flow": null,
            "grid_auto_rows": null,
            "grid_column": null,
            "grid_gap": null,
            "grid_row": null,
            "grid_template_areas": null,
            "grid_template_columns": null,
            "grid_template_rows": null,
            "height": null,
            "justify_content": null,
            "justify_items": null,
            "left": null,
            "margin": null,
            "max_height": null,
            "max_width": null,
            "min_height": null,
            "min_width": null,
            "object_fit": null,
            "object_position": null,
            "order": null,
            "overflow": null,
            "overflow_x": null,
            "overflow_y": null,
            "padding": null,
            "right": null,
            "top": null,
            "visibility": null,
            "width": null
          }
        },
        "042d641a8937436580a1f12ceb000253": {
          "model_module": "@jupyter-widgets/controls",
          "model_name": "DescriptionStyleModel",
          "model_module_version": "1.5.0",
          "state": {
            "_model_module": "@jupyter-widgets/controls",
            "_model_module_version": "1.5.0",
            "_model_name": "DescriptionStyleModel",
            "_view_count": null,
            "_view_module": "@jupyter-widgets/base",
            "_view_module_version": "1.2.0",
            "_view_name": "StyleView",
            "description_width": ""
          }
        },
        "41c39de1a11d410eaad74c197be09db1": {
          "model_module": "@jupyter-widgets/controls",
          "model_name": "HBoxModel",
          "model_module_version": "1.5.0",
          "state": {
            "_dom_classes": [],
            "_model_module": "@jupyter-widgets/controls",
            "_model_module_version": "1.5.0",
            "_model_name": "HBoxModel",
            "_view_count": null,
            "_view_module": "@jupyter-widgets/controls",
            "_view_module_version": "1.5.0",
            "_view_name": "HBoxView",
            "box_style": "",
            "children": [
              "IPY_MODEL_6020be2a91f94c1a9652d776609aa6d5",
              "IPY_MODEL_712129fac1c9437f9cefc3375c2edb93",
              "IPY_MODEL_191c4ac205884d3a9748e80ff95ab1f7"
            ],
            "layout": "IPY_MODEL_2afe23f4ce2947edb63e11ceb415f990"
          }
        },
        "6020be2a91f94c1a9652d776609aa6d5": {
          "model_module": "@jupyter-widgets/controls",
          "model_name": "HTMLModel",
          "model_module_version": "1.5.0",
          "state": {
            "_dom_classes": [],
            "_model_module": "@jupyter-widgets/controls",
            "_model_module_version": "1.5.0",
            "_model_name": "HTMLModel",
            "_view_count": null,
            "_view_module": "@jupyter-widgets/controls",
            "_view_module_version": "1.5.0",
            "_view_name": "HTMLView",
            "description": "",
            "description_tooltip": null,
            "layout": "IPY_MODEL_ff2d244001b24897af9c2c0956dbb873",
            "placeholder": "​",
            "style": "IPY_MODEL_9b2819a5df8d41b59bc13701bde9d98f",
            "value": "Map: 100%"
          }
        },
        "712129fac1c9437f9cefc3375c2edb93": {
          "model_module": "@jupyter-widgets/controls",
          "model_name": "FloatProgressModel",
          "model_module_version": "1.5.0",
          "state": {
            "_dom_classes": [],
            "_model_module": "@jupyter-widgets/controls",
            "_model_module_version": "1.5.0",
            "_model_name": "FloatProgressModel",
            "_view_count": null,
            "_view_module": "@jupyter-widgets/controls",
            "_view_module_version": "1.5.0",
            "_view_name": "ProgressView",
            "bar_style": "success",
            "description": "",
            "description_tooltip": null,
            "layout": "IPY_MODEL_dbf334fe7dce46639273e45c814fe6ee",
            "max": 400,
            "min": 0,
            "orientation": "horizontal",
            "style": "IPY_MODEL_5575b6539450472c97f8e6f67b32698e",
            "value": 400
          }
        },
        "191c4ac205884d3a9748e80ff95ab1f7": {
          "model_module": "@jupyter-widgets/controls",
          "model_name": "HTMLModel",
          "model_module_version": "1.5.0",
          "state": {
            "_dom_classes": [],
            "_model_module": "@jupyter-widgets/controls",
            "_model_module_version": "1.5.0",
            "_model_name": "HTMLModel",
            "_view_count": null,
            "_view_module": "@jupyter-widgets/controls",
            "_view_module_version": "1.5.0",
            "_view_name": "HTMLView",
            "description": "",
            "description_tooltip": null,
            "layout": "IPY_MODEL_b84620c051d34654a0bd628f1388c6f5",
            "placeholder": "​",
            "style": "IPY_MODEL_f9f09835e67b4cd1bc4459de6cd6ab18",
            "value": " 400/400 [00:00&lt;00:00, 9249.61 examples/s]"
          }
        },
        "2afe23f4ce2947edb63e11ceb415f990": {
          "model_module": "@jupyter-widgets/base",
          "model_name": "LayoutModel",
          "model_module_version": "1.2.0",
          "state": {
            "_model_module": "@jupyter-widgets/base",
            "_model_module_version": "1.2.0",
            "_model_name": "LayoutModel",
            "_view_count": null,
            "_view_module": "@jupyter-widgets/base",
            "_view_module_version": "1.2.0",
            "_view_name": "LayoutView",
            "align_content": null,
            "align_items": null,
            "align_self": null,
            "border": null,
            "bottom": null,
            "display": null,
            "flex": null,
            "flex_flow": null,
            "grid_area": null,
            "grid_auto_columns": null,
            "grid_auto_flow": null,
            "grid_auto_rows": null,
            "grid_column": null,
            "grid_gap": null,
            "grid_row": null,
            "grid_template_areas": null,
            "grid_template_columns": null,
            "grid_template_rows": null,
            "height": null,
            "justify_content": null,
            "justify_items": null,
            "left": null,
            "margin": null,
            "max_height": null,
            "max_width": null,
            "min_height": null,
            "min_width": null,
            "object_fit": null,
            "object_position": null,
            "order": null,
            "overflow": null,
            "overflow_x": null,
            "overflow_y": null,
            "padding": null,
            "right": null,
            "top": null,
            "visibility": null,
            "width": null
          }
        },
        "ff2d244001b24897af9c2c0956dbb873": {
          "model_module": "@jupyter-widgets/base",
          "model_name": "LayoutModel",
          "model_module_version": "1.2.0",
          "state": {
            "_model_module": "@jupyter-widgets/base",
            "_model_module_version": "1.2.0",
            "_model_name": "LayoutModel",
            "_view_count": null,
            "_view_module": "@jupyter-widgets/base",
            "_view_module_version": "1.2.0",
            "_view_name": "LayoutView",
            "align_content": null,
            "align_items": null,
            "align_self": null,
            "border": null,
            "bottom": null,
            "display": null,
            "flex": null,
            "flex_flow": null,
            "grid_area": null,
            "grid_auto_columns": null,
            "grid_auto_flow": null,
            "grid_auto_rows": null,
            "grid_column": null,
            "grid_gap": null,
            "grid_row": null,
            "grid_template_areas": null,
            "grid_template_columns": null,
            "grid_template_rows": null,
            "height": null,
            "justify_content": null,
            "justify_items": null,
            "left": null,
            "margin": null,
            "max_height": null,
            "max_width": null,
            "min_height": null,
            "min_width": null,
            "object_fit": null,
            "object_position": null,
            "order": null,
            "overflow": null,
            "overflow_x": null,
            "overflow_y": null,
            "padding": null,
            "right": null,
            "top": null,
            "visibility": null,
            "width": null
          }
        },
        "9b2819a5df8d41b59bc13701bde9d98f": {
          "model_module": "@jupyter-widgets/controls",
          "model_name": "DescriptionStyleModel",
          "model_module_version": "1.5.0",
          "state": {
            "_model_module": "@jupyter-widgets/controls",
            "_model_module_version": "1.5.0",
            "_model_name": "DescriptionStyleModel",
            "_view_count": null,
            "_view_module": "@jupyter-widgets/base",
            "_view_module_version": "1.2.0",
            "_view_name": "StyleView",
            "description_width": ""
          }
        },
        "dbf334fe7dce46639273e45c814fe6ee": {
          "model_module": "@jupyter-widgets/base",
          "model_name": "LayoutModel",
          "model_module_version": "1.2.0",
          "state": {
            "_model_module": "@jupyter-widgets/base",
            "_model_module_version": "1.2.0",
            "_model_name": "LayoutModel",
            "_view_count": null,
            "_view_module": "@jupyter-widgets/base",
            "_view_module_version": "1.2.0",
            "_view_name": "LayoutView",
            "align_content": null,
            "align_items": null,
            "align_self": null,
            "border": null,
            "bottom": null,
            "display": null,
            "flex": null,
            "flex_flow": null,
            "grid_area": null,
            "grid_auto_columns": null,
            "grid_auto_flow": null,
            "grid_auto_rows": null,
            "grid_column": null,
            "grid_gap": null,
            "grid_row": null,
            "grid_template_areas": null,
            "grid_template_columns": null,
            "grid_template_rows": null,
            "height": null,
            "justify_content": null,
            "justify_items": null,
            "left": null,
            "margin": null,
            "max_height": null,
            "max_width": null,
            "min_height": null,
            "min_width": null,
            "object_fit": null,
            "object_position": null,
            "order": null,
            "overflow": null,
            "overflow_x": null,
            "overflow_y": null,
            "padding": null,
            "right": null,
            "top": null,
            "visibility": null,
            "width": null
          }
        },
        "5575b6539450472c97f8e6f67b32698e": {
          "model_module": "@jupyter-widgets/controls",
          "model_name": "ProgressStyleModel",
          "model_module_version": "1.5.0",
          "state": {
            "_model_module": "@jupyter-widgets/controls",
            "_model_module_version": "1.5.0",
            "_model_name": "ProgressStyleModel",
            "_view_count": null,
            "_view_module": "@jupyter-widgets/base",
            "_view_module_version": "1.2.0",
            "_view_name": "StyleView",
            "bar_color": null,
            "description_width": ""
          }
        },
        "b84620c051d34654a0bd628f1388c6f5": {
          "model_module": "@jupyter-widgets/base",
          "model_name": "LayoutModel",
          "model_module_version": "1.2.0",
          "state": {
            "_model_module": "@jupyter-widgets/base",
            "_model_module_version": "1.2.0",
            "_model_name": "LayoutModel",
            "_view_count": null,
            "_view_module": "@jupyter-widgets/base",
            "_view_module_version": "1.2.0",
            "_view_name": "LayoutView",
            "align_content": null,
            "align_items": null,
            "align_self": null,
            "border": null,
            "bottom": null,
            "display": null,
            "flex": null,
            "flex_flow": null,
            "grid_area": null,
            "grid_auto_columns": null,
            "grid_auto_flow": null,
            "grid_auto_rows": null,
            "grid_column": null,
            "grid_gap": null,
            "grid_row": null,
            "grid_template_areas": null,
            "grid_template_columns": null,
            "grid_template_rows": null,
            "height": null,
            "justify_content": null,
            "justify_items": null,
            "left": null,
            "margin": null,
            "max_height": null,
            "max_width": null,
            "min_height": null,
            "min_width": null,
            "object_fit": null,
            "object_position": null,
            "order": null,
            "overflow": null,
            "overflow_x": null,
            "overflow_y": null,
            "padding": null,
            "right": null,
            "top": null,
            "visibility": null,
            "width": null
          }
        },
        "f9f09835e67b4cd1bc4459de6cd6ab18": {
          "model_module": "@jupyter-widgets/controls",
          "model_name": "DescriptionStyleModel",
          "model_module_version": "1.5.0",
          "state": {
            "_model_module": "@jupyter-widgets/controls",
            "_model_module_version": "1.5.0",
            "_model_name": "DescriptionStyleModel",
            "_view_count": null,
            "_view_module": "@jupyter-widgets/base",
            "_view_module_version": "1.2.0",
            "_view_name": "StyleView",
            "description_width": ""
          }
        }
      }
    },
    "accelerator": "GPU"
  },
  "nbformat": 4,
  "nbformat_minor": 0
}